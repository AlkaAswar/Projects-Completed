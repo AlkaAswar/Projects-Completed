{
 "cells": [
  {
   "cell_type": "markdown",
   "metadata": {
    "_cell_guid": "f7567d7a-f939-4541-b78c-a4131d0168a4",
    "_uuid": "780c4197-0602-495e-93d8-62c23a07adab",
    "execution": {
     "iopub.execute_input": "2022-08-31T16:32:59.672345Z",
     "iopub.status.busy": "2022-08-31T16:32:59.671823Z",
     "iopub.status.idle": "2022-08-31T16:32:59.680872Z",
     "shell.execute_reply": "2022-08-31T16:32:59.679617Z",
     "shell.execute_reply.started": "2022-08-31T16:32:59.672309Z"
    }
   },
   "source": [
    "<p style=\"font-family:verdana;color:#29285D;font-size:200%;text-align:center\"><b>🛒\n",
    "    Predict the probabilities of default  🛒<br>\n",
    "    </p> \n",
    "<p style=\"font-family:verdana;text-align:center\">***************</p>"
   ]
  },
  {
   "cell_type": "markdown",
   "metadata": {
    "_cell_guid": "04e408f2-d9ea-4184-bb85-3f90a5039f45",
    "_uuid": "23465cb6-50ee-4f7c-9837-36f20357ff5f"
   },
   "source": [
    "\n",
    "<h2 style=\"background-color:green;font-family:verdana;color:white;font-size:100%;text-align:center;border-radius:10px 10px;letter-spacing:0.5px;padding: 10px\"> Step 1 : Understand The Business Problem </h2>"
   ]
  },
  {
   "cell_type": "markdown",
   "metadata": {
    "_cell_guid": "02538612-7381-4b86-b6a4-e92c51f45434",
    "_uuid": "efad9c4b-5973-448a-9b9f-dc80bf326f63"
   },
   "source": [
    "<div style=\"color:white;\n",
    "           display:fill;\n",
    "           background-color:#29285D;\n",
    "           padding: 10px;\n",
    "           font-family:Verdana;\n",
    "           letter-spacing:0.5px\">\n",
    "    <h3 style=\"color:white;padding-left:20px\"><b>Business Statement 👀</b></h3>\n",
    "       <p style=\"color:white;font-size:110%;padding-left:50px\">\n",
    "         What is Credit Risk?\n",
    "\n",
    "In simple words, it is the risk of borrower not repaying loan, \n",
    "\n",
    "credit card or any other type of loan. Sometimes customers pay some \n",
    "\n",
    "installments of loan but don't repay the full amount which includes \n",
    "\n",
    "principal amount plus interest.\n",
    "           ![image.png](attachment:image.png)\n",
    "        </p>\n",
    "    </div>"
   ]
  },
  {
   "cell_type": "markdown",
   "metadata": {
    "_cell_guid": "5d582979-074f-4a9d-917e-23b0ca365293",
    "_uuid": "28133b42-c9f6-4b54-8bdf-9c3961bb5b96",
    "execution": {
     "iopub.execute_input": "2022-08-31T16:38:04.521416Z",
     "iopub.status.busy": "2022-08-31T16:38:04.520901Z",
     "iopub.status.idle": "2022-08-31T16:38:04.529790Z",
     "shell.execute_reply": "2022-08-31T16:38:04.528176Z",
     "shell.execute_reply.started": "2022-08-31T16:38:04.521380Z"
    }
   },
   "source": [
    " <h2 style=\"background-color:green;font-family:verdana;color:white;font-size:100%;text-align:center;border-radius:10px 10px;letter-spacing:0.5px;padding: 10px\"> Step 2 : Load The Data </h2>"
   ]
  },
  {
   "cell_type": "code",
   "execution_count": 74,
   "metadata": {
    "_cell_guid": "773fcfac-9db1-422f-bbad-ceda093c0cae",
    "_uuid": "4e022b43-69b5-4634-9d5c-c111602808d5",
    "execution": {
     "iopub.execute_input": "2022-09-06T09:46:42.500015Z",
     "iopub.status.busy": "2022-09-06T09:46:42.499487Z",
     "iopub.status.idle": "2022-09-06T09:46:42.521385Z",
     "shell.execute_reply": "2022-09-06T09:46:42.520358Z",
     "shell.execute_reply.started": "2022-09-06T09:46:42.499975Z"
    },
    "jupyter": {
     "outputs_hidden": false
    }
   },
   "outputs": [],
   "source": [
    "import numpy as np\n",
    "import scipy as sp\n",
    "import pandas as pd\n",
    "import matplotlib as mpl\n",
    "import matplotlib.pyplot as plt\n",
    "import seaborn as sns\n",
    "\n",
    "# Pandas options\n",
    "pd.set_option('display.max_colwidth', 1000, 'display.max_rows', None, 'display.max_columns', None)\n",
    "\n",
    "# Plotting options\n",
    "%matplotlib inline\n",
    "mpl.style.use('ggplot')\n",
    "sns.set(style='whitegrid')\n",
    "import matplotlib.pyplot as plt\n",
    "import seaborn as sns\n",
    "sns.set_style('whitegrid')\n",
    "%matplotlib inline\n",
    "\n",
    "import warnings\n",
    "warnings.filterwarnings(\"ignore\")\n",
    "import warnings\n",
    "warnings.filterwarnings('ignore')\n",
    "\n",
    "from collections import Counter\n",
    "\n",
    "from sklearn.ensemble import RandomForestClassifier, VotingClassifier"
   ]
  },
  {
   "cell_type": "code",
   "execution_count": 75,
   "metadata": {
    "_cell_guid": "aa03e21f-77c5-4d76-9e25-65a3daef6647",
    "_uuid": "cc2ef1d2-cf39-4caf-be7b-c1ef45ef875e",
    "execution": {
     "iopub.execute_input": "2022-09-06T09:46:43.979170Z",
     "iopub.status.busy": "2022-09-06T09:46:43.978740Z",
     "iopub.status.idle": "2022-09-06T09:46:53.844666Z",
     "shell.execute_reply": "2022-09-06T09:46:53.843314Z",
     "shell.execute_reply.started": "2022-09-06T09:46:43.979135Z"
    },
    "jupyter": {
     "outputs_hidden": false
    }
   },
   "outputs": [],
   "source": [
    "data=pd.read_csv('/kaggle/input/newdata/loan_data.csv',low_memory=False)"
   ]
  },
  {
   "cell_type": "code",
   "execution_count": 76,
   "metadata": {
    "_cell_guid": "94e3db36-5dc3-4507-98d5-f7fc93a12225",
    "_uuid": "328634e0-0069-4b58-8f80-cf2cb00f32e2",
    "execution": {
     "iopub.execute_input": "2022-09-06T09:46:59.559917Z",
     "iopub.status.busy": "2022-09-06T09:46:59.558934Z",
     "iopub.status.idle": "2022-09-06T09:47:00.086705Z",
     "shell.execute_reply": "2022-09-06T09:47:00.085359Z",
     "shell.execute_reply.started": "2022-09-06T09:46:59.559863Z"
    },
    "jupyter": {
     "outputs_hidden": false
    }
   },
   "outputs": [
    {
     "name": "stdout",
     "output_type": "stream",
     "text": [
      "<class 'pandas.core.frame.DataFrame'>\n",
      "RangeIndex: 466285 entries, 0 to 466284\n",
      "Data columns (total 74 columns):\n",
      " #   Column                       Non-Null Count   Dtype  \n",
      "---  ------                       --------------   -----  \n",
      " 0   id                           466285 non-null  int64  \n",
      " 1   member_id                    466285 non-null  int64  \n",
      " 2   loan_amnt                    466285 non-null  int64  \n",
      " 3   funded_amnt                  466285 non-null  int64  \n",
      " 4   funded_amnt_inv              466285 non-null  float64\n",
      " 5   term                         466285 non-null  object \n",
      " 6   int_rate                     466285 non-null  float64\n",
      " 7   installment                  466285 non-null  float64\n",
      " 8   grade                        466285 non-null  object \n",
      " 9   sub_grade                    466285 non-null  object \n",
      " 10  emp_title                    438697 non-null  object \n",
      " 11  emp_length                   445277 non-null  object \n",
      " 12  home_ownership               466285 non-null  object \n",
      " 13  annual_inc                   466281 non-null  float64\n",
      " 14  verification_status          466285 non-null  object \n",
      " 15  issue_d                      466285 non-null  object \n",
      " 16  loan_status                  466285 non-null  object \n",
      " 17  pymnt_plan                   466285 non-null  object \n",
      " 18  url                          466285 non-null  object \n",
      " 19  desc                         125983 non-null  object \n",
      " 20  purpose                      466285 non-null  object \n",
      " 21  title                        466265 non-null  object \n",
      " 22  zip_code                     466285 non-null  object \n",
      " 23  addr_state                   466285 non-null  object \n",
      " 24  dti                          466285 non-null  float64\n",
      " 25  delinq_2yrs                  466256 non-null  float64\n",
      " 26  earliest_cr_line             466256 non-null  object \n",
      " 27  inq_last_6mths               466256 non-null  float64\n",
      " 28  mths_since_last_delinq       215934 non-null  float64\n",
      " 29  mths_since_last_record       62638 non-null   float64\n",
      " 30  open_acc                     466256 non-null  float64\n",
      " 31  pub_rec                      466256 non-null  float64\n",
      " 32  revol_bal                    466285 non-null  int64  \n",
      " 33  revol_util                   465945 non-null  float64\n",
      " 34  total_acc                    466256 non-null  float64\n",
      " 35  initial_list_status          466285 non-null  object \n",
      " 36  out_prncp                    466285 non-null  float64\n",
      " 37  out_prncp_inv                466285 non-null  float64\n",
      " 38  total_pymnt                  466285 non-null  float64\n",
      " 39  total_pymnt_inv              466285 non-null  float64\n",
      " 40  total_rec_prncp              466285 non-null  float64\n",
      " 41  total_rec_int                466285 non-null  float64\n",
      " 42  total_rec_late_fee           466285 non-null  float64\n",
      " 43  recoveries                   466285 non-null  float64\n",
      " 44  collection_recovery_fee      466285 non-null  float64\n",
      " 45  last_pymnt_d                 465909 non-null  object \n",
      " 46  last_pymnt_amnt              466285 non-null  float64\n",
      " 47  next_pymnt_d                 239071 non-null  object \n",
      " 48  last_credit_pull_d           466243 non-null  object \n",
      " 49  collections_12_mths_ex_med   466140 non-null  float64\n",
      " 50  mths_since_last_major_derog  98974 non-null   float64\n",
      " 51  policy_code                  466285 non-null  int64  \n",
      " 52  application_type             466285 non-null  object \n",
      " 53  annual_inc_joint             0 non-null       float64\n",
      " 54  dti_joint                    0 non-null       float64\n",
      " 55  verification_status_joint    0 non-null       float64\n",
      " 56  acc_now_delinq               466256 non-null  float64\n",
      " 57  tot_coll_amt                 396009 non-null  float64\n",
      " 58  tot_cur_bal                  396009 non-null  float64\n",
      " 59  open_acc_6m                  0 non-null       float64\n",
      " 60  open_il_6m                   0 non-null       float64\n",
      " 61  open_il_12m                  0 non-null       float64\n",
      " 62  open_il_24m                  0 non-null       float64\n",
      " 63  mths_since_rcnt_il           0 non-null       float64\n",
      " 64  total_bal_il                 0 non-null       float64\n",
      " 65  il_util                      0 non-null       float64\n",
      " 66  open_rv_12m                  0 non-null       float64\n",
      " 67  open_rv_24m                  0 non-null       float64\n",
      " 68  max_bal_bc                   0 non-null       float64\n",
      " 69  all_util                     0 non-null       float64\n",
      " 70  total_rev_hi_lim             396009 non-null  float64\n",
      " 71  inq_fi                       0 non-null       float64\n",
      " 72  total_cu_tl                  0 non-null       float64\n",
      " 73  inq_last_12m                 0 non-null       float64\n",
      "dtypes: float64(46), int64(6), object(22)\n",
      "memory usage: 263.3+ MB\n"
     ]
    }
   ],
   "source": [
    "data.info()"
   ]
  },
  {
   "cell_type": "markdown",
   "metadata": {
    "_cell_guid": "58abacae-413b-4ea2-bada-acbfd695a738",
    "_uuid": "cc7b15db-b140-4b6a-ba16-234c32c11a2a"
   },
   "source": [
    "<h2 style=\"background-color:green;font-family:verdana;color:white;font-size:100%;text-align:center;border-radius:10px 10px;letter-spacing:0.5px;padding: 10px\"> Step 3: EDA and Visualization </h2>"
   ]
  },
  {
   "cell_type": "code",
   "execution_count": 77,
   "metadata": {
    "_cell_guid": "e24b995c-cc81-45ec-a8c0-53b54ea8c711",
    "_uuid": "177269b4-48c5-498b-9da4-1ad02b0e17f8",
    "execution": {
     "iopub.execute_input": "2022-09-06T09:47:01.558647Z",
     "iopub.status.busy": "2022-09-06T09:47:01.558177Z",
     "iopub.status.idle": "2022-09-06T09:47:02.056674Z",
     "shell.execute_reply": "2022-09-06T09:47:02.055486Z",
     "shell.execute_reply.started": "2022-09-06T09:47:01.558605Z"
    },
    "jupyter": {
     "outputs_hidden": false
    }
   },
   "outputs": [
    {
     "data": {
      "text/plain": [
       "id                             0\n",
       "member_id                      0\n",
       "loan_amnt                      0\n",
       "funded_amnt                    0\n",
       "funded_amnt_inv                0\n",
       "term                           0\n",
       "int_rate                       0\n",
       "installment                    0\n",
       "grade                          0\n",
       "sub_grade                      0\n",
       "emp_title                  27588\n",
       "emp_length                 21008\n",
       "home_ownership                 0\n",
       "annual_inc                     4\n",
       "verification_status            0\n",
       "issue_d                        0\n",
       "loan_status                    0\n",
       "pymnt_plan                     0\n",
       "url                            0\n",
       "desc                      340302\n",
       "purpose                        0\n",
       "title                         20\n",
       "zip_code                       0\n",
       "addr_state                     0\n",
       "dti                            0\n",
       "delinq_2yrs                   29\n",
       "earliest_cr_line              29\n",
       "inq_last_6mths                29\n",
       "mths_since_last_delinq    250351\n",
       "mths_since_last_record    403647\n",
       "open_acc                      29\n",
       "pub_rec                       29\n",
       "revol_bal                      0\n",
       "revol_util                   340\n",
       "total_acc                     29\n",
       "initial_list_status            0\n",
       "out_prncp                      0\n",
       "out_prncp_inv                  0\n",
       "total_pymnt                    0\n",
       "total_pymnt_inv                0\n",
       "dtype: int64"
      ]
     },
     "execution_count": 77,
     "metadata": {},
     "output_type": "execute_result"
    }
   ],
   "source": [
    "data.isnull().sum().head(40)"
   ]
  },
  {
   "cell_type": "code",
   "execution_count": 78,
   "metadata": {
    "_cell_guid": "a259800d-32ff-49e4-a9d4-e3b86e35be4c",
    "_uuid": "eae79641-a654-4719-a7a5-848fe956d17f",
    "execution": {
     "iopub.execute_input": "2022-09-06T09:47:03.053944Z",
     "iopub.status.busy": "2022-09-06T09:47:03.053467Z",
     "iopub.status.idle": "2022-09-06T09:47:03.061321Z",
     "shell.execute_reply": "2022-09-06T09:47:03.060217Z",
     "shell.execute_reply.started": "2022-09-06T09:47:03.053906Z"
    },
    "jupyter": {
     "outputs_hidden": false
    }
   },
   "outputs": [
    {
     "data": {
      "text/plain": [
       "(466285, 74)"
      ]
     },
     "execution_count": 78,
     "metadata": {},
     "output_type": "execute_result"
    }
   ],
   "source": [
    "data.shape"
   ]
  },
  {
   "cell_type": "code",
   "execution_count": 79,
   "metadata": {
    "_cell_guid": "12ebda2f-fcd1-4b67-a44f-3e80e83e5e1a",
    "_uuid": "027c4f82-453a-4db4-98eb-f621f4a90a83",
    "execution": {
     "iopub.execute_input": "2022-09-06T09:47:03.544471Z",
     "iopub.status.busy": "2022-09-06T09:47:03.543123Z",
     "iopub.status.idle": "2022-09-06T09:47:04.684479Z",
     "shell.execute_reply": "2022-09-06T09:47:04.683531Z",
     "shell.execute_reply.started": "2022-09-06T09:47:03.544420Z"
    },
    "jupyter": {
     "outputs_hidden": false
    }
   },
   "outputs": [
    {
     "data": {
      "text/html": [
       "<div>\n",
       "<style scoped>\n",
       "    .dataframe tbody tr th:only-of-type {\n",
       "        vertical-align: middle;\n",
       "    }\n",
       "\n",
       "    .dataframe tbody tr th {\n",
       "        vertical-align: top;\n",
       "    }\n",
       "\n",
       "    .dataframe thead th {\n",
       "        text-align: right;\n",
       "    }\n",
       "</style>\n",
       "<table border=\"1\" class=\"dataframe\">\n",
       "  <thead>\n",
       "    <tr style=\"text-align: right;\">\n",
       "      <th></th>\n",
       "      <th>count</th>\n",
       "      <th>mean</th>\n",
       "      <th>std</th>\n",
       "      <th>min</th>\n",
       "      <th>25%</th>\n",
       "      <th>50%</th>\n",
       "      <th>75%</th>\n",
       "      <th>max</th>\n",
       "    </tr>\n",
       "  </thead>\n",
       "  <tbody>\n",
       "    <tr>\n",
       "      <th>id</th>\n",
       "      <td>466285.0</td>\n",
       "      <td>1.307973e+07</td>\n",
       "      <td>1.089371e+07</td>\n",
       "      <td>54734.00</td>\n",
       "      <td>3.639987e+06</td>\n",
       "      <td>1.010790e+07</td>\n",
       "      <td>2.073121e+07</td>\n",
       "      <td>3.809811e+07</td>\n",
       "    </tr>\n",
       "    <tr>\n",
       "      <th>member_id</th>\n",
       "      <td>466285.0</td>\n",
       "      <td>1.459766e+07</td>\n",
       "      <td>1.168237e+07</td>\n",
       "      <td>70473.00</td>\n",
       "      <td>4.379705e+06</td>\n",
       "      <td>1.194108e+07</td>\n",
       "      <td>2.300154e+07</td>\n",
       "      <td>4.086083e+07</td>\n",
       "    </tr>\n",
       "    <tr>\n",
       "      <th>loan_amnt</th>\n",
       "      <td>466285.0</td>\n",
       "      <td>1.431728e+04</td>\n",
       "      <td>8.286509e+03</td>\n",
       "      <td>500.00</td>\n",
       "      <td>8.000000e+03</td>\n",
       "      <td>1.200000e+04</td>\n",
       "      <td>2.000000e+04</td>\n",
       "      <td>3.500000e+04</td>\n",
       "    </tr>\n",
       "    <tr>\n",
       "      <th>funded_amnt</th>\n",
       "      <td>466285.0</td>\n",
       "      <td>1.429180e+04</td>\n",
       "      <td>8.274371e+03</td>\n",
       "      <td>500.00</td>\n",
       "      <td>8.000000e+03</td>\n",
       "      <td>1.200000e+04</td>\n",
       "      <td>2.000000e+04</td>\n",
       "      <td>3.500000e+04</td>\n",
       "    </tr>\n",
       "    <tr>\n",
       "      <th>funded_amnt_inv</th>\n",
       "      <td>466285.0</td>\n",
       "      <td>1.422233e+04</td>\n",
       "      <td>8.297638e+03</td>\n",
       "      <td>0.00</td>\n",
       "      <td>8.000000e+03</td>\n",
       "      <td>1.200000e+04</td>\n",
       "      <td>1.995000e+04</td>\n",
       "      <td>3.500000e+04</td>\n",
       "    </tr>\n",
       "    <tr>\n",
       "      <th>int_rate</th>\n",
       "      <td>466285.0</td>\n",
       "      <td>1.382924e+01</td>\n",
       "      <td>4.357587e+00</td>\n",
       "      <td>5.42</td>\n",
       "      <td>1.099000e+01</td>\n",
       "      <td>1.366000e+01</td>\n",
       "      <td>1.649000e+01</td>\n",
       "      <td>2.606000e+01</td>\n",
       "    </tr>\n",
       "    <tr>\n",
       "      <th>installment</th>\n",
       "      <td>466285.0</td>\n",
       "      <td>4.320612e+02</td>\n",
       "      <td>2.434855e+02</td>\n",
       "      <td>15.67</td>\n",
       "      <td>2.566900e+02</td>\n",
       "      <td>3.798900e+02</td>\n",
       "      <td>5.665800e+02</td>\n",
       "      <td>1.409990e+03</td>\n",
       "    </tr>\n",
       "    <tr>\n",
       "      <th>annual_inc</th>\n",
       "      <td>466281.0</td>\n",
       "      <td>7.327738e+04</td>\n",
       "      <td>5.496357e+04</td>\n",
       "      <td>1896.00</td>\n",
       "      <td>4.500000e+04</td>\n",
       "      <td>6.300000e+04</td>\n",
       "      <td>8.896000e+04</td>\n",
       "      <td>7.500000e+06</td>\n",
       "    </tr>\n",
       "    <tr>\n",
       "      <th>dti</th>\n",
       "      <td>466285.0</td>\n",
       "      <td>1.721876e+01</td>\n",
       "      <td>7.851121e+00</td>\n",
       "      <td>0.00</td>\n",
       "      <td>1.136000e+01</td>\n",
       "      <td>1.687000e+01</td>\n",
       "      <td>2.278000e+01</td>\n",
       "      <td>3.999000e+01</td>\n",
       "    </tr>\n",
       "    <tr>\n",
       "      <th>delinq_2yrs</th>\n",
       "      <td>466256.0</td>\n",
       "      <td>2.846784e-01</td>\n",
       "      <td>7.973651e-01</td>\n",
       "      <td>0.00</td>\n",
       "      <td>0.000000e+00</td>\n",
       "      <td>0.000000e+00</td>\n",
       "      <td>0.000000e+00</td>\n",
       "      <td>2.900000e+01</td>\n",
       "    </tr>\n",
       "    <tr>\n",
       "      <th>inq_last_6mths</th>\n",
       "      <td>466256.0</td>\n",
       "      <td>8.047446e-01</td>\n",
       "      <td>1.091598e+00</td>\n",
       "      <td>0.00</td>\n",
       "      <td>0.000000e+00</td>\n",
       "      <td>0.000000e+00</td>\n",
       "      <td>1.000000e+00</td>\n",
       "      <td>3.300000e+01</td>\n",
       "    </tr>\n",
       "    <tr>\n",
       "      <th>mths_since_last_delinq</th>\n",
       "      <td>215934.0</td>\n",
       "      <td>3.410443e+01</td>\n",
       "      <td>2.177849e+01</td>\n",
       "      <td>0.00</td>\n",
       "      <td>1.600000e+01</td>\n",
       "      <td>3.100000e+01</td>\n",
       "      <td>4.900000e+01</td>\n",
       "      <td>1.880000e+02</td>\n",
       "    </tr>\n",
       "    <tr>\n",
       "      <th>mths_since_last_record</th>\n",
       "      <td>62638.0</td>\n",
       "      <td>7.430601e+01</td>\n",
       "      <td>3.035765e+01</td>\n",
       "      <td>0.00</td>\n",
       "      <td>5.300000e+01</td>\n",
       "      <td>7.600000e+01</td>\n",
       "      <td>1.020000e+02</td>\n",
       "      <td>1.290000e+02</td>\n",
       "    </tr>\n",
       "    <tr>\n",
       "      <th>open_acc</th>\n",
       "      <td>466256.0</td>\n",
       "      <td>1.118707e+01</td>\n",
       "      <td>4.987526e+00</td>\n",
       "      <td>0.00</td>\n",
       "      <td>8.000000e+00</td>\n",
       "      <td>1.000000e+01</td>\n",
       "      <td>1.400000e+01</td>\n",
       "      <td>8.400000e+01</td>\n",
       "    </tr>\n",
       "    <tr>\n",
       "      <th>pub_rec</th>\n",
       "      <td>466256.0</td>\n",
       "      <td>1.605642e-01</td>\n",
       "      <td>5.108626e-01</td>\n",
       "      <td>0.00</td>\n",
       "      <td>0.000000e+00</td>\n",
       "      <td>0.000000e+00</td>\n",
       "      <td>0.000000e+00</td>\n",
       "      <td>6.300000e+01</td>\n",
       "    </tr>\n",
       "    <tr>\n",
       "      <th>revol_bal</th>\n",
       "      <td>466285.0</td>\n",
       "      <td>1.623020e+04</td>\n",
       "      <td>2.067625e+04</td>\n",
       "      <td>0.00</td>\n",
       "      <td>6.413000e+03</td>\n",
       "      <td>1.176400e+04</td>\n",
       "      <td>2.033300e+04</td>\n",
       "      <td>2.568995e+06</td>\n",
       "    </tr>\n",
       "    <tr>\n",
       "      <th>revol_util</th>\n",
       "      <td>465945.0</td>\n",
       "      <td>5.617695e+01</td>\n",
       "      <td>2.373263e+01</td>\n",
       "      <td>0.00</td>\n",
       "      <td>3.920000e+01</td>\n",
       "      <td>5.760000e+01</td>\n",
       "      <td>7.470000e+01</td>\n",
       "      <td>8.923000e+02</td>\n",
       "    </tr>\n",
       "    <tr>\n",
       "      <th>total_acc</th>\n",
       "      <td>466256.0</td>\n",
       "      <td>2.506443e+01</td>\n",
       "      <td>1.160014e+01</td>\n",
       "      <td>1.00</td>\n",
       "      <td>1.700000e+01</td>\n",
       "      <td>2.300000e+01</td>\n",
       "      <td>3.200000e+01</td>\n",
       "      <td>1.560000e+02</td>\n",
       "    </tr>\n",
       "    <tr>\n",
       "      <th>out_prncp</th>\n",
       "      <td>466285.0</td>\n",
       "      <td>4.410062e+03</td>\n",
       "      <td>6.355079e+03</td>\n",
       "      <td>0.00</td>\n",
       "      <td>0.000000e+00</td>\n",
       "      <td>4.414700e+02</td>\n",
       "      <td>7.341650e+03</td>\n",
       "      <td>3.216038e+04</td>\n",
       "    </tr>\n",
       "    <tr>\n",
       "      <th>out_prncp_inv</th>\n",
       "      <td>466285.0</td>\n",
       "      <td>4.408452e+03</td>\n",
       "      <td>6.353198e+03</td>\n",
       "      <td>0.00</td>\n",
       "      <td>0.000000e+00</td>\n",
       "      <td>4.413800e+02</td>\n",
       "      <td>7.338390e+03</td>\n",
       "      <td>3.216038e+04</td>\n",
       "    </tr>\n",
       "    <tr>\n",
       "      <th>total_pymnt</th>\n",
       "      <td>466285.0</td>\n",
       "      <td>1.154069e+04</td>\n",
       "      <td>8.265627e+03</td>\n",
       "      <td>0.00</td>\n",
       "      <td>5.552125e+03</td>\n",
       "      <td>9.419251e+03</td>\n",
       "      <td>1.530816e+04</td>\n",
       "      <td>5.777758e+04</td>\n",
       "    </tr>\n",
       "    <tr>\n",
       "      <th>total_pymnt_inv</th>\n",
       "      <td>466285.0</td>\n",
       "      <td>1.146989e+04</td>\n",
       "      <td>8.254158e+03</td>\n",
       "      <td>0.00</td>\n",
       "      <td>5.499250e+03</td>\n",
       "      <td>9.355430e+03</td>\n",
       "      <td>1.523131e+04</td>\n",
       "      <td>5.777758e+04</td>\n",
       "    </tr>\n",
       "    <tr>\n",
       "      <th>total_rec_prncp</th>\n",
       "      <td>466285.0</td>\n",
       "      <td>8.866015e+03</td>\n",
       "      <td>7.031688e+03</td>\n",
       "      <td>0.00</td>\n",
       "      <td>3.708560e+03</td>\n",
       "      <td>6.817760e+03</td>\n",
       "      <td>1.200000e+04</td>\n",
       "      <td>3.500003e+04</td>\n",
       "    </tr>\n",
       "    <tr>\n",
       "      <th>total_rec_int</th>\n",
       "      <td>466285.0</td>\n",
       "      <td>2.588677e+03</td>\n",
       "      <td>2.483810e+03</td>\n",
       "      <td>0.00</td>\n",
       "      <td>9.572800e+02</td>\n",
       "      <td>1.818880e+03</td>\n",
       "      <td>3.304530e+03</td>\n",
       "      <td>2.420562e+04</td>\n",
       "    </tr>\n",
       "    <tr>\n",
       "      <th>total_rec_late_fee</th>\n",
       "      <td>466285.0</td>\n",
       "      <td>6.501292e-01</td>\n",
       "      <td>5.265730e+00</td>\n",
       "      <td>0.00</td>\n",
       "      <td>0.000000e+00</td>\n",
       "      <td>0.000000e+00</td>\n",
       "      <td>0.000000e+00</td>\n",
       "      <td>3.586800e+02</td>\n",
       "    </tr>\n",
       "    <tr>\n",
       "      <th>recoveries</th>\n",
       "      <td>466285.0</td>\n",
       "      <td>8.534421e+01</td>\n",
       "      <td>5.522161e+02</td>\n",
       "      <td>0.00</td>\n",
       "      <td>0.000000e+00</td>\n",
       "      <td>0.000000e+00</td>\n",
       "      <td>0.000000e+00</td>\n",
       "      <td>3.352027e+04</td>\n",
       "    </tr>\n",
       "    <tr>\n",
       "      <th>collection_recovery_fee</th>\n",
       "      <td>466285.0</td>\n",
       "      <td>8.961534e+00</td>\n",
       "      <td>8.549144e+01</td>\n",
       "      <td>0.00</td>\n",
       "      <td>0.000000e+00</td>\n",
       "      <td>0.000000e+00</td>\n",
       "      <td>0.000000e+00</td>\n",
       "      <td>7.002190e+03</td>\n",
       "    </tr>\n",
       "    <tr>\n",
       "      <th>last_pymnt_amnt</th>\n",
       "      <td>466285.0</td>\n",
       "      <td>3.123914e+03</td>\n",
       "      <td>5.554737e+03</td>\n",
       "      <td>0.00</td>\n",
       "      <td>3.126200e+02</td>\n",
       "      <td>5.459600e+02</td>\n",
       "      <td>3.187510e+03</td>\n",
       "      <td>3.623444e+04</td>\n",
       "    </tr>\n",
       "    <tr>\n",
       "      <th>collections_12_mths_ex_med</th>\n",
       "      <td>466140.0</td>\n",
       "      <td>9.085253e-03</td>\n",
       "      <td>1.086484e-01</td>\n",
       "      <td>0.00</td>\n",
       "      <td>0.000000e+00</td>\n",
       "      <td>0.000000e+00</td>\n",
       "      <td>0.000000e+00</td>\n",
       "      <td>2.000000e+01</td>\n",
       "    </tr>\n",
       "    <tr>\n",
       "      <th>mths_since_last_major_derog</th>\n",
       "      <td>98974.0</td>\n",
       "      <td>4.285255e+01</td>\n",
       "      <td>2.166259e+01</td>\n",
       "      <td>0.00</td>\n",
       "      <td>2.600000e+01</td>\n",
       "      <td>4.200000e+01</td>\n",
       "      <td>5.900000e+01</td>\n",
       "      <td>1.880000e+02</td>\n",
       "    </tr>\n",
       "    <tr>\n",
       "      <th>policy_code</th>\n",
       "      <td>466285.0</td>\n",
       "      <td>1.000000e+00</td>\n",
       "      <td>0.000000e+00</td>\n",
       "      <td>1.00</td>\n",
       "      <td>1.000000e+00</td>\n",
       "      <td>1.000000e+00</td>\n",
       "      <td>1.000000e+00</td>\n",
       "      <td>1.000000e+00</td>\n",
       "    </tr>\n",
       "    <tr>\n",
       "      <th>annual_inc_joint</th>\n",
       "      <td>0.0</td>\n",
       "      <td>NaN</td>\n",
       "      <td>NaN</td>\n",
       "      <td>NaN</td>\n",
       "      <td>NaN</td>\n",
       "      <td>NaN</td>\n",
       "      <td>NaN</td>\n",
       "      <td>NaN</td>\n",
       "    </tr>\n",
       "    <tr>\n",
       "      <th>dti_joint</th>\n",
       "      <td>0.0</td>\n",
       "      <td>NaN</td>\n",
       "      <td>NaN</td>\n",
       "      <td>NaN</td>\n",
       "      <td>NaN</td>\n",
       "      <td>NaN</td>\n",
       "      <td>NaN</td>\n",
       "      <td>NaN</td>\n",
       "    </tr>\n",
       "    <tr>\n",
       "      <th>verification_status_joint</th>\n",
       "      <td>0.0</td>\n",
       "      <td>NaN</td>\n",
       "      <td>NaN</td>\n",
       "      <td>NaN</td>\n",
       "      <td>NaN</td>\n",
       "      <td>NaN</td>\n",
       "      <td>NaN</td>\n",
       "      <td>NaN</td>\n",
       "    </tr>\n",
       "    <tr>\n",
       "      <th>acc_now_delinq</th>\n",
       "      <td>466256.0</td>\n",
       "      <td>4.002093e-03</td>\n",
       "      <td>6.863680e-02</td>\n",
       "      <td>0.00</td>\n",
       "      <td>0.000000e+00</td>\n",
       "      <td>0.000000e+00</td>\n",
       "      <td>0.000000e+00</td>\n",
       "      <td>5.000000e+00</td>\n",
       "    </tr>\n",
       "    <tr>\n",
       "      <th>tot_coll_amt</th>\n",
       "      <td>396009.0</td>\n",
       "      <td>1.919135e+02</td>\n",
       "      <td>1.463021e+04</td>\n",
       "      <td>0.00</td>\n",
       "      <td>0.000000e+00</td>\n",
       "      <td>0.000000e+00</td>\n",
       "      <td>0.000000e+00</td>\n",
       "      <td>9.152545e+06</td>\n",
       "    </tr>\n",
       "    <tr>\n",
       "      <th>tot_cur_bal</th>\n",
       "      <td>396009.0</td>\n",
       "      <td>1.388017e+05</td>\n",
       "      <td>1.521147e+05</td>\n",
       "      <td>0.00</td>\n",
       "      <td>2.861800e+04</td>\n",
       "      <td>8.153900e+04</td>\n",
       "      <td>2.089530e+05</td>\n",
       "      <td>8.000078e+06</td>\n",
       "    </tr>\n",
       "    <tr>\n",
       "      <th>open_acc_6m</th>\n",
       "      <td>0.0</td>\n",
       "      <td>NaN</td>\n",
       "      <td>NaN</td>\n",
       "      <td>NaN</td>\n",
       "      <td>NaN</td>\n",
       "      <td>NaN</td>\n",
       "      <td>NaN</td>\n",
       "      <td>NaN</td>\n",
       "    </tr>\n",
       "    <tr>\n",
       "      <th>open_il_6m</th>\n",
       "      <td>0.0</td>\n",
       "      <td>NaN</td>\n",
       "      <td>NaN</td>\n",
       "      <td>NaN</td>\n",
       "      <td>NaN</td>\n",
       "      <td>NaN</td>\n",
       "      <td>NaN</td>\n",
       "      <td>NaN</td>\n",
       "    </tr>\n",
       "    <tr>\n",
       "      <th>open_il_12m</th>\n",
       "      <td>0.0</td>\n",
       "      <td>NaN</td>\n",
       "      <td>NaN</td>\n",
       "      <td>NaN</td>\n",
       "      <td>NaN</td>\n",
       "      <td>NaN</td>\n",
       "      <td>NaN</td>\n",
       "      <td>NaN</td>\n",
       "    </tr>\n",
       "    <tr>\n",
       "      <th>open_il_24m</th>\n",
       "      <td>0.0</td>\n",
       "      <td>NaN</td>\n",
       "      <td>NaN</td>\n",
       "      <td>NaN</td>\n",
       "      <td>NaN</td>\n",
       "      <td>NaN</td>\n",
       "      <td>NaN</td>\n",
       "      <td>NaN</td>\n",
       "    </tr>\n",
       "    <tr>\n",
       "      <th>mths_since_rcnt_il</th>\n",
       "      <td>0.0</td>\n",
       "      <td>NaN</td>\n",
       "      <td>NaN</td>\n",
       "      <td>NaN</td>\n",
       "      <td>NaN</td>\n",
       "      <td>NaN</td>\n",
       "      <td>NaN</td>\n",
       "      <td>NaN</td>\n",
       "    </tr>\n",
       "    <tr>\n",
       "      <th>total_bal_il</th>\n",
       "      <td>0.0</td>\n",
       "      <td>NaN</td>\n",
       "      <td>NaN</td>\n",
       "      <td>NaN</td>\n",
       "      <td>NaN</td>\n",
       "      <td>NaN</td>\n",
       "      <td>NaN</td>\n",
       "      <td>NaN</td>\n",
       "    </tr>\n",
       "    <tr>\n",
       "      <th>il_util</th>\n",
       "      <td>0.0</td>\n",
       "      <td>NaN</td>\n",
       "      <td>NaN</td>\n",
       "      <td>NaN</td>\n",
       "      <td>NaN</td>\n",
       "      <td>NaN</td>\n",
       "      <td>NaN</td>\n",
       "      <td>NaN</td>\n",
       "    </tr>\n",
       "    <tr>\n",
       "      <th>open_rv_12m</th>\n",
       "      <td>0.0</td>\n",
       "      <td>NaN</td>\n",
       "      <td>NaN</td>\n",
       "      <td>NaN</td>\n",
       "      <td>NaN</td>\n",
       "      <td>NaN</td>\n",
       "      <td>NaN</td>\n",
       "      <td>NaN</td>\n",
       "    </tr>\n",
       "    <tr>\n",
       "      <th>open_rv_24m</th>\n",
       "      <td>0.0</td>\n",
       "      <td>NaN</td>\n",
       "      <td>NaN</td>\n",
       "      <td>NaN</td>\n",
       "      <td>NaN</td>\n",
       "      <td>NaN</td>\n",
       "      <td>NaN</td>\n",
       "      <td>NaN</td>\n",
       "    </tr>\n",
       "    <tr>\n",
       "      <th>max_bal_bc</th>\n",
       "      <td>0.0</td>\n",
       "      <td>NaN</td>\n",
       "      <td>NaN</td>\n",
       "      <td>NaN</td>\n",
       "      <td>NaN</td>\n",
       "      <td>NaN</td>\n",
       "      <td>NaN</td>\n",
       "      <td>NaN</td>\n",
       "    </tr>\n",
       "    <tr>\n",
       "      <th>all_util</th>\n",
       "      <td>0.0</td>\n",
       "      <td>NaN</td>\n",
       "      <td>NaN</td>\n",
       "      <td>NaN</td>\n",
       "      <td>NaN</td>\n",
       "      <td>NaN</td>\n",
       "      <td>NaN</td>\n",
       "      <td>NaN</td>\n",
       "    </tr>\n",
       "    <tr>\n",
       "      <th>total_rev_hi_lim</th>\n",
       "      <td>396009.0</td>\n",
       "      <td>3.037909e+04</td>\n",
       "      <td>3.724713e+04</td>\n",
       "      <td>0.00</td>\n",
       "      <td>1.350000e+04</td>\n",
       "      <td>2.280000e+04</td>\n",
       "      <td>3.790000e+04</td>\n",
       "      <td>9.999999e+06</td>\n",
       "    </tr>\n",
       "    <tr>\n",
       "      <th>inq_fi</th>\n",
       "      <td>0.0</td>\n",
       "      <td>NaN</td>\n",
       "      <td>NaN</td>\n",
       "      <td>NaN</td>\n",
       "      <td>NaN</td>\n",
       "      <td>NaN</td>\n",
       "      <td>NaN</td>\n",
       "      <td>NaN</td>\n",
       "    </tr>\n",
       "    <tr>\n",
       "      <th>total_cu_tl</th>\n",
       "      <td>0.0</td>\n",
       "      <td>NaN</td>\n",
       "      <td>NaN</td>\n",
       "      <td>NaN</td>\n",
       "      <td>NaN</td>\n",
       "      <td>NaN</td>\n",
       "      <td>NaN</td>\n",
       "      <td>NaN</td>\n",
       "    </tr>\n",
       "    <tr>\n",
       "      <th>inq_last_12m</th>\n",
       "      <td>0.0</td>\n",
       "      <td>NaN</td>\n",
       "      <td>NaN</td>\n",
       "      <td>NaN</td>\n",
       "      <td>NaN</td>\n",
       "      <td>NaN</td>\n",
       "      <td>NaN</td>\n",
       "      <td>NaN</td>\n",
       "    </tr>\n",
       "  </tbody>\n",
       "</table>\n",
       "</div>"
      ],
      "text/plain": [
       "                                count          mean           std       min  \\\n",
       "id                           466285.0  1.307973e+07  1.089371e+07  54734.00   \n",
       "member_id                    466285.0  1.459766e+07  1.168237e+07  70473.00   \n",
       "loan_amnt                    466285.0  1.431728e+04  8.286509e+03    500.00   \n",
       "funded_amnt                  466285.0  1.429180e+04  8.274371e+03    500.00   \n",
       "funded_amnt_inv              466285.0  1.422233e+04  8.297638e+03      0.00   \n",
       "int_rate                     466285.0  1.382924e+01  4.357587e+00      5.42   \n",
       "installment                  466285.0  4.320612e+02  2.434855e+02     15.67   \n",
       "annual_inc                   466281.0  7.327738e+04  5.496357e+04   1896.00   \n",
       "dti                          466285.0  1.721876e+01  7.851121e+00      0.00   \n",
       "delinq_2yrs                  466256.0  2.846784e-01  7.973651e-01      0.00   \n",
       "inq_last_6mths               466256.0  8.047446e-01  1.091598e+00      0.00   \n",
       "mths_since_last_delinq       215934.0  3.410443e+01  2.177849e+01      0.00   \n",
       "mths_since_last_record        62638.0  7.430601e+01  3.035765e+01      0.00   \n",
       "open_acc                     466256.0  1.118707e+01  4.987526e+00      0.00   \n",
       "pub_rec                      466256.0  1.605642e-01  5.108626e-01      0.00   \n",
       "revol_bal                    466285.0  1.623020e+04  2.067625e+04      0.00   \n",
       "revol_util                   465945.0  5.617695e+01  2.373263e+01      0.00   \n",
       "total_acc                    466256.0  2.506443e+01  1.160014e+01      1.00   \n",
       "out_prncp                    466285.0  4.410062e+03  6.355079e+03      0.00   \n",
       "out_prncp_inv                466285.0  4.408452e+03  6.353198e+03      0.00   \n",
       "total_pymnt                  466285.0  1.154069e+04  8.265627e+03      0.00   \n",
       "total_pymnt_inv              466285.0  1.146989e+04  8.254158e+03      0.00   \n",
       "total_rec_prncp              466285.0  8.866015e+03  7.031688e+03      0.00   \n",
       "total_rec_int                466285.0  2.588677e+03  2.483810e+03      0.00   \n",
       "total_rec_late_fee           466285.0  6.501292e-01  5.265730e+00      0.00   \n",
       "recoveries                   466285.0  8.534421e+01  5.522161e+02      0.00   \n",
       "collection_recovery_fee      466285.0  8.961534e+00  8.549144e+01      0.00   \n",
       "last_pymnt_amnt              466285.0  3.123914e+03  5.554737e+03      0.00   \n",
       "collections_12_mths_ex_med   466140.0  9.085253e-03  1.086484e-01      0.00   \n",
       "mths_since_last_major_derog   98974.0  4.285255e+01  2.166259e+01      0.00   \n",
       "policy_code                  466285.0  1.000000e+00  0.000000e+00      1.00   \n",
       "annual_inc_joint                  0.0           NaN           NaN       NaN   \n",
       "dti_joint                         0.0           NaN           NaN       NaN   \n",
       "verification_status_joint         0.0           NaN           NaN       NaN   \n",
       "acc_now_delinq               466256.0  4.002093e-03  6.863680e-02      0.00   \n",
       "tot_coll_amt                 396009.0  1.919135e+02  1.463021e+04      0.00   \n",
       "tot_cur_bal                  396009.0  1.388017e+05  1.521147e+05      0.00   \n",
       "open_acc_6m                       0.0           NaN           NaN       NaN   \n",
       "open_il_6m                        0.0           NaN           NaN       NaN   \n",
       "open_il_12m                       0.0           NaN           NaN       NaN   \n",
       "open_il_24m                       0.0           NaN           NaN       NaN   \n",
       "mths_since_rcnt_il                0.0           NaN           NaN       NaN   \n",
       "total_bal_il                      0.0           NaN           NaN       NaN   \n",
       "il_util                           0.0           NaN           NaN       NaN   \n",
       "open_rv_12m                       0.0           NaN           NaN       NaN   \n",
       "open_rv_24m                       0.0           NaN           NaN       NaN   \n",
       "max_bal_bc                        0.0           NaN           NaN       NaN   \n",
       "all_util                          0.0           NaN           NaN       NaN   \n",
       "total_rev_hi_lim             396009.0  3.037909e+04  3.724713e+04      0.00   \n",
       "inq_fi                            0.0           NaN           NaN       NaN   \n",
       "total_cu_tl                       0.0           NaN           NaN       NaN   \n",
       "inq_last_12m                      0.0           NaN           NaN       NaN   \n",
       "\n",
       "                                      25%           50%           75%  \\\n",
       "id                           3.639987e+06  1.010790e+07  2.073121e+07   \n",
       "member_id                    4.379705e+06  1.194108e+07  2.300154e+07   \n",
       "loan_amnt                    8.000000e+03  1.200000e+04  2.000000e+04   \n",
       "funded_amnt                  8.000000e+03  1.200000e+04  2.000000e+04   \n",
       "funded_amnt_inv              8.000000e+03  1.200000e+04  1.995000e+04   \n",
       "int_rate                     1.099000e+01  1.366000e+01  1.649000e+01   \n",
       "installment                  2.566900e+02  3.798900e+02  5.665800e+02   \n",
       "annual_inc                   4.500000e+04  6.300000e+04  8.896000e+04   \n",
       "dti                          1.136000e+01  1.687000e+01  2.278000e+01   \n",
       "delinq_2yrs                  0.000000e+00  0.000000e+00  0.000000e+00   \n",
       "inq_last_6mths               0.000000e+00  0.000000e+00  1.000000e+00   \n",
       "mths_since_last_delinq       1.600000e+01  3.100000e+01  4.900000e+01   \n",
       "mths_since_last_record       5.300000e+01  7.600000e+01  1.020000e+02   \n",
       "open_acc                     8.000000e+00  1.000000e+01  1.400000e+01   \n",
       "pub_rec                      0.000000e+00  0.000000e+00  0.000000e+00   \n",
       "revol_bal                    6.413000e+03  1.176400e+04  2.033300e+04   \n",
       "revol_util                   3.920000e+01  5.760000e+01  7.470000e+01   \n",
       "total_acc                    1.700000e+01  2.300000e+01  3.200000e+01   \n",
       "out_prncp                    0.000000e+00  4.414700e+02  7.341650e+03   \n",
       "out_prncp_inv                0.000000e+00  4.413800e+02  7.338390e+03   \n",
       "total_pymnt                  5.552125e+03  9.419251e+03  1.530816e+04   \n",
       "total_pymnt_inv              5.499250e+03  9.355430e+03  1.523131e+04   \n",
       "total_rec_prncp              3.708560e+03  6.817760e+03  1.200000e+04   \n",
       "total_rec_int                9.572800e+02  1.818880e+03  3.304530e+03   \n",
       "total_rec_late_fee           0.000000e+00  0.000000e+00  0.000000e+00   \n",
       "recoveries                   0.000000e+00  0.000000e+00  0.000000e+00   \n",
       "collection_recovery_fee      0.000000e+00  0.000000e+00  0.000000e+00   \n",
       "last_pymnt_amnt              3.126200e+02  5.459600e+02  3.187510e+03   \n",
       "collections_12_mths_ex_med   0.000000e+00  0.000000e+00  0.000000e+00   \n",
       "mths_since_last_major_derog  2.600000e+01  4.200000e+01  5.900000e+01   \n",
       "policy_code                  1.000000e+00  1.000000e+00  1.000000e+00   \n",
       "annual_inc_joint                      NaN           NaN           NaN   \n",
       "dti_joint                             NaN           NaN           NaN   \n",
       "verification_status_joint             NaN           NaN           NaN   \n",
       "acc_now_delinq               0.000000e+00  0.000000e+00  0.000000e+00   \n",
       "tot_coll_amt                 0.000000e+00  0.000000e+00  0.000000e+00   \n",
       "tot_cur_bal                  2.861800e+04  8.153900e+04  2.089530e+05   \n",
       "open_acc_6m                           NaN           NaN           NaN   \n",
       "open_il_6m                            NaN           NaN           NaN   \n",
       "open_il_12m                           NaN           NaN           NaN   \n",
       "open_il_24m                           NaN           NaN           NaN   \n",
       "mths_since_rcnt_il                    NaN           NaN           NaN   \n",
       "total_bal_il                          NaN           NaN           NaN   \n",
       "il_util                               NaN           NaN           NaN   \n",
       "open_rv_12m                           NaN           NaN           NaN   \n",
       "open_rv_24m                           NaN           NaN           NaN   \n",
       "max_bal_bc                            NaN           NaN           NaN   \n",
       "all_util                              NaN           NaN           NaN   \n",
       "total_rev_hi_lim             1.350000e+04  2.280000e+04  3.790000e+04   \n",
       "inq_fi                                NaN           NaN           NaN   \n",
       "total_cu_tl                           NaN           NaN           NaN   \n",
       "inq_last_12m                          NaN           NaN           NaN   \n",
       "\n",
       "                                      max  \n",
       "id                           3.809811e+07  \n",
       "member_id                    4.086083e+07  \n",
       "loan_amnt                    3.500000e+04  \n",
       "funded_amnt                  3.500000e+04  \n",
       "funded_amnt_inv              3.500000e+04  \n",
       "int_rate                     2.606000e+01  \n",
       "installment                  1.409990e+03  \n",
       "annual_inc                   7.500000e+06  \n",
       "dti                          3.999000e+01  \n",
       "delinq_2yrs                  2.900000e+01  \n",
       "inq_last_6mths               3.300000e+01  \n",
       "mths_since_last_delinq       1.880000e+02  \n",
       "mths_since_last_record       1.290000e+02  \n",
       "open_acc                     8.400000e+01  \n",
       "pub_rec                      6.300000e+01  \n",
       "revol_bal                    2.568995e+06  \n",
       "revol_util                   8.923000e+02  \n",
       "total_acc                    1.560000e+02  \n",
       "out_prncp                    3.216038e+04  \n",
       "out_prncp_inv                3.216038e+04  \n",
       "total_pymnt                  5.777758e+04  \n",
       "total_pymnt_inv              5.777758e+04  \n",
       "total_rec_prncp              3.500003e+04  \n",
       "total_rec_int                2.420562e+04  \n",
       "total_rec_late_fee           3.586800e+02  \n",
       "recoveries                   3.352027e+04  \n",
       "collection_recovery_fee      7.002190e+03  \n",
       "last_pymnt_amnt              3.623444e+04  \n",
       "collections_12_mths_ex_med   2.000000e+01  \n",
       "mths_since_last_major_derog  1.880000e+02  \n",
       "policy_code                  1.000000e+00  \n",
       "annual_inc_joint                      NaN  \n",
       "dti_joint                             NaN  \n",
       "verification_status_joint             NaN  \n",
       "acc_now_delinq               5.000000e+00  \n",
       "tot_coll_amt                 9.152545e+06  \n",
       "tot_cur_bal                  8.000078e+06  \n",
       "open_acc_6m                           NaN  \n",
       "open_il_6m                            NaN  \n",
       "open_il_12m                           NaN  \n",
       "open_il_24m                           NaN  \n",
       "mths_since_rcnt_il                    NaN  \n",
       "total_bal_il                          NaN  \n",
       "il_util                               NaN  \n",
       "open_rv_12m                           NaN  \n",
       "open_rv_24m                           NaN  \n",
       "max_bal_bc                            NaN  \n",
       "all_util                              NaN  \n",
       "total_rev_hi_lim             9.999999e+06  \n",
       "inq_fi                                NaN  \n",
       "total_cu_tl                           NaN  \n",
       "inq_last_12m                          NaN  "
      ]
     },
     "execution_count": 79,
     "metadata": {},
     "output_type": "execute_result"
    }
   ],
   "source": [
    "data.describe().T"
   ]
  },
  {
   "cell_type": "markdown",
   "metadata": {
    "_cell_guid": "5bbb3fd2-44a1-4d40-8039-e55512e4052c",
    "_uuid": "d9288f00-f7af-44ba-af11-70d24795fa4b"
   },
   "source": [
    "\n",
    "\n",
    "<div style=\"color:white;\n",
    "           display:fill;\n",
    "           background-color:#29285D;\n",
    "           padding: 10px;\n",
    "           font-family:Verdana;\n",
    "           letter-spacing:0.5px\">\n",
    "    <h3 style=\"color:white;padding-left:20px\"><b>Interface 👀</b></h3>\n",
    "       <p style=\"color:white;font-size:110%;padding-left:50px\">\n",
    "              We're going to try to learn differences in the features between completed loans that have been Default. We won't consider loans that are current, don't meet the credit policy, defaulted, or have a missing status. So we only keep the loans with status \"Default.\"\n",
    "        </p>\n",
    "    </div>"
   ]
  },
  {
   "cell_type": "code",
   "execution_count": 80,
   "metadata": {
    "_cell_guid": "feabe893-f70d-4d8d-9e56-5ff1d6869530",
    "_uuid": "471c7b15-229b-4096-85fc-5f6ae01a2f11",
    "execution": {
     "iopub.execute_input": "2022-09-06T09:47:04.774798Z",
     "iopub.status.busy": "2022-09-06T09:47:04.773802Z",
     "iopub.status.idle": "2022-09-06T09:47:05.283551Z",
     "shell.execute_reply": "2022-09-06T09:47:05.282039Z",
     "shell.execute_reply.started": "2022-09-06T09:47:04.774751Z"
    },
    "jupyter": {
     "outputs_hidden": false
    }
   },
   "outputs": [
    {
     "data": {
      "text/html": [
       "<div>\n",
       "<style scoped>\n",
       "    .dataframe tbody tr th:only-of-type {\n",
       "        vertical-align: middle;\n",
       "    }\n",
       "\n",
       "    .dataframe tbody tr th {\n",
       "        vertical-align: top;\n",
       "    }\n",
       "\n",
       "    .dataframe thead th {\n",
       "        text-align: right;\n",
       "    }\n",
       "</style>\n",
       "<table border=\"1\" class=\"dataframe\">\n",
       "  <thead>\n",
       "    <tr style=\"text-align: right;\">\n",
       "      <th></th>\n",
       "      <th>null_percent</th>\n",
       "    </tr>\n",
       "  </thead>\n",
       "  <tbody>\n",
       "    <tr>\n",
       "      <th>verification_status_joint</th>\n",
       "      <td>100.00</td>\n",
       "    </tr>\n",
       "    <tr>\n",
       "      <th>annual_inc_joint</th>\n",
       "      <td>100.00</td>\n",
       "    </tr>\n",
       "    <tr>\n",
       "      <th>total_cu_tl</th>\n",
       "      <td>100.00</td>\n",
       "    </tr>\n",
       "    <tr>\n",
       "      <th>inq_fi</th>\n",
       "      <td>100.00</td>\n",
       "    </tr>\n",
       "    <tr>\n",
       "      <th>all_util</th>\n",
       "      <td>100.00</td>\n",
       "    </tr>\n",
       "    <tr>\n",
       "      <th>max_bal_bc</th>\n",
       "      <td>100.00</td>\n",
       "    </tr>\n",
       "    <tr>\n",
       "      <th>open_rv_24m</th>\n",
       "      <td>100.00</td>\n",
       "    </tr>\n",
       "    <tr>\n",
       "      <th>open_rv_12m</th>\n",
       "      <td>100.00</td>\n",
       "    </tr>\n",
       "    <tr>\n",
       "      <th>il_util</th>\n",
       "      <td>100.00</td>\n",
       "    </tr>\n",
       "    <tr>\n",
       "      <th>total_bal_il</th>\n",
       "      <td>100.00</td>\n",
       "    </tr>\n",
       "    <tr>\n",
       "      <th>mths_since_rcnt_il</th>\n",
       "      <td>100.00</td>\n",
       "    </tr>\n",
       "    <tr>\n",
       "      <th>open_il_24m</th>\n",
       "      <td>100.00</td>\n",
       "    </tr>\n",
       "    <tr>\n",
       "      <th>open_il_12m</th>\n",
       "      <td>100.00</td>\n",
       "    </tr>\n",
       "    <tr>\n",
       "      <th>open_il_6m</th>\n",
       "      <td>100.00</td>\n",
       "    </tr>\n",
       "    <tr>\n",
       "      <th>open_acc_6m</th>\n",
       "      <td>100.00</td>\n",
       "    </tr>\n",
       "    <tr>\n",
       "      <th>dti_joint</th>\n",
       "      <td>100.00</td>\n",
       "    </tr>\n",
       "    <tr>\n",
       "      <th>inq_last_12m</th>\n",
       "      <td>100.00</td>\n",
       "    </tr>\n",
       "    <tr>\n",
       "      <th>mths_since_last_record</th>\n",
       "      <td>86.57</td>\n",
       "    </tr>\n",
       "    <tr>\n",
       "      <th>mths_since_last_major_derog</th>\n",
       "      <td>78.77</td>\n",
       "    </tr>\n",
       "    <tr>\n",
       "      <th>desc</th>\n",
       "      <td>72.98</td>\n",
       "    </tr>\n",
       "    <tr>\n",
       "      <th>mths_since_last_delinq</th>\n",
       "      <td>53.69</td>\n",
       "    </tr>\n",
       "    <tr>\n",
       "      <th>next_pymnt_d</th>\n",
       "      <td>48.73</td>\n",
       "    </tr>\n",
       "    <tr>\n",
       "      <th>total_rev_hi_lim</th>\n",
       "      <td>15.07</td>\n",
       "    </tr>\n",
       "    <tr>\n",
       "      <th>tot_coll_amt</th>\n",
       "      <td>15.07</td>\n",
       "    </tr>\n",
       "    <tr>\n",
       "      <th>tot_cur_bal</th>\n",
       "      <td>15.07</td>\n",
       "    </tr>\n",
       "    <tr>\n",
       "      <th>emp_title</th>\n",
       "      <td>5.92</td>\n",
       "    </tr>\n",
       "    <tr>\n",
       "      <th>emp_length</th>\n",
       "      <td>4.51</td>\n",
       "    </tr>\n",
       "    <tr>\n",
       "      <th>last_pymnt_d</th>\n",
       "      <td>0.08</td>\n",
       "    </tr>\n",
       "    <tr>\n",
       "      <th>revol_util</th>\n",
       "      <td>0.07</td>\n",
       "    </tr>\n",
       "    <tr>\n",
       "      <th>collections_12_mths_ex_med</th>\n",
       "      <td>0.03</td>\n",
       "    </tr>\n",
       "    <tr>\n",
       "      <th>total_acc</th>\n",
       "      <td>0.01</td>\n",
       "    </tr>\n",
       "    <tr>\n",
       "      <th>pub_rec</th>\n",
       "      <td>0.01</td>\n",
       "    </tr>\n",
       "    <tr>\n",
       "      <th>open_acc</th>\n",
       "      <td>0.01</td>\n",
       "    </tr>\n",
       "    <tr>\n",
       "      <th>last_credit_pull_d</th>\n",
       "      <td>0.01</td>\n",
       "    </tr>\n",
       "    <tr>\n",
       "      <th>inq_last_6mths</th>\n",
       "      <td>0.01</td>\n",
       "    </tr>\n",
       "    <tr>\n",
       "      <th>earliest_cr_line</th>\n",
       "      <td>0.01</td>\n",
       "    </tr>\n",
       "    <tr>\n",
       "      <th>acc_now_delinq</th>\n",
       "      <td>0.01</td>\n",
       "    </tr>\n",
       "    <tr>\n",
       "      <th>delinq_2yrs</th>\n",
       "      <td>0.01</td>\n",
       "    </tr>\n",
       "  </tbody>\n",
       "</table>\n",
       "</div>"
      ],
      "text/plain": [
       "                             null_percent\n",
       "verification_status_joint          100.00\n",
       "annual_inc_joint                   100.00\n",
       "total_cu_tl                        100.00\n",
       "inq_fi                             100.00\n",
       "all_util                           100.00\n",
       "max_bal_bc                         100.00\n",
       "open_rv_24m                        100.00\n",
       "open_rv_12m                        100.00\n",
       "il_util                            100.00\n",
       "total_bal_il                       100.00\n",
       "mths_since_rcnt_il                 100.00\n",
       "open_il_24m                        100.00\n",
       "open_il_12m                        100.00\n",
       "open_il_6m                         100.00\n",
       "open_acc_6m                        100.00\n",
       "dti_joint                          100.00\n",
       "inq_last_12m                       100.00\n",
       "mths_since_last_record              86.57\n",
       "mths_since_last_major_derog         78.77\n",
       "desc                                72.98\n",
       "mths_since_last_delinq              53.69\n",
       "next_pymnt_d                        48.73\n",
       "total_rev_hi_lim                    15.07\n",
       "tot_coll_amt                        15.07\n",
       "tot_cur_bal                         15.07\n",
       "emp_title                            5.92\n",
       "emp_length                           4.51\n",
       "last_pymnt_d                         0.08\n",
       "revol_util                           0.07\n",
       "collections_12_mths_ex_med           0.03\n",
       "total_acc                            0.01\n",
       "pub_rec                              0.01\n",
       "open_acc                             0.01\n",
       "last_credit_pull_d                   0.01\n",
       "inq_last_6mths                       0.01\n",
       "earliest_cr_line                     0.01\n",
       "acc_now_delinq                       0.01\n",
       "delinq_2yrs                          0.01"
      ]
     },
     "execution_count": 80,
     "metadata": {},
     "output_type": "execute_result"
    }
   ],
   "source": [
    "\n",
    "nulls = pd.DataFrame(round(data.isnull().sum()/len(data.index)*100,2),columns=['null_percent'])\n",
    "#sns.barplot(x='index',y='null_percent',data=nulls.reset_index())\n",
    "nulls[nulls['null_percent']!=0.00].sort_values('null_percent',ascending=False)"
   ]
  },
  {
   "cell_type": "markdown",
   "metadata": {
    "_cell_guid": "b934e412-c50b-46f9-8a13-8999d736c19e",
    "_uuid": "30741933-f363-48f4-8512-3284d247d807"
   },
   "source": [
    "<div style=\"color:white;\n",
    "           display:fill;\n",
    "           background-color:#29285D;\n",
    "           padding: 10px;\n",
    "           font-family:Verdana;\n",
    "           letter-spacing:0.5px\">\n",
    "    <h3 style=\"color:white;padding-left:20px\"><b>Interface 👀</b></h3>\n",
    "       <p style=\"color:white;font-size:110%;padding-left:50px\">\n",
    "         Drop features missing more than 20% data\n",
    "        </p>\n",
    "    </div>"
   ]
  },
  {
   "cell_type": "code",
   "execution_count": 81,
   "metadata": {
    "_cell_guid": "651c83e2-6684-4a56-b7f7-5f7758a0ffb2",
    "_uuid": "2fdc3986-32e0-47ed-9529-4c9000fa673b",
    "execution": {
     "iopub.execute_input": "2022-09-06T09:47:06.203482Z",
     "iopub.status.busy": "2022-09-06T09:47:06.203036Z",
     "iopub.status.idle": "2022-09-06T09:47:06.368186Z",
     "shell.execute_reply": "2022-09-06T09:47:06.366921Z",
     "shell.execute_reply.started": "2022-09-06T09:47:06.203443Z"
    },
    "jupyter": {
     "outputs_hidden": false
    }
   },
   "outputs": [],
   "source": [
    "# Drop unneccesary columns\n",
    "#data.drop('id','emp_title','url','desc',,'delinq_2yrs','earliest_cr_line','mths_since_last_delinq', 'mths_since_last_record',)\n",
    "\n",
    "data = data.drop(['id','emp_title','emp_length','url','title','earliest_cr_line','mths_since_last_record','next_pymnt_d',\n",
    " 'total_rec_int', 'total_rec_late_fee', 'total_rec_prncp','last_pymnt_d','mths_since_last_major_derog','annual_inc_joint', 'dti_joint', 'verification_status_joint',\n",
    "       'acc_now_delinq', 'tot_coll_amt', 'tot_cur_bal', 'open_acc_6m','mths_since_last_delinq','desc',\n",
    "       'open_il_6m', 'open_il_12m', 'open_il_24m', 'mths_since_rcnt_il',\n",
    "       'total_bal_il', 'il_util', 'open_rv_12m', 'open_rv_24m', 'max_bal_bc',\n",
    "       'all_util', 'total_rev_hi_lim', 'inq_fi', 'total_cu_tl', 'inq_last_12m'], axis=1)"
   ]
  },
  {
   "cell_type": "code",
   "execution_count": 82,
   "metadata": {
    "_cell_guid": "d27fac4d-9c94-4253-84d1-34403f349047",
    "_uuid": "0f598e3e-901c-4025-aef8-877e8b4057af",
    "execution": {
     "iopub.execute_input": "2022-09-06T09:47:06.674585Z",
     "iopub.status.busy": "2022-09-06T09:47:06.674120Z",
     "iopub.status.idle": "2022-09-06T09:47:06.683361Z",
     "shell.execute_reply": "2022-09-06T09:47:06.681931Z",
     "shell.execute_reply.started": "2022-09-06T09:47:06.674536Z"
    },
    "jupyter": {
     "outputs_hidden": false
    }
   },
   "outputs": [
    {
     "data": {
      "text/plain": [
       "(466285, 38)"
      ]
     },
     "execution_count": 82,
     "metadata": {},
     "output_type": "execute_result"
    }
   ],
   "source": [
    "data.shape"
   ]
  },
  {
   "cell_type": "code",
   "execution_count": 83,
   "metadata": {
    "_cell_guid": "b7b3a634-3d4f-4681-8278-1f48a6530347",
    "_uuid": "0924e0f4-eed4-4e51-af17-4a3080f70b93",
    "execution": {
     "iopub.execute_input": "2022-09-06T09:47:07.344897Z",
     "iopub.status.busy": "2022-09-06T09:47:07.344066Z",
     "iopub.status.idle": "2022-09-06T09:47:07.650911Z",
     "shell.execute_reply": "2022-09-06T09:47:07.649904Z",
     "shell.execute_reply.started": "2022-09-06T09:47:07.344840Z"
    },
    "jupyter": {
     "outputs_hidden": false
    }
   },
   "outputs": [
    {
     "data": {
      "text/plain": [
       "member_id                       0\n",
       "loan_amnt                       0\n",
       "funded_amnt                     0\n",
       "funded_amnt_inv                 0\n",
       "term                            0\n",
       "int_rate                        0\n",
       "installment                     0\n",
       "grade                           0\n",
       "sub_grade                       0\n",
       "home_ownership                  0\n",
       "annual_inc                      4\n",
       "verification_status             0\n",
       "issue_d                         0\n",
       "loan_status                     0\n",
       "pymnt_plan                      0\n",
       "purpose                         0\n",
       "zip_code                        0\n",
       "addr_state                      0\n",
       "dti                             0\n",
       "delinq_2yrs                    29\n",
       "inq_last_6mths                 29\n",
       "open_acc                       29\n",
       "pub_rec                        29\n",
       "revol_bal                       0\n",
       "revol_util                    340\n",
       "total_acc                      29\n",
       "initial_list_status             0\n",
       "out_prncp                       0\n",
       "out_prncp_inv                   0\n",
       "total_pymnt                     0\n",
       "total_pymnt_inv                 0\n",
       "recoveries                      0\n",
       "collection_recovery_fee         0\n",
       "last_pymnt_amnt                 0\n",
       "last_credit_pull_d             42\n",
       "collections_12_mths_ex_med    145\n",
       "policy_code                     0\n",
       "application_type                0\n",
       "dtype: int64"
      ]
     },
     "execution_count": 83,
     "metadata": {},
     "output_type": "execute_result"
    }
   ],
   "source": [
    "data.isnull().sum()"
   ]
  },
  {
   "cell_type": "code",
   "execution_count": 84,
   "metadata": {
    "_cell_guid": "c613b6d1-8a8e-4763-8094-fa660344019b",
    "_uuid": "073494a9-828b-4679-a460-ccf92ae85476",
    "execution": {
     "iopub.execute_input": "2022-09-06T09:47:07.920070Z",
     "iopub.status.busy": "2022-09-06T09:47:07.919379Z",
     "iopub.status.idle": "2022-09-06T09:47:07.978164Z",
     "shell.execute_reply": "2022-09-06T09:47:07.976780Z",
     "shell.execute_reply.started": "2022-09-06T09:47:07.920018Z"
    },
    "jupyter": {
     "outputs_hidden": false
    }
   },
   "outputs": [],
   "source": [
    "data['annual_inc']=data['annual_inc'].fillna(data['annual_inc'].mean())\n",
    "data['delinq_2yrs']=data['delinq_2yrs'].fillna(data['delinq_2yrs'].mean())\n",
    "data['inq_last_6mths']=data['inq_last_6mths'].fillna(data['inq_last_6mths'].mean())\n",
    "data['open_acc']=data['open_acc'].fillna(data['open_acc'].mean())\n",
    "data['pub_rec']=data['pub_rec'].fillna(data['pub_rec'].mean())\n",
    "data['revol_util']=data['revol_util'].fillna(data['revol_util'].mean())\n",
    "data['total_acc']=data['total_acc'].fillna(data['total_acc'].mean())\n",
    "data['collections_12_mths_ex_med']=data['collections_12_mths_ex_med'].fillna(data['collections_12_mths_ex_med'].mean())"
   ]
  },
  {
   "cell_type": "code",
   "execution_count": 85,
   "metadata": {
    "_cell_guid": "f778ad58-6e87-44e7-8175-225ad7cda38a",
    "_uuid": "cc201f11-f261-450a-abac-183da78b1a68",
    "execution": {
     "iopub.execute_input": "2022-09-06T09:47:08.378599Z",
     "iopub.status.busy": "2022-09-06T09:47:08.378142Z",
     "iopub.status.idle": "2022-09-06T09:47:09.672137Z",
     "shell.execute_reply": "2022-09-06T09:47:09.670573Z",
     "shell.execute_reply.started": "2022-09-06T09:47:08.378563Z"
    },
    "jupyter": {
     "outputs_hidden": false
    }
   },
   "outputs": [
    {
     "data": {
      "text/plain": [
       "False"
      ]
     },
     "execution_count": 85,
     "metadata": {},
     "output_type": "execute_result"
    }
   ],
   "source": [
    "data.duplicated().any()"
   ]
  },
  {
   "cell_type": "code",
   "execution_count": 86,
   "metadata": {
    "_cell_guid": "49e78ae0-7c4e-4db7-9a90-b935ef19661f",
    "_uuid": "b194a9aa-0508-4e86-b661-a34ba95bce97",
    "execution": {
     "iopub.execute_input": "2022-09-06T09:47:09.674561Z",
     "iopub.status.busy": "2022-09-06T09:47:09.674157Z",
     "iopub.status.idle": "2022-09-06T09:47:09.978250Z",
     "shell.execute_reply": "2022-09-06T09:47:09.977011Z",
     "shell.execute_reply.started": "2022-09-06T09:47:09.674526Z"
    },
    "jupyter": {
     "outputs_hidden": false
    }
   },
   "outputs": [
    {
     "data": {
      "text/plain": [
       "member_id                      0\n",
       "loan_amnt                      0\n",
       "funded_amnt                    0\n",
       "funded_amnt_inv                0\n",
       "term                           0\n",
       "int_rate                       0\n",
       "installment                    0\n",
       "grade                          0\n",
       "sub_grade                      0\n",
       "home_ownership                 0\n",
       "annual_inc                     0\n",
       "verification_status            0\n",
       "issue_d                        0\n",
       "loan_status                    0\n",
       "pymnt_plan                     0\n",
       "purpose                        0\n",
       "zip_code                       0\n",
       "addr_state                     0\n",
       "dti                            0\n",
       "delinq_2yrs                    0\n",
       "inq_last_6mths                 0\n",
       "open_acc                       0\n",
       "pub_rec                        0\n",
       "revol_bal                      0\n",
       "revol_util                     0\n",
       "total_acc                      0\n",
       "initial_list_status            0\n",
       "out_prncp                      0\n",
       "out_prncp_inv                  0\n",
       "total_pymnt                    0\n",
       "total_pymnt_inv                0\n",
       "recoveries                     0\n",
       "collection_recovery_fee        0\n",
       "last_pymnt_amnt                0\n",
       "last_credit_pull_d            42\n",
       "collections_12_mths_ex_med     0\n",
       "policy_code                    0\n",
       "application_type               0\n",
       "dtype: int64"
      ]
     },
     "execution_count": 86,
     "metadata": {},
     "output_type": "execute_result"
    }
   ],
   "source": [
    "data.isnull().sum()"
   ]
  },
  {
   "cell_type": "markdown",
   "metadata": {
    "_cell_guid": "1202d992-b41b-4b82-acf6-bf99153f8015",
    "_uuid": "523d72c6-e636-4bcd-98ea-1a5447500988",
    "execution": {
     "iopub.execute_input": "2022-08-31T16:42:08.257158Z",
     "iopub.status.busy": "2022-08-31T16:42:08.256620Z",
     "iopub.status.idle": "2022-08-31T16:42:08.264734Z",
     "shell.execute_reply": "2022-08-31T16:42:08.263000Z",
     "shell.execute_reply.started": "2022-08-31T16:42:08.257120Z"
    }
   },
   "source": [
    "<h2 style=\"background-color:green;font-family:verdana;color:white;font-size:100%;text-align:center;border-radius:10px 10px;letter-spacing:0.5px;padding: 10px\">step 4. Pre-processing and Exploratory Analysis¶\n",
    "\n",
    " </h2>"
   ]
  },
  {
   "cell_type": "code",
   "execution_count": 87,
   "metadata": {
    "_cell_guid": "f0841234-ebf3-472a-9ceb-483bc812ff86",
    "_uuid": "d423dad2-546a-4040-9b37-ecba84ba4568",
    "execution": {
     "iopub.execute_input": "2022-09-06T09:47:10.018602Z",
     "iopub.status.busy": "2022-09-06T09:47:10.018126Z",
     "iopub.status.idle": "2022-09-06T09:47:10.026689Z",
     "shell.execute_reply": "2022-09-06T09:47:10.025628Z",
     "shell.execute_reply.started": "2022-09-06T09:47:10.018560Z"
    },
    "jupyter": {
     "outputs_hidden": false
    }
   },
   "outputs": [
    {
     "data": {
      "text/plain": [
       "(466285, 38)"
      ]
     },
     "execution_count": 87,
     "metadata": {},
     "output_type": "execute_result"
    }
   ],
   "source": [
    "data.shape"
   ]
  },
  {
   "cell_type": "code",
   "execution_count": 88,
   "metadata": {
    "_cell_guid": "0371bdc3-e245-4560-954d-f0c0887dae6a",
    "_uuid": "9c707936-81a5-491b-9def-8baa77633db6",
    "execution": {
     "iopub.execute_input": "2022-09-06T09:47:10.428982Z",
     "iopub.status.busy": "2022-09-06T09:47:10.428517Z",
     "iopub.status.idle": "2022-09-06T09:47:10.460545Z",
     "shell.execute_reply": "2022-09-06T09:47:10.458811Z",
     "shell.execute_reply.started": "2022-09-06T09:47:10.428941Z"
    },
    "jupyter": {
     "outputs_hidden": false
    }
   },
   "outputs": [
    {
     "data": {
      "text/plain": [
       "Current                                                224226\n",
       "Fully Paid                                             184739\n",
       "Charged Off                                             42475\n",
       "Late (31-120 days)                                       6900\n",
       "In Grace Period                                          3146\n",
       "Does not meet the credit policy. Status:Fully Paid       1988\n",
       "Late (16-30 days)                                        1218\n",
       "Default                                                   832\n",
       "Does not meet the credit policy. Status:Charged Off       761\n",
       "Name: loan_status, dtype: int64"
      ]
     },
     "execution_count": 88,
     "metadata": {},
     "output_type": "execute_result"
    }
   ],
   "source": [
    "data['loan_status'].value_counts()"
   ]
  },
  {
   "cell_type": "code",
   "execution_count": 89,
   "metadata": {
    "_cell_guid": "ccbff47c-c55d-4747-a9bc-222ebac38592",
    "_uuid": "9af4ab92-b40a-4729-80f4-04d3f0458934",
    "execution": {
     "iopub.execute_input": "2022-09-06T09:47:10.633592Z",
     "iopub.status.busy": "2022-09-06T09:47:10.633140Z",
     "iopub.status.idle": "2022-09-06T09:47:10.955862Z",
     "shell.execute_reply": "2022-09-06T09:47:10.953626Z",
     "shell.execute_reply.started": "2022-09-06T09:47:10.633557Z"
    },
    "jupyter": {
     "outputs_hidden": false
    }
   },
   "outputs": [
    {
     "data": {
      "text/plain": [
       "0    465453\n",
       "1       832\n",
       "Name: target, dtype: int64"
      ]
     },
     "execution_count": 89,
     "metadata": {},
     "output_type": "execute_result"
    }
   ],
   "source": [
    "target = [1 if i=='Default' else 0 for i in data['loan_status']]\n",
    "data['target'] = target\n",
    "data['target'].value_counts()"
   ]
  },
  {
   "cell_type": "code",
   "execution_count": 90,
   "metadata": {
    "_cell_guid": "f55c36cc-c430-4c91-9419-21c16c3929bf",
    "_uuid": "b09eb200-eb98-4943-9a24-bb26a9e54b16",
    "execution": {
     "iopub.execute_input": "2022-09-06T09:47:10.975433Z",
     "iopub.status.busy": "2022-09-06T09:47:10.974595Z",
     "iopub.status.idle": "2022-09-06T09:47:11.327103Z",
     "shell.execute_reply": "2022-09-06T09:47:11.324916Z",
     "shell.execute_reply.started": "2022-09-06T09:47:10.975362Z"
    },
    "jupyter": {
     "outputs_hidden": false
    }
   },
   "outputs": [
    {
     "data": {
      "image/png": "[encoded data removed]",
      "text/plain": [
       "<Figure size 720x360 with 1 Axes>"
      ]
     },
     "metadata": {
      "needs_background": "light"
     },
     "output_type": "display_data"
    }
   ],
   "source": [
    "ax = sns.countplot(x = data.target ,palette=\"Set3\")\n",
    "sns.set(font_scale=1.5)\n",
    "ax.set_ylim(top = 150000)\n",
    "ax.set_xlabel('Defaulter loan status')\n",
    "ax.set_ylabel('Frequency')\n",
    "fig = plt.gcf()\n",
    "fig.set_size_inches(10,5)\n",
    "ax.set_ylim(top=160000)\n",
    "\n",
    "plt.show()"
   ]
  },
  {
   "cell_type": "markdown",
   "metadata": {
    "_cell_guid": "90284765-a242-46c1-9188-fb775a6c2f4a",
    "_uuid": "04419250-709a-485f-a603-ee8bc011138b",
    "execution": {
     "iopub.execute_input": "2022-09-05T16:19:53.305119Z",
     "iopub.status.busy": "2022-09-05T16:19:53.304555Z",
     "iopub.status.idle": "2022-09-05T16:19:53.312755Z",
     "shell.execute_reply": "2022-09-05T16:19:53.311198Z",
     "shell.execute_reply.started": "2022-09-05T16:19:53.305077Z"
    }
   },
   "source": [
    "we can see we have max customer who is not defaulter"
   ]
  },
  {
   "cell_type": "code",
   "execution_count": 91,
   "metadata": {
    "_cell_guid": "1c3f09e2-4cff-49eb-a8f8-0bbc1452f462",
    "_uuid": "dfba9fd4-5100-49cb-aeb7-53931bb4effc",
    "execution": {
     "iopub.execute_input": "2022-09-06T09:47:11.873680Z",
     "iopub.status.busy": "2022-09-06T09:47:11.873207Z",
     "iopub.status.idle": "2022-09-06T09:47:11.882602Z",
     "shell.execute_reply": "2022-09-06T09:47:11.880901Z",
     "shell.execute_reply.started": "2022-09-06T09:47:11.873644Z"
    },
    "jupyter": {
     "outputs_hidden": false
    }
   },
   "outputs": [
    {
     "data": {
      "text/plain": [
       "Index(['member_id', 'loan_amnt', 'funded_amnt', 'funded_amnt_inv', 'term',\n",
       "       'int_rate', 'installment', 'grade', 'sub_grade', 'home_ownership',\n",
       "       'annual_inc', 'verification_status', 'issue_d', 'loan_status',\n",
       "       'pymnt_plan', 'purpose', 'zip_code', 'addr_state', 'dti', 'delinq_2yrs',\n",
       "       'inq_last_6mths', 'open_acc', 'pub_rec', 'revol_bal', 'revol_util',\n",
       "       'total_acc', 'initial_list_status', 'out_prncp', 'out_prncp_inv',\n",
       "       'total_pymnt', 'total_pymnt_inv', 'recoveries',\n",
       "       'collection_recovery_fee', 'last_pymnt_amnt', 'last_credit_pull_d',\n",
       "       'collections_12_mths_ex_med', 'policy_code', 'application_type',\n",
       "       'target'],\n",
       "      dtype='object')"
      ]
     },
     "execution_count": 91,
     "metadata": {},
     "output_type": "execute_result"
    }
   ],
   "source": [
    "data.columns"
   ]
  },
  {
   "cell_type": "markdown",
   "metadata": {
    "_cell_guid": "a71b5bb3-2bc5-4b0d-b408-5cf766ed4abf",
    "_uuid": "ed9a9a67-a8cb-4a46-b516-411aa240822a"
   },
   "source": [
    "Since no customer has taken loan again, we can drop member id ."
   ]
  },
  {
   "cell_type": "code",
   "execution_count": 92,
   "metadata": {
    "_cell_guid": "648b7f86-ceb3-4316-be28-47f21be005d2",
    "_uuid": "bad04cdc-d1a9-4b88-8346-93816e49013b",
    "execution": {
     "iopub.execute_input": "2022-09-06T09:47:12.824650Z",
     "iopub.status.busy": "2022-09-06T09:47:12.823691Z",
     "iopub.status.idle": "2022-09-06T09:47:13.056586Z",
     "shell.execute_reply": "2022-09-06T09:47:13.055072Z",
     "shell.execute_reply.started": "2022-09-06T09:47:12.824607Z"
    },
    "jupyter": {
     "outputs_hidden": false
    }
   },
   "outputs": [],
   "source": [
    "data.drop(['member_id'], axis=1, inplace=True)"
   ]
  },
  {
   "cell_type": "markdown",
   "metadata": {
    "_cell_guid": "c3c98540-4480-4143-8704-33dac5ec4e9b",
    "_uuid": "02ea55a7-4030-41d9-830b-6136d375d520"
   },
   "source": [
    "**loan_amnt**\n",
    "\n",
    "Data Dictionary: \"The listed amount of the loan applied for by the borrower. If at some point in time, the credit department reduces the loan amount, then it will be reflected in this value.\""
   ]
  },
  {
   "cell_type": "code",
   "execution_count": 93,
   "metadata": {
    "_cell_guid": "476fe85e-c8fe-4add-911b-23584ca20e2e",
    "_uuid": "92202a41-58f7-47aa-b254-7ad3522bbd2b",
    "execution": {
     "iopub.execute_input": "2022-09-06T09:47:14.539336Z",
     "iopub.status.busy": "2022-09-06T09:47:14.538896Z",
     "iopub.status.idle": "2022-09-06T09:47:14.565756Z",
     "shell.execute_reply": "2022-09-06T09:47:14.564879Z",
     "shell.execute_reply.started": "2022-09-06T09:47:14.539300Z"
    },
    "jupyter": {
     "outputs_hidden": false
    }
   },
   "outputs": [
    {
     "data": {
      "text/plain": [
       "count    466285.000000\n",
       "mean      14317.277577\n",
       "std        8286.509164\n",
       "min         500.000000\n",
       "25%        8000.000000\n",
       "50%       12000.000000\n",
       "75%       20000.000000\n",
       "max       35000.000000\n",
       "Name: loan_amnt, dtype: float64"
      ]
     },
     "execution_count": 93,
     "metadata": {},
     "output_type": "execute_result"
    }
   ],
   "source": [
    "data['loan_amnt'].describe()"
   ]
  },
  {
   "cell_type": "code",
   "execution_count": 94,
   "metadata": {
    "_cell_guid": "a3ebd106-8b16-4d45-9326-668dc3889200",
    "_uuid": "fd238b6b-2157-4928-be6c-d35a989dc0d0",
    "execution": {
     "iopub.execute_input": "2022-09-06T09:47:14.829630Z",
     "iopub.status.busy": "2022-09-06T09:47:14.828349Z",
     "iopub.status.idle": "2022-09-06T09:47:15.107653Z",
     "shell.execute_reply": "2022-09-06T09:47:15.106357Z",
     "shell.execute_reply.started": "2022-09-06T09:47:14.829563Z"
    },
    "jupyter": {
     "outputs_hidden": false
    }
   },
   "outputs": [
    {
     "data": {
      "text/plain": [
       "Text(0, 0.5, 'Loan Amount')"
      ]
     },
     "execution_count": 94,
     "metadata": {},
     "output_type": "execute_result"
    },
    {
     "data": {
      "image/png": "[encoded data removed]",
      "text/plain": [
       "<Figure size 432x288 with 1 Axes>"
      ]
     },
     "metadata": {},
     "output_type": "display_data"
    }
   ],
   "source": [
    "import numpy as np\n",
    "import seaborn as sns\n",
    "import matplotlib.pyplot as plt\n",
    "#plot_var('loan_amnt', 'Loan Amount', continuous=True)\n",
    "sns.boxplot(x='target', y='loan_amnt', data=data)\n",
    "plt.ylabel('Loan Amount')"
   ]
  },
  {
   "cell_type": "code",
   "execution_count": 95,
   "metadata": {
    "_cell_guid": "80a0345c-6285-44d8-a365-d9a2b275a676",
    "_uuid": "8fd6d82f-da55-4520-bc5f-519d1a78960c",
    "execution": {
     "iopub.execute_input": "2022-09-06T09:47:15.588871Z",
     "iopub.status.busy": "2022-09-06T09:47:15.588447Z",
     "iopub.status.idle": "2022-09-06T09:47:17.755964Z",
     "shell.execute_reply": "2022-09-06T09:47:17.754580Z",
     "shell.execute_reply.started": "2022-09-06T09:47:15.588836Z"
    },
    "jupyter": {
     "outputs_hidden": false
    }
   },
   "outputs": [
    {
     "data": {
      "image/png": "[encoded data removed]",
      "text/plain": [
       "<Figure size 432x288 with 1 Axes>"
      ]
     },
     "metadata": {},
     "output_type": "display_data"
    }
   ],
   "source": [
    "sns.distplot(data['loan_amnt'],color='darkblue')\n",
    "plt.xlabel('Loan Amount',fontsize=12)\n",
    "plt.grid()"
   ]
  },
  {
   "cell_type": "markdown",
   "metadata": {
    "_cell_guid": "de0df162-97ff-4a07-b4d2-b0d47da4f896",
    "_uuid": "623c50d7-2e93-4952-8239-1d7b5d8afb08"
   },
   "source": [
    "**term**\n",
    "\n",
    "Data Dictionary: \"The number of payments on the loan. Values are in months and can be either 36 or 60.\""
   ]
  },
  {
   "cell_type": "code",
   "execution_count": 96,
   "metadata": {
    "_cell_guid": "7e453f78-fed8-485c-89b9-a797264710f0",
    "_uuid": "01babcbd-69b3-41b3-af8a-5e8499ac571c",
    "execution": {
     "iopub.execute_input": "2022-09-06T09:47:17.758559Z",
     "iopub.status.busy": "2022-09-06T09:47:17.758016Z",
     "iopub.status.idle": "2022-09-06T09:47:17.789193Z",
     "shell.execute_reply": "2022-09-06T09:47:17.787636Z",
     "shell.execute_reply.started": "2022-09-06T09:47:17.758523Z"
    },
    "jupyter": {
     "outputs_hidden": false
    }
   },
   "outputs": [
    {
     "data": {
      "text/plain": [
       " 36 months    337953\n",
       " 60 months    128332\n",
       "Name: term, dtype: int64"
      ]
     },
     "execution_count": 96,
     "metadata": {},
     "output_type": "execute_result"
    }
   ],
   "source": [
    "data['term'].value_counts(dropna=False)"
   ]
  },
  {
   "cell_type": "code",
   "execution_count": 97,
   "metadata": {
    "_cell_guid": "fedda949-c268-4388-8a54-56b99d3125f5",
    "_uuid": "c03bfd8c-318f-4980-9cc9-75616c4f4bcb",
    "execution": {
     "iopub.execute_input": "2022-09-06T09:47:17.791082Z",
     "iopub.status.busy": "2022-09-06T09:47:17.790703Z",
     "iopub.status.idle": "2022-09-06T09:47:32.912983Z",
     "shell.execute_reply": "2022-09-06T09:47:32.912017Z",
     "shell.execute_reply.started": "2022-09-06T09:47:17.791047Z"
    },
    "jupyter": {
     "outputs_hidden": false
    }
   },
   "outputs": [
    {
     "data": {
      "image/png": "[encoded data removed]",
      "text/plain": [
       "<Figure size 432x432 with 1 Axes>"
      ]
     },
     "metadata": {},
     "output_type": "display_data"
    }
   ],
   "source": [
    "g  = sns.factorplot(x=\"term\",y=\"target\",data=data,kind=\"bar\", size = 6 , \n",
    "palette = \"muted\")\n",
    "g.despine(left=True)\n",
    "g = g.set_ylabels(\"Target probability\")"
   ]
  },
  {
   "cell_type": "code",
   "execution_count": 98,
   "metadata": {
    "_cell_guid": "cb0b5e15-4c52-4fd6-b9b5-ec22ebef3026",
    "_uuid": "f3eae1c8-003a-47eb-8bd9-0611cb6f30df",
    "execution": {
     "iopub.execute_input": "2022-09-06T09:47:32.915724Z",
     "iopub.status.busy": "2022-09-06T09:47:32.915039Z",
     "iopub.status.idle": "2022-09-06T09:47:32.947426Z",
     "shell.execute_reply": "2022-09-06T09:47:32.945798Z",
     "shell.execute_reply.started": "2022-09-06T09:47:32.915680Z"
    },
    "jupyter": {
     "outputs_hidden": false
    }
   },
   "outputs": [
    {
     "data": {
      "text/plain": [
       " 36 months    0.724778\n",
       " 60 months    0.275222\n",
       "Name: term, dtype: float64"
      ]
     },
     "execution_count": 98,
     "metadata": {},
     "output_type": "execute_result"
    }
   ],
   "source": [
    "data['term'].value_counts(normalize=True)"
   ]
  },
  {
   "cell_type": "code",
   "execution_count": 99,
   "metadata": {
    "_cell_guid": "ac21aead-7edb-4e27-a5b2-9c893af33523",
    "_uuid": "006dd66f-7c05-44eb-a4eb-6f57b6a5f5cb",
    "execution": {
     "iopub.execute_input": "2022-09-06T09:47:32.949630Z",
     "iopub.status.busy": "2022-09-06T09:47:32.949190Z",
     "iopub.status.idle": "2022-09-06T09:47:33.090236Z",
     "shell.execute_reply": "2022-09-06T09:47:33.088950Z",
     "shell.execute_reply.started": "2022-09-06T09:47:32.949589Z"
    },
    "jupyter": {
     "outputs_hidden": false
    }
   },
   "outputs": [
    {
     "data": {
      "text/plain": [
       "term\n",
       " 36 months    0.001450\n",
       " 60 months    0.002665\n",
       "Name: loan_status, dtype: float64"
      ]
     },
     "execution_count": 99,
     "metadata": {},
     "output_type": "execute_result"
    }
   ],
   "source": [
    "data.groupby('term')['loan_status'].value_counts(normalize=True).loc[:,'Default']"
   ]
  },
  {
   "cell_type": "markdown",
   "metadata": {
    "_cell_guid": "99909c73-202d-4d7e-8203-df7773a8383b",
    "_uuid": "543201b8-fa58-4921-b341-a1b74f3713e2"
   },
   "source": [
    "<div style=\"color:white;\n",
    "           display:fill;\n",
    "           background-color:#29285D;\n",
    "           padding: 10px;\n",
    "           font-family:Verdana;\n",
    "           letter-spacing:0.5px\">\n",
    "    <h3 style=\"color:white;padding-left:20px\"><b>Interfaces 👀</b></h3>\n",
    "       <p style=\"color:white;font-size:110%;padding-left:50px\">\n",
    "          About 60% of the not deault loans have three-year periods, and the rest have five-year periods.\n",
    "        </p>\n",
    "    </div>"
   ]
  },
  {
   "cell_type": "markdown",
   "metadata": {
    "_cell_guid": "f3bb5f3d-7d83-4ddf-ad5b-07bd224cf2d0",
    "_uuid": "8d9b908c-4c32-4183-9dfb-b15b7fb92808"
   },
   "source": [
    " **int_rate**\n",
    " \n",
    "Data Dictionary: \"Interest Rate on the loan.\""
   ]
  },
  {
   "cell_type": "code",
   "execution_count": 100,
   "metadata": {
    "_cell_guid": "6934c4a2-ba01-45ad-8eb7-6cf13163ef5d",
    "_uuid": "f9714579-10b4-4463-a5ac-82f9df7a622c",
    "execution": {
     "iopub.execute_input": "2022-09-06T09:47:33.092591Z",
     "iopub.status.busy": "2022-09-06T09:47:33.092083Z",
     "iopub.status.idle": "2022-09-06T09:47:33.122525Z",
     "shell.execute_reply": "2022-09-06T09:47:33.121282Z",
     "shell.execute_reply.started": "2022-09-06T09:47:33.092545Z"
    },
    "jupyter": {
     "outputs_hidden": false
    }
   },
   "outputs": [
    {
     "data": {
      "text/plain": [
       "count    466285.000000\n",
       "mean         13.829236\n",
       "std           4.357587\n",
       "min           5.420000\n",
       "25%          10.990000\n",
       "50%          13.660000\n",
       "75%          16.490000\n",
       "max          26.060000\n",
       "Name: int_rate, dtype: float64"
      ]
     },
     "execution_count": 100,
     "metadata": {},
     "output_type": "execute_result"
    }
   ],
   "source": [
    "data['int_rate'].describe()"
   ]
  },
  {
   "cell_type": "code",
   "execution_count": 101,
   "metadata": {
    "_cell_guid": "68ab2ddd-e5dc-45ec-bfb3-059e547c257a",
    "_uuid": "74a62fad-cb65-4d8b-a6bd-72d7a69896a2",
    "execution": {
     "iopub.execute_input": "2022-09-06T09:47:33.124446Z",
     "iopub.status.busy": "2022-09-06T09:47:33.124091Z",
     "iopub.status.idle": "2022-09-06T09:47:35.305954Z",
     "shell.execute_reply": "2022-09-06T09:47:35.304648Z",
     "shell.execute_reply.started": "2022-09-06T09:47:33.124413Z"
    },
    "jupyter": {
     "outputs_hidden": false
    }
   },
   "outputs": [
    {
     "data": {
      "image/png": "[encoded data removed]",
      "text/plain": [
       "<Figure size 432x288 with 1 Axes>"
      ]
     },
     "metadata": {},
     "output_type": "display_data"
    }
   ],
   "source": [
    "sns.distplot(data['int_rate'],color='darkblue')\n",
    "plt.xlabel('Loan Interest Rate',fontsize=12)\n",
    "plt.grid()"
   ]
  },
  {
   "cell_type": "code",
   "execution_count": 102,
   "metadata": {
    "_cell_guid": "459768d1-8ac0-4b07-983f-94701491f7de",
    "_uuid": "e29014ba-ed7e-4695-a97d-16689983f727",
    "execution": {
     "iopub.execute_input": "2022-09-06T09:47:35.311899Z",
     "iopub.status.busy": "2022-09-06T09:47:35.311471Z",
     "iopub.status.idle": "2022-09-06T09:47:45.534962Z",
     "shell.execute_reply": "2022-09-06T09:47:45.533446Z",
     "shell.execute_reply.started": "2022-09-06T09:47:35.311864Z"
    },
    "jupyter": {
     "outputs_hidden": false
    }
   },
   "outputs": [
    {
     "data": {
      "image/png": "[encoded data removed]",
      "text/plain": [
       "<Figure size 504x288 with 1 Axes>"
      ]
     },
     "metadata": {},
     "output_type": "display_data"
    }
   ],
   "source": [
    "f, ax = plt.subplots(figsize=(7,4))\n",
    "sns.barplot(y='int_rate', x=\"target\",  data=data);"
   ]
  },
  {
   "cell_type": "markdown",
   "metadata": {
    "_cell_guid": "04718d35-d0b8-4c07-a47f-9b02a334f9ee",
    "_uuid": "fe7acb43-4d80-41ab-9372-a1120ea29a86"
   },
   "source": [
    "**installment**\n",
    "\n",
    "Data Dictionary: \"The monthly payment owed by the borrower if the loan originates.\""
   ]
  },
  {
   "cell_type": "code",
   "execution_count": 103,
   "metadata": {
    "_cell_guid": "c05d6ebe-c8e2-4f8f-9370-b8a6f574f48b",
    "_uuid": "1fc1f1c7-6c94-41f1-a0c9-565f1bc85569",
    "execution": {
     "iopub.execute_input": "2022-09-06T09:47:45.536902Z",
     "iopub.status.busy": "2022-09-06T09:47:45.536524Z",
     "iopub.status.idle": "2022-09-06T09:47:47.812372Z",
     "shell.execute_reply": "2022-09-06T09:47:47.811051Z",
     "shell.execute_reply.started": "2022-09-06T09:47:45.536869Z"
    },
    "jupyter": {
     "outputs_hidden": false
    }
   },
   "outputs": [
    {
     "data": {
      "image/png": "[encoded data removed]",
      "text/plain": [
       "<Figure size 432x288 with 1 Axes>"
      ]
     },
     "metadata": {},
     "output_type": "display_data"
    }
   ],
   "source": [
    "sns.distplot(data['installment'],color='darkblue')\n",
    "plt.xlabel('Loan Installment',fontsize=12)\n",
    "plt.grid()"
   ]
  },
  {
   "cell_type": "code",
   "execution_count": 104,
   "metadata": {
    "_cell_guid": "b1a57560-2561-4b64-9e1b-76559a482050",
    "_uuid": "ce54602a-c670-4c19-9a81-2c2118640234",
    "execution": {
     "iopub.execute_input": "2022-09-06T09:47:47.814761Z",
     "iopub.status.busy": "2022-09-06T09:47:47.814212Z",
     "iopub.status.idle": "2022-09-06T09:47:57.552449Z",
     "shell.execute_reply": "2022-09-06T09:47:57.551078Z",
     "shell.execute_reply.started": "2022-09-06T09:47:47.814720Z"
    },
    "jupyter": {
     "outputs_hidden": false
    }
   },
   "outputs": [
    {
     "data": {
      "image/png": "[encoded data removed]",
      "text/plain": [
       "<Figure size 432x288 with 1 Axes>"
      ]
     },
     "metadata": {},
     "output_type": "display_data"
    }
   ],
   "source": [
    "#f, ax = plt.subplots(figsize=(7,4))\n",
    "sns.barplot(y='installment', x=\"target\",  data=data);"
   ]
  },
  {
   "cell_type": "code",
   "execution_count": 105,
   "metadata": {
    "_cell_guid": "9e4b40d9-9a47-4580-8584-a857381e1674",
    "_uuid": "91791076-039a-432e-b135-49cfb86314f9",
    "execution": {
     "iopub.execute_input": "2022-09-06T09:47:57.555027Z",
     "iopub.status.busy": "2022-09-06T09:47:57.554492Z",
     "iopub.status.idle": "2022-09-06T09:47:57.621931Z",
     "shell.execute_reply": "2022-09-06T09:47:57.620460Z",
     "shell.execute_reply.started": "2022-09-06T09:47:57.554958Z"
    },
    "jupyter": {
     "outputs_hidden": false
    }
   },
   "outputs": [
    {
     "data": {
      "text/html": [
       "<div>\n",
       "<style scoped>\n",
       "    .dataframe tbody tr th:only-of-type {\n",
       "        vertical-align: middle;\n",
       "    }\n",
       "\n",
       "    .dataframe tbody tr th {\n",
       "        vertical-align: top;\n",
       "    }\n",
       "\n",
       "    .dataframe thead th {\n",
       "        text-align: right;\n",
       "    }\n",
       "</style>\n",
       "<table border=\"1\" class=\"dataframe\">\n",
       "  <thead>\n",
       "    <tr style=\"text-align: right;\">\n",
       "      <th></th>\n",
       "      <th>count</th>\n",
       "      <th>mean</th>\n",
       "      <th>std</th>\n",
       "      <th>min</th>\n",
       "      <th>25%</th>\n",
       "      <th>50%</th>\n",
       "      <th>75%</th>\n",
       "      <th>max</th>\n",
       "    </tr>\n",
       "    <tr>\n",
       "      <th>target</th>\n",
       "      <th></th>\n",
       "      <th></th>\n",
       "      <th></th>\n",
       "      <th></th>\n",
       "      <th></th>\n",
       "      <th></th>\n",
       "      <th></th>\n",
       "      <th></th>\n",
       "    </tr>\n",
       "  </thead>\n",
       "  <tbody>\n",
       "    <tr>\n",
       "      <th>0</th>\n",
       "      <td>465453.0</td>\n",
       "      <td>432.019237</td>\n",
       "      <td>243.490334</td>\n",
       "      <td>15.67</td>\n",
       "      <td>256.6700</td>\n",
       "      <td>379.82</td>\n",
       "      <td>566.5600</td>\n",
       "      <td>1409.99</td>\n",
       "    </tr>\n",
       "    <tr>\n",
       "      <th>1</th>\n",
       "      <td>832.0</td>\n",
       "      <td>455.537296</td>\n",
       "      <td>239.789217</td>\n",
       "      <td>33.21</td>\n",
       "      <td>288.4575</td>\n",
       "      <td>398.52</td>\n",
       "      <td>580.3025</td>\n",
       "      <td>1300.20</td>\n",
       "    </tr>\n",
       "  </tbody>\n",
       "</table>\n",
       "</div>"
      ],
      "text/plain": [
       "           count        mean         std    min       25%     50%       75%  \\\n",
       "target                                                                        \n",
       "0       465453.0  432.019237  243.490334  15.67  256.6700  379.82  566.5600   \n",
       "1          832.0  455.537296  239.789217  33.21  288.4575  398.52  580.3025   \n",
       "\n",
       "            max  \n",
       "target           \n",
       "0       1409.99  \n",
       "1       1300.20  "
      ]
     },
     "execution_count": 105,
     "metadata": {},
     "output_type": "execute_result"
    }
   ],
   "source": [
    "data.groupby('target')['installment'].describe()"
   ]
  },
  {
   "cell_type": "markdown",
   "metadata": {
    "_cell_guid": "77180de3-769a-4fb2-8021-759fb3c0ef41",
    "_uuid": "083274ab-e86f-4696-a442-fa6954ed3c93"
   },
   "source": [
    "**** grade, sub_grade**\n",
    "**\n",
    "\n",
    "Data Dictionary for grade: \"LendingClub assigned loan grade.\"\n",
    "\n",
    "Data Dictionary for sub_grade: \"LendingClub assigned loan subgrade.\""
   ]
  },
  {
   "cell_type": "code",
   "execution_count": 106,
   "metadata": {
    "_cell_guid": "890f915c-33cb-4634-9c84-f25d5feeafa9",
    "_uuid": "fd54fc63-1ec6-46a4-b65d-fff9695605f1",
    "execution": {
     "iopub.execute_input": "2022-09-06T09:47:57.624308Z",
     "iopub.status.busy": "2022-09-06T09:47:57.623786Z",
     "iopub.status.idle": "2022-09-06T09:47:57.661823Z",
     "shell.execute_reply": "2022-09-06T09:47:57.660501Z",
     "shell.execute_reply.started": "2022-09-06T09:47:57.624239Z"
    },
    "jupyter": {
     "outputs_hidden": false
    }
   },
   "outputs": [
    {
     "name": "stdout",
     "output_type": "stream",
     "text": [
      "['A', 'B', 'C', 'D', 'E', 'F', 'G']\n"
     ]
    }
   ],
   "source": [
    "print(sorted(data['grade'].unique()))"
   ]
  },
  {
   "cell_type": "code",
   "execution_count": 107,
   "metadata": {
    "_cell_guid": "6d0c3d02-aaa5-490b-80ad-6d0f4ab16480",
    "_uuid": "d5069fcf-4afe-4bfb-811d-7844681e56d4",
    "execution": {
     "iopub.execute_input": "2022-09-06T09:47:57.663702Z",
     "iopub.status.busy": "2022-09-06T09:47:57.663203Z",
     "iopub.status.idle": "2022-09-06T09:47:57.694375Z",
     "shell.execute_reply": "2022-09-06T09:47:57.692982Z",
     "shell.execute_reply.started": "2022-09-06T09:47:57.663655Z"
    },
    "jupyter": {
     "outputs_hidden": false
    }
   },
   "outputs": [
    {
     "data": {
      "text/plain": [
       "B    136929\n",
       "C    125293\n",
       "D     76888\n",
       "A     74867\n",
       "E     35757\n",
       "F     13229\n",
       "G      3322\n",
       "Name: grade, dtype: int64"
      ]
     },
     "execution_count": 107,
     "metadata": {},
     "output_type": "execute_result"
    }
   ],
   "source": [
    "data['grade'].value_counts()"
   ]
  },
  {
   "cell_type": "code",
   "execution_count": 108,
   "metadata": {
    "_cell_guid": "3c470ede-38c9-4c11-8f45-2c1cdbc777f5",
    "_uuid": "dc06e0f2-a569-4fd6-8c94-4322abc8ed43",
    "execution": {
     "iopub.execute_input": "2022-09-06T09:47:57.697700Z",
     "iopub.status.busy": "2022-09-06T09:47:57.695833Z",
     "iopub.status.idle": "2022-09-06T09:47:57.737324Z",
     "shell.execute_reply": "2022-09-06T09:47:57.735657Z",
     "shell.execute_reply.started": "2022-09-06T09:47:57.697645Z"
    },
    "jupyter": {
     "outputs_hidden": false
    }
   },
   "outputs": [
    {
     "name": "stdout",
     "output_type": "stream",
     "text": [
      "['A1', 'A2', 'A3', 'A4', 'A5', 'B1', 'B2', 'B3', 'B4', 'B5', 'C1', 'C2', 'C3', 'C4', 'C5', 'D1', 'D2', 'D3', 'D4', 'D5', 'E1', 'E2', 'E3', 'E4', 'E5', 'F1', 'F2', 'F3', 'F4', 'F5', 'G1', 'G2', 'G3', 'G4', 'G5']\n"
     ]
    }
   ],
   "source": [
    "print(sorted(data['sub_grade'].unique()))"
   ]
  },
  {
   "cell_type": "code",
   "execution_count": 109,
   "metadata": {
    "_cell_guid": "203d02d1-a11e-4fcf-831f-4eec8bba3811",
    "_uuid": "ead7446f-16bc-4f9e-990c-3dfec5a32948",
    "execution": {
     "iopub.execute_input": "2022-09-06T09:47:57.739586Z",
     "iopub.status.busy": "2022-09-06T09:47:57.738690Z",
     "iopub.status.idle": "2022-09-06T09:47:57.844961Z",
     "shell.execute_reply": "2022-09-06T09:47:57.843792Z",
     "shell.execute_reply.started": "2022-09-06T09:47:57.739517Z"
    },
    "jupyter": {
     "outputs_hidden": false
    }
   },
   "outputs": [],
   "source": [
    "data.drop('grade', axis=1, inplace=True)"
   ]
  },
  {
   "cell_type": "code",
   "execution_count": 110,
   "metadata": {
    "_cell_guid": "765b364c-fcd1-4b56-839a-4d01e33b1a86",
    "_uuid": "02a1b70d-733e-4b6a-8fed-ccc261eb4b02",
    "execution": {
     "iopub.execute_input": "2022-09-06T09:47:57.847583Z",
     "iopub.status.busy": "2022-09-06T09:47:57.846648Z",
     "iopub.status.idle": "2022-09-06T09:48:05.190834Z",
     "shell.execute_reply": "2022-09-06T09:48:05.189589Z",
     "shell.execute_reply.started": "2022-09-06T09:47:57.847485Z"
    },
    "jupyter": {
     "outputs_hidden": false
    }
   },
   "outputs": [
    {
     "data": {
      "image/png": "[encoded data removed]",
      "text/plain": [
       "<Figure size 1440x288 with 1 Axes>"
      ]
     },
     "metadata": {},
     "output_type": "display_data"
    }
   ],
   "source": [
    "f, ax = plt.subplots(figsize=(20,4))\n",
    "sns.barplot(x='sub_grade', y=\"target\",  data=data);"
   ]
  },
  {
   "cell_type": "markdown",
   "metadata": {
    "_cell_guid": "4ceadcdc-dfa6-4e1a-9cfa-f893055ee91b",
    "_uuid": "263c54b2-29dc-4c86-95a7-b5baea8839f2"
   },
   "source": [
    "**home_ownership**\n",
    "\n",
    "Data Dictionary: \"The home ownership status provided by the borrower during registration or obtained from the credit report. Our values are: RENT, OWN, MORTGAGE, OTHER.\""
   ]
  },
  {
   "cell_type": "code",
   "execution_count": 111,
   "metadata": {
    "_cell_guid": "716c23bc-8b48-4aa4-920e-84849307bfb0",
    "_uuid": "bef8d198-618a-4855-8bcc-7006ee7d7746",
    "execution": {
     "iopub.execute_input": "2022-09-06T09:48:05.192836Z",
     "iopub.status.busy": "2022-09-06T09:48:05.192451Z",
     "iopub.status.idle": "2022-09-06T09:48:05.221216Z",
     "shell.execute_reply": "2022-09-06T09:48:05.220338Z",
     "shell.execute_reply.started": "2022-09-06T09:48:05.192800Z"
    },
    "jupyter": {
     "outputs_hidden": false
    }
   },
   "outputs": [
    {
     "data": {
      "text/plain": [
       "MORTGAGE    235875\n",
       "RENT        188473\n",
       "OWN          41704\n",
       "OTHER          182\n",
       "NONE            50\n",
       "ANY              1\n",
       "Name: home_ownership, dtype: int64"
      ]
     },
     "execution_count": 111,
     "metadata": {},
     "output_type": "execute_result"
    }
   ],
   "source": [
    "data['home_ownership'].value_counts(dropna=False)"
   ]
  },
  {
   "cell_type": "code",
   "execution_count": 112,
   "metadata": {
    "_cell_guid": "05497391-7bf7-43aa-876a-65e1e0d31a1d",
    "_uuid": "e57a1601-1f13-4b61-a726-d2f4b09a9bb3",
    "execution": {
     "iopub.execute_input": "2022-09-06T09:48:05.223180Z",
     "iopub.status.busy": "2022-09-06T09:48:05.222608Z",
     "iopub.status.idle": "2022-09-06T09:48:05.285350Z",
     "shell.execute_reply": "2022-09-06T09:48:05.284337Z",
     "shell.execute_reply.started": "2022-09-06T09:48:05.223141Z"
    },
    "jupyter": {
     "outputs_hidden": false
    }
   },
   "outputs": [],
   "source": [
    "data['home_ownership'].replace(['NONE', 'ANY'], 'OTHER', inplace=True)"
   ]
  },
  {
   "cell_type": "code",
   "execution_count": 113,
   "metadata": {
    "_cell_guid": "936b23fc-d4d5-41e4-be68-ac4017e38f69",
    "_uuid": "b7117075-6a41-4310-ba29-92df43fbc562",
    "execution": {
     "iopub.execute_input": "2022-09-06T09:48:05.287338Z",
     "iopub.status.busy": "2022-09-06T09:48:05.286910Z",
     "iopub.status.idle": "2022-09-06T09:48:05.317116Z",
     "shell.execute_reply": "2022-09-06T09:48:05.315595Z",
     "shell.execute_reply.started": "2022-09-06T09:48:05.287299Z"
    },
    "jupyter": {
     "outputs_hidden": false
    }
   },
   "outputs": [
    {
     "data": {
      "text/plain": [
       "MORTGAGE    235875\n",
       "RENT        188473\n",
       "OWN          41704\n",
       "OTHER          233\n",
       "Name: home_ownership, dtype: int64"
      ]
     },
     "execution_count": 113,
     "metadata": {},
     "output_type": "execute_result"
    }
   ],
   "source": [
    "data['home_ownership'].value_counts()"
   ]
  },
  {
   "cell_type": "code",
   "execution_count": 114,
   "metadata": {
    "_cell_guid": "b942ec29-2915-4384-9a74-9c408b82385f",
    "_uuid": "22a50b66-7565-4b48-8bf5-739a3a3599a4",
    "execution": {
     "iopub.execute_input": "2022-09-06T09:48:05.325132Z",
     "iopub.status.busy": "2022-09-06T09:48:05.324031Z",
     "iopub.status.idle": "2022-09-06T09:48:13.381028Z",
     "shell.execute_reply": "2022-09-06T09:48:13.379637Z",
     "shell.execute_reply.started": "2022-09-06T09:48:05.325087Z"
    },
    "jupyter": {
     "outputs_hidden": false
    }
   },
   "outputs": [
    {
     "data": {
      "image/png": "[encoded data removed]",
      "text/plain": [
       "<Figure size 1440x288 with 1 Axes>"
      ]
     },
     "metadata": {},
     "output_type": "display_data"
    }
   ],
   "source": [
    "f, ax = plt.subplots(figsize=(20,4))\n",
    "sns.barplot(x='home_ownership', y=\"target\",  data=data);"
   ]
  },
  {
   "cell_type": "code",
   "execution_count": 115,
   "metadata": {
    "_cell_guid": "717b7026-c3db-4549-8c4a-19be079878c6",
    "_uuid": "42ec63b5-fe6b-488f-8c4f-40e5ade4ba3a",
    "execution": {
     "iopub.execute_input": "2022-09-06T09:48:13.383381Z",
     "iopub.status.busy": "2022-09-06T09:48:13.382857Z",
     "iopub.status.idle": "2022-09-06T09:48:13.517315Z",
     "shell.execute_reply": "2022-09-06T09:48:13.516058Z",
     "shell.execute_reply.started": "2022-09-06T09:48:13.383330Z"
    },
    "jupyter": {
     "outputs_hidden": false
    }
   },
   "outputs": [
    {
     "data": {
      "text/plain": [
       "home_ownership\n",
       "MORTGAGE    0.001488\n",
       "OWN         0.001655\n",
       "RENT        0.002186\n",
       "Name: loan_status, dtype: float64"
      ]
     },
     "execution_count": 115,
     "metadata": {},
     "output_type": "execute_result"
    }
   ],
   "source": [
    "data.groupby('home_ownership')['loan_status'].value_counts(normalize=True).loc[:,'Default']"
   ]
  },
  {
   "cell_type": "markdown",
   "metadata": {
    "_cell_guid": "976497e5-8f9c-4147-b1b9-c81a7836ffdd",
    "_uuid": "ba6c9ee7-bdd6-4dd3-a585-17e919f13747"
   },
   "source": [
    "**annual_inc**\n",
    "\n",
    "Data Dictionary: \"The self-reported annual income provided by the borrower during registration.\""
   ]
  },
  {
   "cell_type": "code",
   "execution_count": 116,
   "metadata": {
    "_cell_guid": "9a597fc1-ee3c-4ed6-86f7-4161edf3a9f0",
    "_uuid": "1f8c75b7-1c4a-4f67-a439-bbe578049e61",
    "execution": {
     "iopub.execute_input": "2022-09-06T09:48:13.520212Z",
     "iopub.status.busy": "2022-09-06T09:48:13.519702Z",
     "iopub.status.idle": "2022-09-06T09:48:13.555969Z",
     "shell.execute_reply": "2022-09-06T09:48:13.554649Z",
     "shell.execute_reply.started": "2022-09-06T09:48:13.520160Z"
    },
    "jupyter": {
     "outputs_hidden": false
    }
   },
   "outputs": [
    {
     "data": {
      "text/plain": [
       "count    4.662850e+05\n",
       "mean     7.327738e+04\n",
       "std      5.496333e+04\n",
       "min      1.896000e+03\n",
       "25%      4.500000e+04\n",
       "50%      6.300000e+04\n",
       "75%      8.895300e+04\n",
       "max      7.500000e+06\n",
       "Name: annual_inc, dtype: float64"
      ]
     },
     "execution_count": 116,
     "metadata": {},
     "output_type": "execute_result"
    }
   ],
   "source": [
    "data['annual_inc'].describe()"
   ]
  },
  {
   "cell_type": "code",
   "execution_count": 117,
   "metadata": {
    "_cell_guid": "6f284013-e19c-4156-9cd5-2e7bd32d75fb",
    "_uuid": "ae057406-0f94-4e6d-a0d0-7aeb964e0a16",
    "execution": {
     "iopub.execute_input": "2022-09-06T09:48:13.558377Z",
     "iopub.status.busy": "2022-09-06T09:48:13.557967Z",
     "iopub.status.idle": "2022-09-06T09:48:14.168230Z",
     "shell.execute_reply": "2022-09-06T09:48:14.166882Z",
     "shell.execute_reply.started": "2022-09-06T09:48:13.558340Z"
    },
    "jupyter": {
     "outputs_hidden": false
    }
   },
   "outputs": [],
   "source": [
    "data['annual_inc'] = data['annual_inc'].apply(lambda x: np.log10(x+1))"
   ]
  },
  {
   "cell_type": "code",
   "execution_count": 118,
   "metadata": {
    "_cell_guid": "7a30c3fb-14ab-4955-85d4-b4461df16118",
    "_uuid": "43495088-bb15-4f7f-8ae6-95dd07fc569a",
    "execution": {
     "iopub.execute_input": "2022-09-06T09:48:14.169944Z",
     "iopub.status.busy": "2022-09-06T09:48:14.169595Z",
     "iopub.status.idle": "2022-09-06T09:48:14.204928Z",
     "shell.execute_reply": "2022-09-06T09:48:14.203696Z",
     "shell.execute_reply.started": "2022-09-06T09:48:14.169913Z"
    },
    "jupyter": {
     "outputs_hidden": false
    }
   },
   "outputs": [
    {
     "data": {
      "text/plain": [
       "count    466285.000000\n",
       "mean          4.802122\n",
       "std           0.226541\n",
       "min           3.278067\n",
       "25%           4.653222\n",
       "50%           4.799347\n",
       "75%           4.949165\n",
       "max           6.875061\n",
       "Name: annual_inc, dtype: float64"
      ]
     },
     "execution_count": 118,
     "metadata": {},
     "output_type": "execute_result"
    }
   ],
   "source": [
    "data['annual_inc'].describe()"
   ]
  },
  {
   "cell_type": "code",
   "execution_count": 119,
   "metadata": {
    "_cell_guid": "100b41ed-aecb-4f0c-9c62-ee598a5bb759",
    "_uuid": "a47153c8-2a51-4ff8-ac66-8a54e987e2eb",
    "execution": {
     "iopub.execute_input": "2022-09-06T09:48:14.206390Z",
     "iopub.status.busy": "2022-09-06T09:48:14.206003Z",
     "iopub.status.idle": "2022-09-06T09:48:14.512017Z",
     "shell.execute_reply": "2022-09-06T09:48:14.510828Z",
     "shell.execute_reply.started": "2022-09-06T09:48:14.206353Z"
    },
    "jupyter": {
     "outputs_hidden": false
    }
   },
   "outputs": [
    {
     "data": {
      "text/plain": [
       "Text(0, 0.5, 'Anual Income')"
      ]
     },
     "execution_count": 119,
     "metadata": {},
     "output_type": "execute_result"
    },
    {
     "data": {
      "image/png": "[encoded data removed]",
      "text/plain": [
       "<Figure size 432x288 with 1 Axes>"
      ]
     },
     "metadata": {},
     "output_type": "display_data"
    }
   ],
   "source": [
    "sns.boxplot(x='target', y='annual_inc', data=data)\n",
    "plt.ylabel('Anual Income')"
   ]
  },
  {
   "cell_type": "markdown",
   "metadata": {
    "_cell_guid": "98ce34d1-e50c-4433-b6c3-ccfe37e7a626",
    "_uuid": "e5a69113-d9cb-42a8-acb8-917a193c0512"
   },
   "source": [
    "<div style=\"color:white;\n",
    "           display:fill;\n",
    "           background-color:#29285D;\n",
    "           padding: 10px;\n",
    "           font-family:Verdana;\n",
    "           letter-spacing:0.5px\">\n",
    "    <h3 style=\"color:white;padding-left:20px\"><b>Interface 👀</b></h3>\n",
    "       <p style=\"color:white;font-size:110%;padding-left:50px\">\n",
    "        It appears that individuals with higher income are more likely to pay off their loans. Let's compare the summary statistics by loan status:\n",
    "        </p>\n",
    "    </div>"
   ]
  },
  {
   "cell_type": "markdown",
   "metadata": {
    "_cell_guid": "19fb5f69-8086-4eff-bb1b-25c378fa1416",
    "_uuid": "04ad459f-ddba-48f5-b9de-8694a29e0ef4"
   },
   "source": [
    "**purpose**\n",
    "\n",
    "Data Dictionary: \"A category provided by the borrower for the loan request.\""
   ]
  },
  {
   "cell_type": "code",
   "execution_count": 120,
   "metadata": {
    "_cell_guid": "2db5b43e-cf77-4e40-834d-210453ae369c",
    "_uuid": "4020f46e-c915-4618-997f-8b36b4cd3250",
    "execution": {
     "iopub.execute_input": "2022-09-06T09:48:14.514240Z",
     "iopub.status.busy": "2022-09-06T09:48:14.513858Z",
     "iopub.status.idle": "2022-09-06T09:48:14.546615Z",
     "shell.execute_reply": "2022-09-06T09:48:14.544727Z",
     "shell.execute_reply.started": "2022-09-06T09:48:14.514204Z"
    },
    "jupyter": {
     "outputs_hidden": false
    }
   },
   "outputs": [
    {
     "data": {
      "text/plain": [
       "debt_consolidation    274195\n",
       "credit_card           104157\n",
       "home_improvement       26537\n",
       "other                  23690\n",
       "major_purchase          9828\n",
       "small_business          7013\n",
       "car                     5397\n",
       "medical                 4602\n",
       "moving                  2994\n",
       "vacation                2487\n",
       "wedding                 2343\n",
       "house                   2269\n",
       "educational              422\n",
       "renewable_energy         351\n",
       "Name: purpose, dtype: int64"
      ]
     },
     "execution_count": 120,
     "metadata": {},
     "output_type": "execute_result"
    }
   ],
   "source": [
    "data['purpose'].value_counts()"
   ]
  },
  {
   "cell_type": "code",
   "execution_count": 121,
   "metadata": {
    "_cell_guid": "c3b534f9-9ac4-4366-934c-3651e9650b56",
    "_uuid": "38fb28c6-f0cf-4fb7-a4f5-730ceb078a7d",
    "execution": {
     "iopub.execute_input": "2022-09-06T09:48:14.548924Z",
     "iopub.status.busy": "2022-09-06T09:48:14.548089Z",
     "iopub.status.idle": "2022-09-06T09:48:14.697668Z",
     "shell.execute_reply": "2022-09-06T09:48:14.696111Z",
     "shell.execute_reply.started": "2022-09-06T09:48:14.548879Z"
    },
    "jupyter": {
     "outputs_hidden": false
    }
   },
   "outputs": [
    {
     "data": {
      "text/plain": [
       "purpose\n",
       "major_purchase        0.000916\n",
       "car                   0.000926\n",
       "home_improvement      0.001130\n",
       "credit_card           0.001546\n",
       "medical               0.001738\n",
       "small_business        0.001854\n",
       "other                 0.001900\n",
       "debt_consolidation    0.001984\n",
       "moving                0.002004\n",
       "vacation              0.002010\n",
       "house                 0.002644\n",
       "Name: loan_status, dtype: float64"
      ]
     },
     "execution_count": 121,
     "metadata": {},
     "output_type": "execute_result"
    }
   ],
   "source": [
    "data.groupby('purpose')['loan_status'].value_counts(normalize=True).loc[:,'Default'].sort_values()"
   ]
  },
  {
   "cell_type": "markdown",
   "metadata": {
    "_cell_guid": "94c861d7-5120-4d69-8406-645c56d888e3",
    "_uuid": "bef7874b-4ea7-4370-962e-c6a7088a4286"
   },
   "source": [
    "**zip_code, addr_stat**\n",
    "\n",
    "Data Dictionary for zip_code: \"The first 3 numbers of the zip code provided by the borrower in the loan application.\"\n",
    "\n",
    "Data Dictionary for addr_state: \"The state provided by the borrower in the loan application."
   ]
  },
  {
   "cell_type": "code",
   "execution_count": 122,
   "metadata": {
    "_cell_guid": "e2a2d691-5efd-4f5c-a838-5dd90dd938c7",
    "_uuid": "8cfe3f12-3324-4999-a090-fb0e2dd5d616",
    "execution": {
     "iopub.execute_input": "2022-09-06T09:48:14.699953Z",
     "iopub.status.busy": "2022-09-06T09:48:14.699418Z",
     "iopub.status.idle": "2022-09-06T09:48:14.824006Z",
     "shell.execute_reply": "2022-09-06T09:48:14.822819Z",
     "shell.execute_reply.started": "2022-09-06T09:48:14.699901Z"
    },
    "jupyter": {
     "outputs_hidden": false
    }
   },
   "outputs": [],
   "source": [
    "data['zip_code'].sample(5)\n",
    "data.drop(labels='zip_code', axis=1, inplace=True)"
   ]
  },
  {
   "cell_type": "code",
   "execution_count": 123,
   "metadata": {
    "_cell_guid": "ea551a69-5c19-4568-8ab7-ae0557a0bc57",
    "_uuid": "4d87d1d5-a749-4ba1-8e90-90bdbb4958dd",
    "execution": {
     "iopub.execute_input": "2022-09-06T09:48:14.826762Z",
     "iopub.status.busy": "2022-09-06T09:48:14.826201Z",
     "iopub.status.idle": "2022-09-06T09:48:14.976751Z",
     "shell.execute_reply": "2022-09-06T09:48:14.975478Z",
     "shell.execute_reply.started": "2022-09-06T09:48:14.826706Z"
    },
    "jupyter": {
     "outputs_hidden": false
    }
   },
   "outputs": [
    {
     "data": {
      "text/plain": [
       "addr_state\n",
       "MS    0.000816\n",
       "CT    0.000833\n",
       "OR    0.000840\n",
       "AL    0.000854\n",
       "UT    0.000875\n",
       "WY    0.000887\n",
       "KS    0.000955\n",
       "SD    0.001020\n",
       "VT    0.001105\n",
       "WI    0.001184\n",
       "MO    0.001199\n",
       "MN    0.001226\n",
       "MD    0.001276\n",
       "IL    0.001289\n",
       "WA    0.001331\n",
       "VA    0.001336\n",
       "NH    0.001344\n",
       "DC    0.001403\n",
       "AR    0.001433\n",
       "OK    0.001457\n",
       "GA    0.001536\n",
       "NM    0.001546\n",
       "NC    0.001577\n",
       "AK    0.001599\n",
       "HI    0.001608\n",
       "SC    0.001612\n",
       "OH    0.001641\n",
       "CO    0.001643\n",
       "IN    0.001686\n",
       "MI    0.001732\n",
       "MA    0.001806\n",
       "NY    0.001814\n",
       "PA    0.001827\n",
       "FL    0.001991\n",
       "WV    0.002073\n",
       "CA    0.002085\n",
       "NJ    0.002159\n",
       "LA    0.002186\n",
       "TX    0.002223\n",
       "KY    0.002253\n",
       "TN    0.002340\n",
       "RI    0.002439\n",
       "AZ    0.002614\n",
       "NV    0.003068\n",
       "DE    0.003145\n",
       "MT    0.003582\n",
       "Name: loan_status, dtype: float64"
      ]
     },
     "execution_count": 123,
     "metadata": {},
     "output_type": "execute_result"
    }
   ],
   "source": [
    "data.groupby('addr_state')['loan_status'].value_counts(normalize=True).loc[:,'Default'].sort_values()"
   ]
  },
  {
   "cell_type": "markdown",
   "metadata": {
    "_cell_guid": "c3e52125-2781-4d41-96e0-7c901b02682a",
    "_uuid": "b942fc9a-55dd-49f1-b7a7-bfd43eb6f4c3"
   },
   "source": [
    "Data Dictionary: \"The number of open credit lines in the borrower's credit file.\""
   ]
  },
  {
   "cell_type": "code",
   "execution_count": 124,
   "metadata": {
    "_cell_guid": "e4a1fa76-2967-4883-8c83-088c6f997968",
    "_uuid": "c02c18b0-aae4-4450-b27d-10d307c680db",
    "execution": {
     "iopub.execute_input": "2022-09-06T09:48:14.979476Z",
     "iopub.status.busy": "2022-09-06T09:48:14.978626Z",
     "iopub.status.idle": "2022-09-06T09:48:15.841092Z",
     "shell.execute_reply": "2022-09-06T09:48:15.839480Z",
     "shell.execute_reply.started": "2022-09-06T09:48:14.979424Z"
    },
    "jupyter": {
     "outputs_hidden": false
    }
   },
   "outputs": [
    {
     "data": {
      "text/plain": [
       "Text(0.5, 1.0, 'Number of Open Credit Lines')"
      ]
     },
     "execution_count": 124,
     "metadata": {},
     "output_type": "execute_result"
    },
    {
     "data": {
      "image/png": "[encoded data removed]",
      "text/plain": [
       "<Figure size 900x270 with 1 Axes>"
      ]
     },
     "metadata": {},
     "output_type": "display_data"
    }
   ],
   "source": [
    "plt.figure(figsize=(10,3), dpi=90)\n",
    "sns.countplot(data['open_acc'], order=sorted(data['open_acc'].unique()), color='#5975A4', saturation=1)\n",
    "_, _ = plt.xticks(np.arange(0, 90, 5), np.arange(0, 90, 5))\n",
    "plt.title('Number of Open Credit Lines')"
   ]
  },
  {
   "cell_type": "code",
   "execution_count": 125,
   "metadata": {
    "_cell_guid": "8066afe5-7336-4a5c-a49b-599c48fedc3d",
    "_uuid": "b8ef5a02-291f-44dd-9104-3a9fe9139813",
    "execution": {
     "iopub.execute_input": "2022-09-06T09:48:15.844162Z",
     "iopub.status.busy": "2022-09-06T09:48:15.843126Z",
     "iopub.status.idle": "2022-09-06T09:48:15.914175Z",
     "shell.execute_reply": "2022-09-06T09:48:15.913091Z",
     "shell.execute_reply.started": "2022-09-06T09:48:15.844106Z"
    },
    "jupyter": {
     "outputs_hidden": false
    }
   },
   "outputs": [
    {
     "data": {
      "text/html": [
       "<div>\n",
       "<style scoped>\n",
       "    .dataframe tbody tr th:only-of-type {\n",
       "        vertical-align: middle;\n",
       "    }\n",
       "\n",
       "    .dataframe tbody tr th {\n",
       "        vertical-align: top;\n",
       "    }\n",
       "\n",
       "    .dataframe thead th {\n",
       "        text-align: right;\n",
       "    }\n",
       "</style>\n",
       "<table border=\"1\" class=\"dataframe\">\n",
       "  <thead>\n",
       "    <tr style=\"text-align: right;\">\n",
       "      <th></th>\n",
       "      <th>count</th>\n",
       "      <th>mean</th>\n",
       "      <th>std</th>\n",
       "      <th>min</th>\n",
       "      <th>25%</th>\n",
       "      <th>50%</th>\n",
       "      <th>75%</th>\n",
       "      <th>max</th>\n",
       "    </tr>\n",
       "    <tr>\n",
       "      <th>target</th>\n",
       "      <th></th>\n",
       "      <th></th>\n",
       "      <th></th>\n",
       "      <th></th>\n",
       "      <th></th>\n",
       "      <th></th>\n",
       "      <th></th>\n",
       "      <th></th>\n",
       "    </tr>\n",
       "  </thead>\n",
       "  <tbody>\n",
       "    <tr>\n",
       "      <th>0</th>\n",
       "      <td>465453.0</td>\n",
       "      <td>11.185667</td>\n",
       "      <td>4.986866</td>\n",
       "      <td>0.0</td>\n",
       "      <td>8.0</td>\n",
       "      <td>10.0</td>\n",
       "      <td>14.0</td>\n",
       "      <td>84.0</td>\n",
       "    </tr>\n",
       "    <tr>\n",
       "      <th>1</th>\n",
       "      <td>832.0</td>\n",
       "      <td>11.971154</td>\n",
       "      <td>5.206599</td>\n",
       "      <td>2.0</td>\n",
       "      <td>8.0</td>\n",
       "      <td>11.0</td>\n",
       "      <td>15.0</td>\n",
       "      <td>33.0</td>\n",
       "    </tr>\n",
       "  </tbody>\n",
       "</table>\n",
       "</div>"
      ],
      "text/plain": [
       "           count       mean       std  min  25%   50%   75%   max\n",
       "target                                                           \n",
       "0       465453.0  11.185667  4.986866  0.0  8.0  10.0  14.0  84.0\n",
       "1          832.0  11.971154  5.206599  2.0  8.0  11.0  15.0  33.0"
      ]
     },
     "execution_count": 125,
     "metadata": {},
     "output_type": "execute_result"
    }
   ],
   "source": [
    "data.groupby('target')['open_acc'].describe()"
   ]
  },
  {
   "cell_type": "code",
   "execution_count": 126,
   "metadata": {
    "_cell_guid": "a7e3e124-ea06-4540-b34e-890673632561",
    "_uuid": "2a7298c5-b812-41d5-acc4-82c34da6b4bf",
    "execution": {
     "iopub.execute_input": "2022-09-06T09:48:15.917026Z",
     "iopub.status.busy": "2022-09-06T09:48:15.915777Z",
     "iopub.status.idle": "2022-09-06T09:48:15.951144Z",
     "shell.execute_reply": "2022-09-06T09:48:15.949748Z",
     "shell.execute_reply.started": "2022-09-06T09:48:15.916983Z"
    },
    "jupyter": {
     "outputs_hidden": false
    }
   },
   "outputs": [
    {
     "data": {
      "text/plain": [
       "INDIVIDUAL    466285\n",
       "Name: application_type, dtype: int64"
      ]
     },
     "execution_count": 126,
     "metadata": {},
     "output_type": "execute_result"
    }
   ],
   "source": [
    "data['application_type'].value_counts()"
   ]
  },
  {
   "cell_type": "code",
   "execution_count": 127,
   "metadata": {
    "_cell_guid": "34fa9745-e6f8-4ec0-8b5c-bd33321a6e6b",
    "_uuid": "5ceaee44-b975-4d43-9cbb-2bff0445b09c",
    "execution": {
     "iopub.execute_input": "2022-09-06T09:48:15.953445Z",
     "iopub.status.busy": "2022-09-06T09:48:15.952755Z",
     "iopub.status.idle": "2022-09-06T09:48:16.042236Z",
     "shell.execute_reply": "2022-09-06T09:48:16.040765Z",
     "shell.execute_reply.started": "2022-09-06T09:48:15.953394Z"
    },
    "jupyter": {
     "outputs_hidden": false
    }
   },
   "outputs": [],
   "source": [
    "data.drop(labels='application_type',axis=1,inplace=True)"
   ]
  },
  {
   "cell_type": "code",
   "execution_count": 128,
   "metadata": {
    "_cell_guid": "0d628c46-1039-4afc-9945-fbda6b58e1cd",
    "_uuid": "0f843f57-9260-4f29-b5a7-368857cd3035",
    "execution": {
     "iopub.execute_input": "2022-09-06T09:48:16.044476Z",
     "iopub.status.busy": "2022-09-06T09:48:16.044084Z",
     "iopub.status.idle": "2022-09-06T09:48:16.054396Z",
     "shell.execute_reply": "2022-09-06T09:48:16.053468Z",
     "shell.execute_reply.started": "2022-09-06T09:48:16.044439Z"
    },
    "jupyter": {
     "outputs_hidden": false
    }
   },
   "outputs": [
    {
     "data": {
      "text/plain": [
       "0    1\n",
       "1    1\n",
       "2    1\n",
       "3    1\n",
       "4    1\n",
       "Name: policy_code, dtype: int64"
      ]
     },
     "execution_count": 128,
     "metadata": {},
     "output_type": "execute_result"
    }
   ],
   "source": [
    "data['policy_code'].head()"
   ]
  },
  {
   "cell_type": "code",
   "execution_count": 129,
   "metadata": {
    "_cell_guid": "3e7d87aa-dcbe-46e7-bf0f-09d7d9b0f89a",
    "_uuid": "4d67cfc0-858a-4d85-9607-f05f370499da",
    "execution": {
     "iopub.execute_input": "2022-09-06T09:48:16.058085Z",
     "iopub.status.busy": "2022-09-06T09:48:16.057569Z",
     "iopub.status.idle": "2022-09-06T09:48:16.141321Z",
     "shell.execute_reply": "2022-09-06T09:48:16.140018Z",
     "shell.execute_reply.started": "2022-09-06T09:48:16.058041Z"
    },
    "jupyter": {
     "outputs_hidden": false
    }
   },
   "outputs": [],
   "source": [
    "data.drop(['policy_code','loan_status','collections_12_mths_ex_med','last_credit_pull_d','issue_d'],axis=1,inplace=True)"
   ]
  },
  {
   "cell_type": "code",
   "execution_count": 130,
   "metadata": {
    "_cell_guid": "a0fa8a2a-b490-4ea3-a2d0-1f5af684b267",
    "_uuid": "a7266246-2ac6-49f0-9987-858b24d1c505",
    "execution": {
     "iopub.execute_input": "2022-09-06T09:48:16.143502Z",
     "iopub.status.busy": "2022-09-06T09:48:16.142707Z",
     "iopub.status.idle": "2022-09-06T09:48:16.150711Z",
     "shell.execute_reply": "2022-09-06T09:48:16.149478Z",
     "shell.execute_reply.started": "2022-09-06T09:48:16.143465Z"
    },
    "jupyter": {
     "outputs_hidden": false
    }
   },
   "outputs": [
    {
     "data": {
      "text/plain": [
       "(466285, 30)"
      ]
     },
     "execution_count": 130,
     "metadata": {},
     "output_type": "execute_result"
    }
   ],
   "source": [
    "data.shape"
   ]
  },
  {
   "cell_type": "code",
   "execution_count": 131,
   "metadata": {
    "_cell_guid": "4f39bd8a-3cee-4505-9a70-016aa9d6543d",
    "_uuid": "96443cb8-bf3a-4a33-9bb5-23a685500896",
    "execution": {
     "iopub.execute_input": "2022-09-06T09:48:16.153053Z",
     "iopub.status.busy": "2022-09-06T09:48:16.152568Z",
     "iopub.status.idle": "2022-09-06T09:48:16.340341Z",
     "shell.execute_reply": "2022-09-06T09:48:16.338991Z",
     "shell.execute_reply.started": "2022-09-06T09:48:16.153003Z"
    },
    "jupyter": {
     "outputs_hidden": false
    }
   },
   "outputs": [
    {
     "data": {
      "text/plain": [
       "loan_amnt                  0\n",
       "funded_amnt                0\n",
       "funded_amnt_inv            0\n",
       "term                       0\n",
       "int_rate                   0\n",
       "installment                0\n",
       "sub_grade                  0\n",
       "home_ownership             0\n",
       "annual_inc                 0\n",
       "verification_status        0\n",
       "pymnt_plan                 0\n",
       "purpose                    0\n",
       "addr_state                 0\n",
       "dti                        0\n",
       "delinq_2yrs                0\n",
       "inq_last_6mths             0\n",
       "open_acc                   0\n",
       "pub_rec                    0\n",
       "revol_bal                  0\n",
       "revol_util                 0\n",
       "total_acc                  0\n",
       "initial_list_status        0\n",
       "out_prncp                  0\n",
       "out_prncp_inv              0\n",
       "total_pymnt                0\n",
       "total_pymnt_inv            0\n",
       "recoveries                 0\n",
       "collection_recovery_fee    0\n",
       "last_pymnt_amnt            0\n",
       "target                     0\n",
       "dtype: int64"
      ]
     },
     "execution_count": 131,
     "metadata": {},
     "output_type": "execute_result"
    }
   ],
   "source": [
    "data.isnull().sum()"
   ]
  },
  {
   "cell_type": "markdown",
   "metadata": {
    "_cell_guid": "1e1731d2-5f0a-4f5b-844b-d0fee618c203",
    "_uuid": "09168268-415d-4cb3-8067-750293b7e2a6"
   },
   "source": [
    " <h2 style=\"background-color:green;font-family:verdana;color:white;font-size:100%;text-align:center;border-radius:10px 10px;letter-spacing:0.5px;padding: 10px\"> Handling Categorical Data </h2>"
   ]
  },
  {
   "cell_type": "markdown",
   "metadata": {
    "_cell_guid": "261b178d-ec4e-4d93-be71-52dacd08d83b",
    "_uuid": "326b12b3-75c6-4b8a-83cd-abbb08d004a0",
    "execution": {
     "iopub.execute_input": "2022-08-29T20:47:48.628609Z",
     "iopub.status.busy": "2022-08-29T20:47:48.628104Z",
     "iopub.status.idle": "2022-08-29T20:47:48.637897Z",
     "shell.execute_reply": "2022-08-29T20:47:48.636086Z",
     "shell.execute_reply.started": "2022-08-29T20:47:48.628566Z"
    }
   },
   "source": [
    "There are no categorical variables with missing values, and therefore we don't need any NaN dummy variables.\n",
    "\n",
    "Create dummy variables for the categorical variables:"
   ]
  },
  {
   "cell_type": "code",
   "execution_count": 132,
   "metadata": {
    "_cell_guid": "c1122966-30fa-4cf2-a468-fcb89aa2b6af",
    "_uuid": "a0e27b8a-8f9c-4921-80c9-2daf87d3a32b",
    "execution": {
     "iopub.execute_input": "2022-09-06T09:48:16.344784Z",
     "iopub.status.busy": "2022-09-06T09:48:16.344392Z",
     "iopub.status.idle": "2022-09-06T09:48:16.355531Z",
     "shell.execute_reply": "2022-09-06T09:48:16.354122Z",
     "shell.execute_reply.started": "2022-09-06T09:48:16.344750Z"
    },
    "jupyter": {
     "outputs_hidden": false
    }
   },
   "outputs": [
    {
     "data": {
      "text/plain": [
       "['term',\n",
       " 'sub_grade',\n",
       " 'home_ownership',\n",
       " 'verification_status',\n",
       " 'pymnt_plan',\n",
       " 'purpose',\n",
       " 'addr_state',\n",
       " 'initial_list_status']"
      ]
     },
     "execution_count": 132,
     "metadata": {},
     "output_type": "execute_result"
    }
   ],
   "source": [
    "categorical = []\n",
    "for column in data:\n",
    "    if data[column].dtype == 'object':\n",
    "        categorical.append(column)\n",
    "categorical"
   ]
  },
  {
   "cell_type": "code",
   "execution_count": 133,
   "metadata": {
    "_cell_guid": "ec203d80-91d7-4a5c-9f3f-cca940dbbc5a",
    "_uuid": "169c1cea-8fe6-45a1-9dd8-42e41d9d23c6",
    "execution": {
     "iopub.execute_input": "2022-09-06T09:48:16.358548Z",
     "iopub.status.busy": "2022-09-06T09:48:16.357871Z",
     "iopub.status.idle": "2022-09-06T09:48:17.014214Z",
     "shell.execute_reply": "2022-09-06T09:48:17.012795Z",
     "shell.execute_reply.started": "2022-09-06T09:48:16.358494Z"
    },
    "jupyter": {
     "outputs_hidden": false
    }
   },
   "outputs": [],
   "source": [
    "data = pd.get_dummies(data, columns=['sub_grade', 'home_ownership', 'verification_status','pymnt_plan','purpose', 'addr_state', 'initial_list_status'], drop_first=True)"
   ]
  },
  {
   "cell_type": "code",
   "execution_count": 134,
   "metadata": {
    "_cell_guid": "349c49fa-b8d4-4513-94c2-abac1ce37c22",
    "_uuid": "5e4c387f-9d23-4b68-b836-a6b3f19ed23d",
    "execution": {
     "iopub.execute_input": "2022-09-06T09:48:17.016475Z",
     "iopub.status.busy": "2022-09-06T09:48:17.016065Z",
     "iopub.status.idle": "2022-09-06T09:48:17.433364Z",
     "shell.execute_reply": "2022-09-06T09:48:17.432074Z",
     "shell.execute_reply.started": "2022-09-06T09:48:17.016433Z"
    },
    "jupyter": {
     "outputs_hidden": false
    }
   },
   "outputs": [],
   "source": [
    "data['term']=data.term.str.replace(' months','').astype(int)"
   ]
  },
  {
   "cell_type": "code",
   "execution_count": 135,
   "metadata": {
    "_cell_guid": "056c68a2-617f-4e84-af30-b5e7a35fc97d",
    "_uuid": "21277000-b9e6-40f2-b56e-4a5461681b3a",
    "execution": {
     "iopub.execute_input": "2022-09-06T09:48:17.435639Z",
     "iopub.status.busy": "2022-09-06T09:48:17.434966Z",
     "iopub.status.idle": "2022-09-06T09:48:17.511932Z",
     "shell.execute_reply": "2022-09-06T09:48:17.509956Z",
     "shell.execute_reply.started": "2022-09-06T09:48:17.435574Z"
    },
    "jupyter": {
     "outputs_hidden": false
    }
   },
   "outputs": [
    {
     "data": {
      "text/html": [
       "<div>\n",
       "<style scoped>\n",
       "    .dataframe tbody tr th:only-of-type {\n",
       "        vertical-align: middle;\n",
       "    }\n",
       "\n",
       "    .dataframe tbody tr th {\n",
       "        vertical-align: top;\n",
       "    }\n",
       "\n",
       "    .dataframe thead th {\n",
       "        text-align: right;\n",
       "    }\n",
       "</style>\n",
       "<table border=\"1\" class=\"dataframe\">\n",
       "  <thead>\n",
       "    <tr style=\"text-align: right;\">\n",
       "      <th></th>\n",
       "      <th>loan_amnt</th>\n",
       "      <th>funded_amnt</th>\n",
       "      <th>funded_amnt_inv</th>\n",
       "      <th>term</th>\n",
       "      <th>int_rate</th>\n",
       "      <th>installment</th>\n",
       "      <th>annual_inc</th>\n",
       "      <th>dti</th>\n",
       "      <th>delinq_2yrs</th>\n",
       "      <th>inq_last_6mths</th>\n",
       "      <th>open_acc</th>\n",
       "      <th>pub_rec</th>\n",
       "      <th>revol_bal</th>\n",
       "      <th>revol_util</th>\n",
       "      <th>total_acc</th>\n",
       "      <th>out_prncp</th>\n",
       "      <th>out_prncp_inv</th>\n",
       "      <th>total_pymnt</th>\n",
       "      <th>total_pymnt_inv</th>\n",
       "      <th>recoveries</th>\n",
       "      <th>collection_recovery_fee</th>\n",
       "      <th>last_pymnt_amnt</th>\n",
       "      <th>target</th>\n",
       "      <th>sub_grade_A2</th>\n",
       "      <th>sub_grade_A3</th>\n",
       "      <th>sub_grade_A4</th>\n",
       "      <th>sub_grade_A5</th>\n",
       "      <th>sub_grade_B1</th>\n",
       "      <th>sub_grade_B2</th>\n",
       "      <th>sub_grade_B3</th>\n",
       "      <th>sub_grade_B4</th>\n",
       "      <th>sub_grade_B5</th>\n",
       "      <th>sub_grade_C1</th>\n",
       "      <th>sub_grade_C2</th>\n",
       "      <th>sub_grade_C3</th>\n",
       "      <th>sub_grade_C4</th>\n",
       "      <th>sub_grade_C5</th>\n",
       "      <th>sub_grade_D1</th>\n",
       "      <th>sub_grade_D2</th>\n",
       "      <th>sub_grade_D3</th>\n",
       "      <th>sub_grade_D4</th>\n",
       "      <th>sub_grade_D5</th>\n",
       "      <th>sub_grade_E1</th>\n",
       "      <th>sub_grade_E2</th>\n",
       "      <th>sub_grade_E3</th>\n",
       "      <th>sub_grade_E4</th>\n",
       "      <th>sub_grade_E5</th>\n",
       "      <th>sub_grade_F1</th>\n",
       "      <th>sub_grade_F2</th>\n",
       "      <th>sub_grade_F3</th>\n",
       "      <th>sub_grade_F4</th>\n",
       "      <th>sub_grade_F5</th>\n",
       "      <th>sub_grade_G1</th>\n",
       "      <th>sub_grade_G2</th>\n",
       "      <th>sub_grade_G3</th>\n",
       "      <th>sub_grade_G4</th>\n",
       "      <th>sub_grade_G5</th>\n",
       "      <th>home_ownership_OTHER</th>\n",
       "      <th>home_ownership_OWN</th>\n",
       "      <th>home_ownership_RENT</th>\n",
       "      <th>verification_status_Source Verified</th>\n",
       "      <th>verification_status_Verified</th>\n",
       "      <th>pymnt_plan_y</th>\n",
       "      <th>purpose_credit_card</th>\n",
       "      <th>purpose_debt_consolidation</th>\n",
       "      <th>purpose_educational</th>\n",
       "      <th>purpose_home_improvement</th>\n",
       "      <th>purpose_house</th>\n",
       "      <th>purpose_major_purchase</th>\n",
       "      <th>purpose_medical</th>\n",
       "      <th>purpose_moving</th>\n",
       "      <th>purpose_other</th>\n",
       "      <th>purpose_renewable_energy</th>\n",
       "      <th>purpose_small_business</th>\n",
       "      <th>purpose_vacation</th>\n",
       "      <th>purpose_wedding</th>\n",
       "      <th>addr_state_AL</th>\n",
       "      <th>addr_state_AR</th>\n",
       "      <th>addr_state_AZ</th>\n",
       "      <th>addr_state_CA</th>\n",
       "      <th>addr_state_CO</th>\n",
       "      <th>addr_state_CT</th>\n",
       "      <th>addr_state_DC</th>\n",
       "      <th>addr_state_DE</th>\n",
       "      <th>addr_state_FL</th>\n",
       "      <th>addr_state_GA</th>\n",
       "      <th>addr_state_HI</th>\n",
       "      <th>addr_state_IA</th>\n",
       "      <th>addr_state_ID</th>\n",
       "      <th>addr_state_IL</th>\n",
       "      <th>addr_state_IN</th>\n",
       "      <th>addr_state_KS</th>\n",
       "      <th>addr_state_KY</th>\n",
       "      <th>addr_state_LA</th>\n",
       "      <th>addr_state_MA</th>\n",
       "      <th>addr_state_MD</th>\n",
       "      <th>addr_state_ME</th>\n",
       "      <th>addr_state_MI</th>\n",
       "      <th>addr_state_MN</th>\n",
       "      <th>addr_state_MO</th>\n",
       "      <th>addr_state_MS</th>\n",
       "      <th>addr_state_MT</th>\n",
       "      <th>addr_state_NC</th>\n",
       "      <th>addr_state_NE</th>\n",
       "      <th>addr_state_NH</th>\n",
       "      <th>addr_state_NJ</th>\n",
       "      <th>addr_state_NM</th>\n",
       "      <th>addr_state_NV</th>\n",
       "      <th>addr_state_NY</th>\n",
       "      <th>addr_state_OH</th>\n",
       "      <th>addr_state_OK</th>\n",
       "      <th>addr_state_OR</th>\n",
       "      <th>addr_state_PA</th>\n",
       "      <th>addr_state_RI</th>\n",
       "      <th>addr_state_SC</th>\n",
       "      <th>addr_state_SD</th>\n",
       "      <th>addr_state_TN</th>\n",
       "      <th>addr_state_TX</th>\n",
       "      <th>addr_state_UT</th>\n",
       "      <th>addr_state_VA</th>\n",
       "      <th>addr_state_VT</th>\n",
       "      <th>addr_state_WA</th>\n",
       "      <th>addr_state_WI</th>\n",
       "      <th>addr_state_WV</th>\n",
       "      <th>addr_state_WY</th>\n",
       "      <th>initial_list_status_w</th>\n",
       "    </tr>\n",
       "  </thead>\n",
       "  <tbody>\n",
       "    <tr>\n",
       "      <th>0</th>\n",
       "      <td>5000</td>\n",
       "      <td>5000</td>\n",
       "      <td>4975.0</td>\n",
       "      <td>36</td>\n",
       "      <td>10.65</td>\n",
       "      <td>162.87</td>\n",
       "      <td>4.380229</td>\n",
       "      <td>27.65</td>\n",
       "      <td>0.0</td>\n",
       "      <td>1.0</td>\n",
       "      <td>3.0</td>\n",
       "      <td>0.0</td>\n",
       "      <td>13648</td>\n",
       "      <td>83.7</td>\n",
       "      <td>9.0</td>\n",
       "      <td>0.0</td>\n",
       "      <td>0.0</td>\n",
       "      <td>5861.071414</td>\n",
       "      <td>5831.78</td>\n",
       "      <td>0.00</td>\n",
       "      <td>0.00</td>\n",
       "      <td>171.62</td>\n",
       "      <td>0</td>\n",
       "      <td>0</td>\n",
       "      <td>0</td>\n",
       "      <td>0</td>\n",
       "      <td>0</td>\n",
       "      <td>0</td>\n",
       "      <td>1</td>\n",
       "      <td>0</td>\n",
       "      <td>0</td>\n",
       "      <td>0</td>\n",
       "      <td>0</td>\n",
       "      <td>0</td>\n",
       "      <td>0</td>\n",
       "      <td>0</td>\n",
       "      <td>0</td>\n",
       "      <td>0</td>\n",
       "      <td>0</td>\n",
       "      <td>0</td>\n",
       "      <td>0</td>\n",
       "      <td>0</td>\n",
       "      <td>0</td>\n",
       "      <td>0</td>\n",
       "      <td>0</td>\n",
       "      <td>0</td>\n",
       "      <td>0</td>\n",
       "      <td>0</td>\n",
       "      <td>0</td>\n",
       "      <td>0</td>\n",
       "      <td>0</td>\n",
       "      <td>0</td>\n",
       "      <td>0</td>\n",
       "      <td>0</td>\n",
       "      <td>0</td>\n",
       "      <td>0</td>\n",
       "      <td>0</td>\n",
       "      <td>0</td>\n",
       "      <td>0</td>\n",
       "      <td>1</td>\n",
       "      <td>0</td>\n",
       "      <td>1</td>\n",
       "      <td>0</td>\n",
       "      <td>1</td>\n",
       "      <td>0</td>\n",
       "      <td>0</td>\n",
       "      <td>0</td>\n",
       "      <td>0</td>\n",
       "      <td>0</td>\n",
       "      <td>0</td>\n",
       "      <td>0</td>\n",
       "      <td>0</td>\n",
       "      <td>0</td>\n",
       "      <td>0</td>\n",
       "      <td>0</td>\n",
       "      <td>0</td>\n",
       "      <td>0</td>\n",
       "      <td>0</td>\n",
       "      <td>1</td>\n",
       "      <td>0</td>\n",
       "      <td>0</td>\n",
       "      <td>0</td>\n",
       "      <td>0</td>\n",
       "      <td>0</td>\n",
       "      <td>0</td>\n",
       "      <td>0</td>\n",
       "      <td>0</td>\n",
       "      <td>0</td>\n",
       "      <td>0</td>\n",
       "      <td>0</td>\n",
       "      <td>0</td>\n",
       "      <td>0</td>\n",
       "      <td>0</td>\n",
       "      <td>0</td>\n",
       "      <td>0</td>\n",
       "      <td>0</td>\n",
       "      <td>0</td>\n",
       "      <td>0</td>\n",
       "      <td>0</td>\n",
       "      <td>0</td>\n",
       "      <td>0</td>\n",
       "      <td>0</td>\n",
       "      <td>0</td>\n",
       "      <td>0</td>\n",
       "      <td>0</td>\n",
       "      <td>0</td>\n",
       "      <td>0</td>\n",
       "      <td>0</td>\n",
       "      <td>0</td>\n",
       "      <td>0</td>\n",
       "      <td>0</td>\n",
       "      <td>0</td>\n",
       "      <td>0</td>\n",
       "      <td>0</td>\n",
       "      <td>0</td>\n",
       "      <td>0</td>\n",
       "      <td>0</td>\n",
       "      <td>0</td>\n",
       "      <td>0</td>\n",
       "      <td>0</td>\n",
       "      <td>0</td>\n",
       "      <td>0</td>\n",
       "      <td>0</td>\n",
       "      <td>0</td>\n",
       "      <td>0</td>\n",
       "      <td>0</td>\n",
       "    </tr>\n",
       "    <tr>\n",
       "      <th>1</th>\n",
       "      <td>2500</td>\n",
       "      <td>2500</td>\n",
       "      <td>2500.0</td>\n",
       "      <td>60</td>\n",
       "      <td>15.27</td>\n",
       "      <td>59.83</td>\n",
       "      <td>4.477136</td>\n",
       "      <td>1.00</td>\n",
       "      <td>0.0</td>\n",
       "      <td>5.0</td>\n",
       "      <td>3.0</td>\n",
       "      <td>0.0</td>\n",
       "      <td>1687</td>\n",
       "      <td>9.4</td>\n",
       "      <td>4.0</td>\n",
       "      <td>0.0</td>\n",
       "      <td>0.0</td>\n",
       "      <td>1008.710000</td>\n",
       "      <td>1008.71</td>\n",
       "      <td>117.08</td>\n",
       "      <td>1.11</td>\n",
       "      <td>119.66</td>\n",
       "      <td>0</td>\n",
       "      <td>0</td>\n",
       "      <td>0</td>\n",
       "      <td>0</td>\n",
       "      <td>0</td>\n",
       "      <td>0</td>\n",
       "      <td>0</td>\n",
       "      <td>0</td>\n",
       "      <td>0</td>\n",
       "      <td>0</td>\n",
       "      <td>0</td>\n",
       "      <td>0</td>\n",
       "      <td>0</td>\n",
       "      <td>1</td>\n",
       "      <td>0</td>\n",
       "      <td>0</td>\n",
       "      <td>0</td>\n",
       "      <td>0</td>\n",
       "      <td>0</td>\n",
       "      <td>0</td>\n",
       "      <td>0</td>\n",
       "      <td>0</td>\n",
       "      <td>0</td>\n",
       "      <td>0</td>\n",
       "      <td>0</td>\n",
       "      <td>0</td>\n",
       "      <td>0</td>\n",
       "      <td>0</td>\n",
       "      <td>0</td>\n",
       "      <td>0</td>\n",
       "      <td>0</td>\n",
       "      <td>0</td>\n",
       "      <td>0</td>\n",
       "      <td>0</td>\n",
       "      <td>0</td>\n",
       "      <td>0</td>\n",
       "      <td>0</td>\n",
       "      <td>1</td>\n",
       "      <td>1</td>\n",
       "      <td>0</td>\n",
       "      <td>0</td>\n",
       "      <td>0</td>\n",
       "      <td>0</td>\n",
       "      <td>0</td>\n",
       "      <td>0</td>\n",
       "      <td>0</td>\n",
       "      <td>0</td>\n",
       "      <td>0</td>\n",
       "      <td>0</td>\n",
       "      <td>0</td>\n",
       "      <td>0</td>\n",
       "      <td>0</td>\n",
       "      <td>0</td>\n",
       "      <td>0</td>\n",
       "      <td>0</td>\n",
       "      <td>0</td>\n",
       "      <td>0</td>\n",
       "      <td>0</td>\n",
       "      <td>0</td>\n",
       "      <td>0</td>\n",
       "      <td>0</td>\n",
       "      <td>0</td>\n",
       "      <td>0</td>\n",
       "      <td>1</td>\n",
       "      <td>0</td>\n",
       "      <td>0</td>\n",
       "      <td>0</td>\n",
       "      <td>0</td>\n",
       "      <td>0</td>\n",
       "      <td>0</td>\n",
       "      <td>0</td>\n",
       "      <td>0</td>\n",
       "      <td>0</td>\n",
       "      <td>0</td>\n",
       "      <td>0</td>\n",
       "      <td>0</td>\n",
       "      <td>0</td>\n",
       "      <td>0</td>\n",
       "      <td>0</td>\n",
       "      <td>0</td>\n",
       "      <td>0</td>\n",
       "      <td>0</td>\n",
       "      <td>0</td>\n",
       "      <td>0</td>\n",
       "      <td>0</td>\n",
       "      <td>0</td>\n",
       "      <td>0</td>\n",
       "      <td>0</td>\n",
       "      <td>0</td>\n",
       "      <td>0</td>\n",
       "      <td>0</td>\n",
       "      <td>0</td>\n",
       "      <td>0</td>\n",
       "      <td>0</td>\n",
       "      <td>0</td>\n",
       "      <td>0</td>\n",
       "      <td>0</td>\n",
       "      <td>0</td>\n",
       "      <td>0</td>\n",
       "      <td>0</td>\n",
       "      <td>0</td>\n",
       "      <td>0</td>\n",
       "      <td>0</td>\n",
       "      <td>0</td>\n",
       "    </tr>\n",
       "    <tr>\n",
       "      <th>2</th>\n",
       "      <td>2400</td>\n",
       "      <td>2400</td>\n",
       "      <td>2400.0</td>\n",
       "      <td>36</td>\n",
       "      <td>15.96</td>\n",
       "      <td>84.33</td>\n",
       "      <td>4.088242</td>\n",
       "      <td>8.72</td>\n",
       "      <td>0.0</td>\n",
       "      <td>2.0</td>\n",
       "      <td>2.0</td>\n",
       "      <td>0.0</td>\n",
       "      <td>2956</td>\n",
       "      <td>98.5</td>\n",
       "      <td>10.0</td>\n",
       "      <td>0.0</td>\n",
       "      <td>0.0</td>\n",
       "      <td>3003.653644</td>\n",
       "      <td>3003.65</td>\n",
       "      <td>0.00</td>\n",
       "      <td>0.00</td>\n",
       "      <td>649.91</td>\n",
       "      <td>0</td>\n",
       "      <td>0</td>\n",
       "      <td>0</td>\n",
       "      <td>0</td>\n",
       "      <td>0</td>\n",
       "      <td>0</td>\n",
       "      <td>0</td>\n",
       "      <td>0</td>\n",
       "      <td>0</td>\n",
       "      <td>0</td>\n",
       "      <td>0</td>\n",
       "      <td>0</td>\n",
       "      <td>0</td>\n",
       "      <td>0</td>\n",
       "      <td>1</td>\n",
       "      <td>0</td>\n",
       "      <td>0</td>\n",
       "      <td>0</td>\n",
       "      <td>0</td>\n",
       "      <td>0</td>\n",
       "      <td>0</td>\n",
       "      <td>0</td>\n",
       "      <td>0</td>\n",
       "      <td>0</td>\n",
       "      <td>0</td>\n",
       "      <td>0</td>\n",
       "      <td>0</td>\n",
       "      <td>0</td>\n",
       "      <td>0</td>\n",
       "      <td>0</td>\n",
       "      <td>0</td>\n",
       "      <td>0</td>\n",
       "      <td>0</td>\n",
       "      <td>0</td>\n",
       "      <td>0</td>\n",
       "      <td>0</td>\n",
       "      <td>0</td>\n",
       "      <td>1</td>\n",
       "      <td>0</td>\n",
       "      <td>0</td>\n",
       "      <td>0</td>\n",
       "      <td>0</td>\n",
       "      <td>0</td>\n",
       "      <td>0</td>\n",
       "      <td>0</td>\n",
       "      <td>0</td>\n",
       "      <td>0</td>\n",
       "      <td>0</td>\n",
       "      <td>0</td>\n",
       "      <td>0</td>\n",
       "      <td>0</td>\n",
       "      <td>1</td>\n",
       "      <td>0</td>\n",
       "      <td>0</td>\n",
       "      <td>0</td>\n",
       "      <td>0</td>\n",
       "      <td>0</td>\n",
       "      <td>0</td>\n",
       "      <td>0</td>\n",
       "      <td>0</td>\n",
       "      <td>0</td>\n",
       "      <td>0</td>\n",
       "      <td>0</td>\n",
       "      <td>0</td>\n",
       "      <td>0</td>\n",
       "      <td>0</td>\n",
       "      <td>0</td>\n",
       "      <td>1</td>\n",
       "      <td>0</td>\n",
       "      <td>0</td>\n",
       "      <td>0</td>\n",
       "      <td>0</td>\n",
       "      <td>0</td>\n",
       "      <td>0</td>\n",
       "      <td>0</td>\n",
       "      <td>0</td>\n",
       "      <td>0</td>\n",
       "      <td>0</td>\n",
       "      <td>0</td>\n",
       "      <td>0</td>\n",
       "      <td>0</td>\n",
       "      <td>0</td>\n",
       "      <td>0</td>\n",
       "      <td>0</td>\n",
       "      <td>0</td>\n",
       "      <td>0</td>\n",
       "      <td>0</td>\n",
       "      <td>0</td>\n",
       "      <td>0</td>\n",
       "      <td>0</td>\n",
       "      <td>0</td>\n",
       "      <td>0</td>\n",
       "      <td>0</td>\n",
       "      <td>0</td>\n",
       "      <td>0</td>\n",
       "      <td>0</td>\n",
       "      <td>0</td>\n",
       "      <td>0</td>\n",
       "      <td>0</td>\n",
       "      <td>0</td>\n",
       "      <td>0</td>\n",
       "      <td>0</td>\n",
       "      <td>0</td>\n",
       "      <td>0</td>\n",
       "    </tr>\n",
       "    <tr>\n",
       "      <th>3</th>\n",
       "      <td>10000</td>\n",
       "      <td>10000</td>\n",
       "      <td>10000.0</td>\n",
       "      <td>36</td>\n",
       "      <td>13.49</td>\n",
       "      <td>339.31</td>\n",
       "      <td>4.691974</td>\n",
       "      <td>20.00</td>\n",
       "      <td>0.0</td>\n",
       "      <td>1.0</td>\n",
       "      <td>10.0</td>\n",
       "      <td>0.0</td>\n",
       "      <td>5598</td>\n",
       "      <td>21.0</td>\n",
       "      <td>37.0</td>\n",
       "      <td>0.0</td>\n",
       "      <td>0.0</td>\n",
       "      <td>12226.302210</td>\n",
       "      <td>12226.30</td>\n",
       "      <td>0.00</td>\n",
       "      <td>0.00</td>\n",
       "      <td>357.48</td>\n",
       "      <td>0</td>\n",
       "      <td>0</td>\n",
       "      <td>0</td>\n",
       "      <td>0</td>\n",
       "      <td>0</td>\n",
       "      <td>0</td>\n",
       "      <td>0</td>\n",
       "      <td>0</td>\n",
       "      <td>0</td>\n",
       "      <td>0</td>\n",
       "      <td>1</td>\n",
       "      <td>0</td>\n",
       "      <td>0</td>\n",
       "      <td>0</td>\n",
       "      <td>0</td>\n",
       "      <td>0</td>\n",
       "      <td>0</td>\n",
       "      <td>0</td>\n",
       "      <td>0</td>\n",
       "      <td>0</td>\n",
       "      <td>0</td>\n",
       "      <td>0</td>\n",
       "      <td>0</td>\n",
       "      <td>0</td>\n",
       "      <td>0</td>\n",
       "      <td>0</td>\n",
       "      <td>0</td>\n",
       "      <td>0</td>\n",
       "      <td>0</td>\n",
       "      <td>0</td>\n",
       "      <td>0</td>\n",
       "      <td>0</td>\n",
       "      <td>0</td>\n",
       "      <td>0</td>\n",
       "      <td>0</td>\n",
       "      <td>0</td>\n",
       "      <td>0</td>\n",
       "      <td>1</td>\n",
       "      <td>1</td>\n",
       "      <td>0</td>\n",
       "      <td>0</td>\n",
       "      <td>0</td>\n",
       "      <td>0</td>\n",
       "      <td>0</td>\n",
       "      <td>0</td>\n",
       "      <td>0</td>\n",
       "      <td>0</td>\n",
       "      <td>0</td>\n",
       "      <td>0</td>\n",
       "      <td>1</td>\n",
       "      <td>0</td>\n",
       "      <td>0</td>\n",
       "      <td>0</td>\n",
       "      <td>0</td>\n",
       "      <td>0</td>\n",
       "      <td>0</td>\n",
       "      <td>0</td>\n",
       "      <td>1</td>\n",
       "      <td>0</td>\n",
       "      <td>0</td>\n",
       "      <td>0</td>\n",
       "      <td>0</td>\n",
       "      <td>0</td>\n",
       "      <td>0</td>\n",
       "      <td>0</td>\n",
       "      <td>0</td>\n",
       "      <td>0</td>\n",
       "      <td>0</td>\n",
       "      <td>0</td>\n",
       "      <td>0</td>\n",
       "      <td>0</td>\n",
       "      <td>0</td>\n",
       "      <td>0</td>\n",
       "      <td>0</td>\n",
       "      <td>0</td>\n",
       "      <td>0</td>\n",
       "      <td>0</td>\n",
       "      <td>0</td>\n",
       "      <td>0</td>\n",
       "      <td>0</td>\n",
       "      <td>0</td>\n",
       "      <td>0</td>\n",
       "      <td>0</td>\n",
       "      <td>0</td>\n",
       "      <td>0</td>\n",
       "      <td>0</td>\n",
       "      <td>0</td>\n",
       "      <td>0</td>\n",
       "      <td>0</td>\n",
       "      <td>0</td>\n",
       "      <td>0</td>\n",
       "      <td>0</td>\n",
       "      <td>0</td>\n",
       "      <td>0</td>\n",
       "      <td>0</td>\n",
       "      <td>0</td>\n",
       "      <td>0</td>\n",
       "      <td>0</td>\n",
       "      <td>0</td>\n",
       "      <td>0</td>\n",
       "      <td>0</td>\n",
       "      <td>0</td>\n",
       "      <td>0</td>\n",
       "      <td>0</td>\n",
       "    </tr>\n",
       "    <tr>\n",
       "      <th>4</th>\n",
       "      <td>3000</td>\n",
       "      <td>3000</td>\n",
       "      <td>3000.0</td>\n",
       "      <td>60</td>\n",
       "      <td>12.69</td>\n",
       "      <td>67.79</td>\n",
       "      <td>4.903095</td>\n",
       "      <td>17.94</td>\n",
       "      <td>0.0</td>\n",
       "      <td>0.0</td>\n",
       "      <td>15.0</td>\n",
       "      <td>0.0</td>\n",
       "      <td>27783</td>\n",
       "      <td>53.9</td>\n",
       "      <td>38.0</td>\n",
       "      <td>766.9</td>\n",
       "      <td>766.9</td>\n",
       "      <td>3242.170000</td>\n",
       "      <td>3242.17</td>\n",
       "      <td>0.00</td>\n",
       "      <td>0.00</td>\n",
       "      <td>67.79</td>\n",
       "      <td>0</td>\n",
       "      <td>0</td>\n",
       "      <td>0</td>\n",
       "      <td>0</td>\n",
       "      <td>0</td>\n",
       "      <td>0</td>\n",
       "      <td>0</td>\n",
       "      <td>0</td>\n",
       "      <td>0</td>\n",
       "      <td>1</td>\n",
       "      <td>0</td>\n",
       "      <td>0</td>\n",
       "      <td>0</td>\n",
       "      <td>0</td>\n",
       "      <td>0</td>\n",
       "      <td>0</td>\n",
       "      <td>0</td>\n",
       "      <td>0</td>\n",
       "      <td>0</td>\n",
       "      <td>0</td>\n",
       "      <td>0</td>\n",
       "      <td>0</td>\n",
       "      <td>0</td>\n",
       "      <td>0</td>\n",
       "      <td>0</td>\n",
       "      <td>0</td>\n",
       "      <td>0</td>\n",
       "      <td>0</td>\n",
       "      <td>0</td>\n",
       "      <td>0</td>\n",
       "      <td>0</td>\n",
       "      <td>0</td>\n",
       "      <td>0</td>\n",
       "      <td>0</td>\n",
       "      <td>0</td>\n",
       "      <td>0</td>\n",
       "      <td>0</td>\n",
       "      <td>1</td>\n",
       "      <td>1</td>\n",
       "      <td>0</td>\n",
       "      <td>0</td>\n",
       "      <td>0</td>\n",
       "      <td>0</td>\n",
       "      <td>0</td>\n",
       "      <td>0</td>\n",
       "      <td>0</td>\n",
       "      <td>0</td>\n",
       "      <td>0</td>\n",
       "      <td>0</td>\n",
       "      <td>1</td>\n",
       "      <td>0</td>\n",
       "      <td>0</td>\n",
       "      <td>0</td>\n",
       "      <td>0</td>\n",
       "      <td>0</td>\n",
       "      <td>0</td>\n",
       "      <td>0</td>\n",
       "      <td>0</td>\n",
       "      <td>0</td>\n",
       "      <td>0</td>\n",
       "      <td>0</td>\n",
       "      <td>0</td>\n",
       "      <td>0</td>\n",
       "      <td>0</td>\n",
       "      <td>0</td>\n",
       "      <td>0</td>\n",
       "      <td>0</td>\n",
       "      <td>0</td>\n",
       "      <td>0</td>\n",
       "      <td>0</td>\n",
       "      <td>0</td>\n",
       "      <td>0</td>\n",
       "      <td>0</td>\n",
       "      <td>0</td>\n",
       "      <td>0</td>\n",
       "      <td>0</td>\n",
       "      <td>0</td>\n",
       "      <td>0</td>\n",
       "      <td>0</td>\n",
       "      <td>0</td>\n",
       "      <td>0</td>\n",
       "      <td>0</td>\n",
       "      <td>0</td>\n",
       "      <td>0</td>\n",
       "      <td>0</td>\n",
       "      <td>0</td>\n",
       "      <td>0</td>\n",
       "      <td>0</td>\n",
       "      <td>0</td>\n",
       "      <td>1</td>\n",
       "      <td>0</td>\n",
       "      <td>0</td>\n",
       "      <td>0</td>\n",
       "      <td>0</td>\n",
       "      <td>0</td>\n",
       "      <td>0</td>\n",
       "      <td>0</td>\n",
       "      <td>0</td>\n",
       "      <td>0</td>\n",
       "      <td>0</td>\n",
       "      <td>0</td>\n",
       "      <td>0</td>\n",
       "      <td>0</td>\n",
       "      <td>0</td>\n",
       "    </tr>\n",
       "  </tbody>\n",
       "</table>\n",
       "</div>"
      ],
      "text/plain": [
       "   loan_amnt  funded_amnt  funded_amnt_inv  term  int_rate  installment  \\\n",
       "0       5000         5000           4975.0    36     10.65       162.87   \n",
       "1       2500         2500           2500.0    60     15.27        59.83   \n",
       "2       2400         2400           2400.0    36     15.96        84.33   \n",
       "3      10000        10000          10000.0    36     13.49       339.31   \n",
       "4       3000         3000           3000.0    60     12.69        67.79   \n",
       "\n",
       "   annual_inc    dti  delinq_2yrs  inq_last_6mths  open_acc  pub_rec  \\\n",
       "0    4.380229  27.65          0.0             1.0       3.0      0.0   \n",
       "1    4.477136   1.00          0.0             5.0       3.0      0.0   \n",
       "2    4.088242   8.72          0.0             2.0       2.0      0.0   \n",
       "3    4.691974  20.00          0.0             1.0      10.0      0.0   \n",
       "4    4.903095  17.94          0.0             0.0      15.0      0.0   \n",
       "\n",
       "   revol_bal  revol_util  total_acc  out_prncp  out_prncp_inv   total_pymnt  \\\n",
       "0      13648        83.7        9.0        0.0            0.0   5861.071414   \n",
       "1       1687         9.4        4.0        0.0            0.0   1008.710000   \n",
       "2       2956        98.5       10.0        0.0            0.0   3003.653644   \n",
       "3       5598        21.0       37.0        0.0            0.0  12226.302210   \n",
       "4      27783        53.9       38.0      766.9          766.9   3242.170000   \n",
       "\n",
       "   total_pymnt_inv  recoveries  collection_recovery_fee  last_pymnt_amnt  \\\n",
       "0          5831.78        0.00                     0.00           171.62   \n",
       "1          1008.71      117.08                     1.11           119.66   \n",
       "2          3003.65        0.00                     0.00           649.91   \n",
       "3         12226.30        0.00                     0.00           357.48   \n",
       "4          3242.17        0.00                     0.00            67.79   \n",
       "\n",
       "   target  sub_grade_A2  sub_grade_A3  sub_grade_A4  sub_grade_A5  \\\n",
       "0       0             0             0             0             0   \n",
       "1       0             0             0             0             0   \n",
       "2       0             0             0             0             0   \n",
       "3       0             0             0             0             0   \n",
       "4       0             0             0             0             0   \n",
       "\n",
       "   sub_grade_B1  sub_grade_B2  sub_grade_B3  sub_grade_B4  sub_grade_B5  \\\n",
       "0             0             1             0             0             0   \n",
       "1             0             0             0             0             0   \n",
       "2             0             0             0             0             0   \n",
       "3             0             0             0             0             0   \n",
       "4             0             0             0             0             1   \n",
       "\n",
       "   sub_grade_C1  sub_grade_C2  sub_grade_C3  sub_grade_C4  sub_grade_C5  \\\n",
       "0             0             0             0             0             0   \n",
       "1             0             0             0             1             0   \n",
       "2             0             0             0             0             1   \n",
       "3             1             0             0             0             0   \n",
       "4             0             0             0             0             0   \n",
       "\n",
       "   sub_grade_D1  sub_grade_D2  sub_grade_D3  sub_grade_D4  sub_grade_D5  \\\n",
       "0             0             0             0             0             0   \n",
       "1             0             0             0             0             0   \n",
       "2             0             0             0             0             0   \n",
       "3             0             0             0             0             0   \n",
       "4             0             0             0             0             0   \n",
       "\n",
       "   sub_grade_E1  sub_grade_E2  sub_grade_E3  sub_grade_E4  sub_grade_E5  \\\n",
       "0             0             0             0             0             0   \n",
       "1             0             0             0             0             0   \n",
       "2             0             0             0             0             0   \n",
       "3             0             0             0             0             0   \n",
       "4             0             0             0             0             0   \n",
       "\n",
       "   sub_grade_F1  sub_grade_F2  sub_grade_F3  sub_grade_F4  sub_grade_F5  \\\n",
       "0             0             0             0             0             0   \n",
       "1             0             0             0             0             0   \n",
       "2             0             0             0             0             0   \n",
       "3             0             0             0             0             0   \n",
       "4             0             0             0             0             0   \n",
       "\n",
       "   sub_grade_G1  sub_grade_G2  sub_grade_G3  sub_grade_G4  sub_grade_G5  \\\n",
       "0             0             0             0             0             0   \n",
       "1             0             0             0             0             0   \n",
       "2             0             0             0             0             0   \n",
       "3             0             0             0             0             0   \n",
       "4             0             0             0             0             0   \n",
       "\n",
       "   home_ownership_OTHER  home_ownership_OWN  home_ownership_RENT  \\\n",
       "0                     0                   0                    1   \n",
       "1                     0                   0                    1   \n",
       "2                     0                   0                    1   \n",
       "3                     0                   0                    1   \n",
       "4                     0                   0                    1   \n",
       "\n",
       "   verification_status_Source Verified  verification_status_Verified  \\\n",
       "0                                    0                             1   \n",
       "1                                    1                             0   \n",
       "2                                    0                             0   \n",
       "3                                    1                             0   \n",
       "4                                    1                             0   \n",
       "\n",
       "   pymnt_plan_y  purpose_credit_card  purpose_debt_consolidation  \\\n",
       "0             0                    1                           0   \n",
       "1             0                    0                           0   \n",
       "2             0                    0                           0   \n",
       "3             0                    0                           0   \n",
       "4             0                    0                           0   \n",
       "\n",
       "   purpose_educational  purpose_home_improvement  purpose_house  \\\n",
       "0                    0                         0              0   \n",
       "1                    0                         0              0   \n",
       "2                    0                         0              0   \n",
       "3                    0                         0              0   \n",
       "4                    0                         0              0   \n",
       "\n",
       "   purpose_major_purchase  purpose_medical  purpose_moving  purpose_other  \\\n",
       "0                       0                0               0              0   \n",
       "1                       0                0               0              0   \n",
       "2                       0                0               0              0   \n",
       "3                       0                0               0              1   \n",
       "4                       0                0               0              1   \n",
       "\n",
       "   purpose_renewable_energy  purpose_small_business  purpose_vacation  \\\n",
       "0                         0                       0                 0   \n",
       "1                         0                       0                 0   \n",
       "2                         0                       1                 0   \n",
       "3                         0                       0                 0   \n",
       "4                         0                       0                 0   \n",
       "\n",
       "   purpose_wedding  addr_state_AL  addr_state_AR  addr_state_AZ  \\\n",
       "0                0              0              0              1   \n",
       "1                0              0              0              0   \n",
       "2                0              0              0              0   \n",
       "3                0              0              0              0   \n",
       "4                0              0              0              0   \n",
       "\n",
       "   addr_state_CA  addr_state_CO  addr_state_CT  addr_state_DC  addr_state_DE  \\\n",
       "0              0              0              0              0              0   \n",
       "1              0              0              0              0              0   \n",
       "2              0              0              0              0              0   \n",
       "3              1              0              0              0              0   \n",
       "4              0              0              0              0              0   \n",
       "\n",
       "   addr_state_FL  addr_state_GA  addr_state_HI  addr_state_IA  addr_state_ID  \\\n",
       "0              0              0              0              0              0   \n",
       "1              0              1              0              0              0   \n",
       "2              0              0              0              0              0   \n",
       "3              0              0              0              0              0   \n",
       "4              0              0              0              0              0   \n",
       "\n",
       "   addr_state_IL  addr_state_IN  addr_state_KS  addr_state_KY  addr_state_LA  \\\n",
       "0              0              0              0              0              0   \n",
       "1              0              0              0              0              0   \n",
       "2              1              0              0              0              0   \n",
       "3              0              0              0              0              0   \n",
       "4              0              0              0              0              0   \n",
       "\n",
       "   addr_state_MA  addr_state_MD  addr_state_ME  addr_state_MI  addr_state_MN  \\\n",
       "0              0              0              0              0              0   \n",
       "1              0              0              0              0              0   \n",
       "2              0              0              0              0              0   \n",
       "3              0              0              0              0              0   \n",
       "4              0              0              0              0              0   \n",
       "\n",
       "   addr_state_MO  addr_state_MS  addr_state_MT  addr_state_NC  addr_state_NE  \\\n",
       "0              0              0              0              0              0   \n",
       "1              0              0              0              0              0   \n",
       "2              0              0              0              0              0   \n",
       "3              0              0              0              0              0   \n",
       "4              0              0              0              0              0   \n",
       "\n",
       "   addr_state_NH  addr_state_NJ  addr_state_NM  addr_state_NV  addr_state_NY  \\\n",
       "0              0              0              0              0              0   \n",
       "1              0              0              0              0              0   \n",
       "2              0              0              0              0              0   \n",
       "3              0              0              0              0              0   \n",
       "4              0              0              0              0              0   \n",
       "\n",
       "   addr_state_OH  addr_state_OK  addr_state_OR  addr_state_PA  addr_state_RI  \\\n",
       "0              0              0              0              0              0   \n",
       "1              0              0              0              0              0   \n",
       "2              0              0              0              0              0   \n",
       "3              0              0              0              0              0   \n",
       "4              0              0              1              0              0   \n",
       "\n",
       "   addr_state_SC  addr_state_SD  addr_state_TN  addr_state_TX  addr_state_UT  \\\n",
       "0              0              0              0              0              0   \n",
       "1              0              0              0              0              0   \n",
       "2              0              0              0              0              0   \n",
       "3              0              0              0              0              0   \n",
       "4              0              0              0              0              0   \n",
       "\n",
       "   addr_state_VA  addr_state_VT  addr_state_WA  addr_state_WI  addr_state_WV  \\\n",
       "0              0              0              0              0              0   \n",
       "1              0              0              0              0              0   \n",
       "2              0              0              0              0              0   \n",
       "3              0              0              0              0              0   \n",
       "4              0              0              0              0              0   \n",
       "\n",
       "   addr_state_WY  initial_list_status_w  \n",
       "0              0                      0  \n",
       "1              0                      0  \n",
       "2              0                      0  \n",
       "3              0                      0  \n",
       "4              0                      0  "
      ]
     },
     "execution_count": 135,
     "metadata": {},
     "output_type": "execute_result"
    }
   ],
   "source": [
    "data.head()"
   ]
  },
  {
   "cell_type": "markdown",
   "metadata": {
    "_cell_guid": "ca4dad88-fc41-45cf-bf59-7f7afe4ffbee",
    "_uuid": "75a6bf26-e368-4ee2-b659-7d8fa01991ea",
    "execution": {
     "iopub.execute_input": "2022-08-31T16:45:28.670957Z",
     "iopub.status.busy": "2022-08-31T16:45:28.670616Z",
     "iopub.status.idle": "2022-08-31T16:45:28.675387Z",
     "shell.execute_reply": "2022-08-31T16:45:28.674305Z",
     "shell.execute_reply.started": "2022-08-31T16:45:28.670911Z"
    }
   },
   "source": [
    " <h2 style=\"background-color:green;font-family:verdana;color:white;font-size:100%;text-align:center;border-radius:10px 10px;letter-spacing:0.5px;padding: 10px\"> Step 5 : Train/test split </h2>"
   ]
  },
  {
   "cell_type": "code",
   "execution_count": 136,
   "metadata": {
    "_cell_guid": "b0b117dc-928d-486d-a207-bbccff14038f",
    "_uuid": "08fb62f2-6b72-4387-aadb-8194c20dbe65",
    "execution": {
     "iopub.execute_input": "2022-09-06T09:48:17.514277Z",
     "iopub.status.busy": "2022-09-06T09:48:17.513817Z",
     "iopub.status.idle": "2022-09-06T09:48:17.521816Z",
     "shell.execute_reply": "2022-09-06T09:48:17.520436Z",
     "shell.execute_reply.started": "2022-09-06T09:48:17.514225Z"
    },
    "jupyter": {
     "outputs_hidden": false
    }
   },
   "outputs": [
    {
     "data": {
      "text/plain": [
       "(466285, 126)"
      ]
     },
     "execution_count": 136,
     "metadata": {},
     "output_type": "execute_result"
    }
   ],
   "source": [
    "data.shape"
   ]
  },
  {
   "cell_type": "code",
   "execution_count": 137,
   "metadata": {
    "_cell_guid": "92f50797-5446-475e-bc63-df56a06fc93a",
    "_uuid": "8f250ea0-577e-479d-8ecf-c43a8e8c75a0",
    "execution": {
     "iopub.execute_input": "2022-09-06T09:48:17.524707Z",
     "iopub.status.busy": "2022-09-06T09:48:17.523721Z",
     "iopub.status.idle": "2022-09-06T09:48:17.533891Z",
     "shell.execute_reply": "2022-09-06T09:48:17.532762Z",
     "shell.execute_reply.started": "2022-09-06T09:48:17.524653Z"
    },
    "jupyter": {
     "outputs_hidden": false
    }
   },
   "outputs": [],
   "source": [
    "y_train = data['target']\n",
    "y_test = data['target']"
   ]
  },
  {
   "cell_type": "code",
   "execution_count": 138,
   "metadata": {
    "_cell_guid": "20283ad2-ea36-43f9-86e4-c8735a1223ff",
    "_uuid": "9d092b18-6bd9-4cc0-937a-f2555e1e90b0",
    "execution": {
     "iopub.execute_input": "2022-09-06T09:48:17.536585Z",
     "iopub.status.busy": "2022-09-06T09:48:17.535493Z",
     "iopub.status.idle": "2022-09-06T09:48:17.928689Z",
     "shell.execute_reply": "2022-09-06T09:48:17.927748Z",
     "shell.execute_reply.started": "2022-09-06T09:48:17.536541Z"
    },
    "jupyter": {
     "outputs_hidden": false
    }
   },
   "outputs": [
    {
     "data": {
      "text/html": [
       "<div>\n",
       "<style scoped>\n",
       "    .dataframe tbody tr th:only-of-type {\n",
       "        vertical-align: middle;\n",
       "    }\n",
       "\n",
       "    .dataframe tbody tr th {\n",
       "        vertical-align: top;\n",
       "    }\n",
       "\n",
       "    .dataframe thead th {\n",
       "        text-align: right;\n",
       "    }\n",
       "</style>\n",
       "<table border=\"1\" class=\"dataframe\">\n",
       "  <thead>\n",
       "    <tr style=\"text-align: right;\">\n",
       "      <th></th>\n",
       "      <th>loan_amnt</th>\n",
       "      <th>funded_amnt</th>\n",
       "      <th>funded_amnt_inv</th>\n",
       "      <th>term</th>\n",
       "      <th>int_rate</th>\n",
       "      <th>installment</th>\n",
       "      <th>annual_inc</th>\n",
       "      <th>dti</th>\n",
       "      <th>delinq_2yrs</th>\n",
       "      <th>inq_last_6mths</th>\n",
       "      <th>open_acc</th>\n",
       "      <th>pub_rec</th>\n",
       "      <th>revol_bal</th>\n",
       "      <th>revol_util</th>\n",
       "      <th>total_acc</th>\n",
       "      <th>out_prncp</th>\n",
       "      <th>out_prncp_inv</th>\n",
       "      <th>total_pymnt</th>\n",
       "      <th>total_pymnt_inv</th>\n",
       "      <th>recoveries</th>\n",
       "      <th>collection_recovery_fee</th>\n",
       "      <th>last_pymnt_amnt</th>\n",
       "      <th>sub_grade_A2</th>\n",
       "      <th>sub_grade_A3</th>\n",
       "      <th>sub_grade_A4</th>\n",
       "      <th>sub_grade_A5</th>\n",
       "      <th>sub_grade_B1</th>\n",
       "      <th>sub_grade_B2</th>\n",
       "      <th>sub_grade_B3</th>\n",
       "      <th>sub_grade_B4</th>\n",
       "      <th>sub_grade_B5</th>\n",
       "      <th>sub_grade_C1</th>\n",
       "      <th>sub_grade_C2</th>\n",
       "      <th>sub_grade_C3</th>\n",
       "      <th>sub_grade_C4</th>\n",
       "      <th>sub_grade_C5</th>\n",
       "      <th>sub_grade_D1</th>\n",
       "      <th>sub_grade_D2</th>\n",
       "      <th>sub_grade_D3</th>\n",
       "      <th>sub_grade_D4</th>\n",
       "      <th>sub_grade_D5</th>\n",
       "      <th>sub_grade_E1</th>\n",
       "      <th>sub_grade_E2</th>\n",
       "      <th>sub_grade_E3</th>\n",
       "      <th>sub_grade_E4</th>\n",
       "      <th>sub_grade_E5</th>\n",
       "      <th>sub_grade_F1</th>\n",
       "      <th>sub_grade_F2</th>\n",
       "      <th>sub_grade_F3</th>\n",
       "      <th>sub_grade_F4</th>\n",
       "      <th>sub_grade_F5</th>\n",
       "      <th>sub_grade_G1</th>\n",
       "      <th>sub_grade_G2</th>\n",
       "      <th>sub_grade_G3</th>\n",
       "      <th>sub_grade_G4</th>\n",
       "      <th>sub_grade_G5</th>\n",
       "      <th>home_ownership_OTHER</th>\n",
       "      <th>home_ownership_OWN</th>\n",
       "      <th>home_ownership_RENT</th>\n",
       "      <th>verification_status_Source Verified</th>\n",
       "      <th>verification_status_Verified</th>\n",
       "      <th>pymnt_plan_y</th>\n",
       "      <th>purpose_credit_card</th>\n",
       "      <th>purpose_debt_consolidation</th>\n",
       "      <th>purpose_educational</th>\n",
       "      <th>purpose_home_improvement</th>\n",
       "      <th>purpose_house</th>\n",
       "      <th>purpose_major_purchase</th>\n",
       "      <th>purpose_medical</th>\n",
       "      <th>purpose_moving</th>\n",
       "      <th>purpose_other</th>\n",
       "      <th>purpose_renewable_energy</th>\n",
       "      <th>purpose_small_business</th>\n",
       "      <th>purpose_vacation</th>\n",
       "      <th>purpose_wedding</th>\n",
       "      <th>addr_state_AL</th>\n",
       "      <th>addr_state_AR</th>\n",
       "      <th>addr_state_AZ</th>\n",
       "      <th>addr_state_CA</th>\n",
       "      <th>addr_state_CO</th>\n",
       "      <th>addr_state_CT</th>\n",
       "      <th>addr_state_DC</th>\n",
       "      <th>addr_state_DE</th>\n",
       "      <th>addr_state_FL</th>\n",
       "      <th>addr_state_GA</th>\n",
       "      <th>addr_state_HI</th>\n",
       "      <th>addr_state_IA</th>\n",
       "      <th>addr_state_ID</th>\n",
       "      <th>addr_state_IL</th>\n",
       "      <th>addr_state_IN</th>\n",
       "      <th>addr_state_KS</th>\n",
       "      <th>addr_state_KY</th>\n",
       "      <th>addr_state_LA</th>\n",
       "      <th>addr_state_MA</th>\n",
       "      <th>addr_state_MD</th>\n",
       "      <th>addr_state_ME</th>\n",
       "      <th>addr_state_MI</th>\n",
       "      <th>addr_state_MN</th>\n",
       "      <th>addr_state_MO</th>\n",
       "      <th>addr_state_MS</th>\n",
       "      <th>addr_state_MT</th>\n",
       "      <th>addr_state_NC</th>\n",
       "      <th>addr_state_NE</th>\n",
       "      <th>addr_state_NH</th>\n",
       "      <th>addr_state_NJ</th>\n",
       "      <th>addr_state_NM</th>\n",
       "      <th>addr_state_NV</th>\n",
       "      <th>addr_state_NY</th>\n",
       "      <th>addr_state_OH</th>\n",
       "      <th>addr_state_OK</th>\n",
       "      <th>addr_state_OR</th>\n",
       "      <th>addr_state_PA</th>\n",
       "      <th>addr_state_RI</th>\n",
       "      <th>addr_state_SC</th>\n",
       "      <th>addr_state_SD</th>\n",
       "      <th>addr_state_TN</th>\n",
       "      <th>addr_state_TX</th>\n",
       "      <th>addr_state_UT</th>\n",
       "      <th>addr_state_VA</th>\n",
       "      <th>addr_state_VT</th>\n",
       "      <th>addr_state_WA</th>\n",
       "      <th>addr_state_WI</th>\n",
       "      <th>addr_state_WV</th>\n",
       "      <th>addr_state_WY</th>\n",
       "      <th>initial_list_status_w</th>\n",
       "    </tr>\n",
       "  </thead>\n",
       "  <tbody>\n",
       "    <tr>\n",
       "      <th>0</th>\n",
       "      <td>5000</td>\n",
       "      <td>5000</td>\n",
       "      <td>4975.0</td>\n",
       "      <td>36</td>\n",
       "      <td>10.65</td>\n",
       "      <td>162.87</td>\n",
       "      <td>4.380229</td>\n",
       "      <td>27.65</td>\n",
       "      <td>0.0</td>\n",
       "      <td>1.0</td>\n",
       "      <td>3.0</td>\n",
       "      <td>0.0</td>\n",
       "      <td>13648</td>\n",
       "      <td>83.7</td>\n",
       "      <td>9.0</td>\n",
       "      <td>0.0</td>\n",
       "      <td>0.0</td>\n",
       "      <td>5861.071414</td>\n",
       "      <td>5831.78</td>\n",
       "      <td>0.00</td>\n",
       "      <td>0.00</td>\n",
       "      <td>171.62</td>\n",
       "      <td>0</td>\n",
       "      <td>0</td>\n",
       "      <td>0</td>\n",
       "      <td>0</td>\n",
       "      <td>0</td>\n",
       "      <td>1</td>\n",
       "      <td>0</td>\n",
       "      <td>0</td>\n",
       "      <td>0</td>\n",
       "      <td>0</td>\n",
       "      <td>0</td>\n",
       "      <td>0</td>\n",
       "      <td>0</td>\n",
       "      <td>0</td>\n",
       "      <td>0</td>\n",
       "      <td>0</td>\n",
       "      <td>0</td>\n",
       "      <td>0</td>\n",
       "      <td>0</td>\n",
       "      <td>0</td>\n",
       "      <td>0</td>\n",
       "      <td>0</td>\n",
       "      <td>0</td>\n",
       "      <td>0</td>\n",
       "      <td>0</td>\n",
       "      <td>0</td>\n",
       "      <td>0</td>\n",
       "      <td>0</td>\n",
       "      <td>0</td>\n",
       "      <td>0</td>\n",
       "      <td>0</td>\n",
       "      <td>0</td>\n",
       "      <td>0</td>\n",
       "      <td>0</td>\n",
       "      <td>0</td>\n",
       "      <td>0</td>\n",
       "      <td>1</td>\n",
       "      <td>0</td>\n",
       "      <td>1</td>\n",
       "      <td>0</td>\n",
       "      <td>1</td>\n",
       "      <td>0</td>\n",
       "      <td>0</td>\n",
       "      <td>0</td>\n",
       "      <td>0</td>\n",
       "      <td>0</td>\n",
       "      <td>0</td>\n",
       "      <td>0</td>\n",
       "      <td>0</td>\n",
       "      <td>0</td>\n",
       "      <td>0</td>\n",
       "      <td>0</td>\n",
       "      <td>0</td>\n",
       "      <td>0</td>\n",
       "      <td>0</td>\n",
       "      <td>1</td>\n",
       "      <td>0</td>\n",
       "      <td>0</td>\n",
       "      <td>0</td>\n",
       "      <td>0</td>\n",
       "      <td>0</td>\n",
       "      <td>0</td>\n",
       "      <td>0</td>\n",
       "      <td>0</td>\n",
       "      <td>0</td>\n",
       "      <td>0</td>\n",
       "      <td>0</td>\n",
       "      <td>0</td>\n",
       "      <td>0</td>\n",
       "      <td>0</td>\n",
       "      <td>0</td>\n",
       "      <td>0</td>\n",
       "      <td>0</td>\n",
       "      <td>0</td>\n",
       "      <td>0</td>\n",
       "      <td>0</td>\n",
       "      <td>0</td>\n",
       "      <td>0</td>\n",
       "      <td>0</td>\n",
       "      <td>0</td>\n",
       "      <td>0</td>\n",
       "      <td>0</td>\n",
       "      <td>0</td>\n",
       "      <td>0</td>\n",
       "      <td>0</td>\n",
       "      <td>0</td>\n",
       "      <td>0</td>\n",
       "      <td>0</td>\n",
       "      <td>0</td>\n",
       "      <td>0</td>\n",
       "      <td>0</td>\n",
       "      <td>0</td>\n",
       "      <td>0</td>\n",
       "      <td>0</td>\n",
       "      <td>0</td>\n",
       "      <td>0</td>\n",
       "      <td>0</td>\n",
       "      <td>0</td>\n",
       "      <td>0</td>\n",
       "      <td>0</td>\n",
       "      <td>0</td>\n",
       "      <td>0</td>\n",
       "      <td>0</td>\n",
       "    </tr>\n",
       "    <tr>\n",
       "      <th>1</th>\n",
       "      <td>2500</td>\n",
       "      <td>2500</td>\n",
       "      <td>2500.0</td>\n",
       "      <td>60</td>\n",
       "      <td>15.27</td>\n",
       "      <td>59.83</td>\n",
       "      <td>4.477136</td>\n",
       "      <td>1.00</td>\n",
       "      <td>0.0</td>\n",
       "      <td>5.0</td>\n",
       "      <td>3.0</td>\n",
       "      <td>0.0</td>\n",
       "      <td>1687</td>\n",
       "      <td>9.4</td>\n",
       "      <td>4.0</td>\n",
       "      <td>0.0</td>\n",
       "      <td>0.0</td>\n",
       "      <td>1008.710000</td>\n",
       "      <td>1008.71</td>\n",
       "      <td>117.08</td>\n",
       "      <td>1.11</td>\n",
       "      <td>119.66</td>\n",
       "      <td>0</td>\n",
       "      <td>0</td>\n",
       "      <td>0</td>\n",
       "      <td>0</td>\n",
       "      <td>0</td>\n",
       "      <td>0</td>\n",
       "      <td>0</td>\n",
       "      <td>0</td>\n",
       "      <td>0</td>\n",
       "      <td>0</td>\n",
       "      <td>0</td>\n",
       "      <td>0</td>\n",
       "      <td>1</td>\n",
       "      <td>0</td>\n",
       "      <td>0</td>\n",
       "      <td>0</td>\n",
       "      <td>0</td>\n",
       "      <td>0</td>\n",
       "      <td>0</td>\n",
       "      <td>0</td>\n",
       "      <td>0</td>\n",
       "      <td>0</td>\n",
       "      <td>0</td>\n",
       "      <td>0</td>\n",
       "      <td>0</td>\n",
       "      <td>0</td>\n",
       "      <td>0</td>\n",
       "      <td>0</td>\n",
       "      <td>0</td>\n",
       "      <td>0</td>\n",
       "      <td>0</td>\n",
       "      <td>0</td>\n",
       "      <td>0</td>\n",
       "      <td>0</td>\n",
       "      <td>0</td>\n",
       "      <td>0</td>\n",
       "      <td>1</td>\n",
       "      <td>1</td>\n",
       "      <td>0</td>\n",
       "      <td>0</td>\n",
       "      <td>0</td>\n",
       "      <td>0</td>\n",
       "      <td>0</td>\n",
       "      <td>0</td>\n",
       "      <td>0</td>\n",
       "      <td>0</td>\n",
       "      <td>0</td>\n",
       "      <td>0</td>\n",
       "      <td>0</td>\n",
       "      <td>0</td>\n",
       "      <td>0</td>\n",
       "      <td>0</td>\n",
       "      <td>0</td>\n",
       "      <td>0</td>\n",
       "      <td>0</td>\n",
       "      <td>0</td>\n",
       "      <td>0</td>\n",
       "      <td>0</td>\n",
       "      <td>0</td>\n",
       "      <td>0</td>\n",
       "      <td>0</td>\n",
       "      <td>0</td>\n",
       "      <td>1</td>\n",
       "      <td>0</td>\n",
       "      <td>0</td>\n",
       "      <td>0</td>\n",
       "      <td>0</td>\n",
       "      <td>0</td>\n",
       "      <td>0</td>\n",
       "      <td>0</td>\n",
       "      <td>0</td>\n",
       "      <td>0</td>\n",
       "      <td>0</td>\n",
       "      <td>0</td>\n",
       "      <td>0</td>\n",
       "      <td>0</td>\n",
       "      <td>0</td>\n",
       "      <td>0</td>\n",
       "      <td>0</td>\n",
       "      <td>0</td>\n",
       "      <td>0</td>\n",
       "      <td>0</td>\n",
       "      <td>0</td>\n",
       "      <td>0</td>\n",
       "      <td>0</td>\n",
       "      <td>0</td>\n",
       "      <td>0</td>\n",
       "      <td>0</td>\n",
       "      <td>0</td>\n",
       "      <td>0</td>\n",
       "      <td>0</td>\n",
       "      <td>0</td>\n",
       "      <td>0</td>\n",
       "      <td>0</td>\n",
       "      <td>0</td>\n",
       "      <td>0</td>\n",
       "      <td>0</td>\n",
       "      <td>0</td>\n",
       "      <td>0</td>\n",
       "      <td>0</td>\n",
       "      <td>0</td>\n",
       "      <td>0</td>\n",
       "      <td>0</td>\n",
       "    </tr>\n",
       "    <tr>\n",
       "      <th>2</th>\n",
       "      <td>2400</td>\n",
       "      <td>2400</td>\n",
       "      <td>2400.0</td>\n",
       "      <td>36</td>\n",
       "      <td>15.96</td>\n",
       "      <td>84.33</td>\n",
       "      <td>4.088242</td>\n",
       "      <td>8.72</td>\n",
       "      <td>0.0</td>\n",
       "      <td>2.0</td>\n",
       "      <td>2.0</td>\n",
       "      <td>0.0</td>\n",
       "      <td>2956</td>\n",
       "      <td>98.5</td>\n",
       "      <td>10.0</td>\n",
       "      <td>0.0</td>\n",
       "      <td>0.0</td>\n",
       "      <td>3003.653644</td>\n",
       "      <td>3003.65</td>\n",
       "      <td>0.00</td>\n",
       "      <td>0.00</td>\n",
       "      <td>649.91</td>\n",
       "      <td>0</td>\n",
       "      <td>0</td>\n",
       "      <td>0</td>\n",
       "      <td>0</td>\n",
       "      <td>0</td>\n",
       "      <td>0</td>\n",
       "      <td>0</td>\n",
       "      <td>0</td>\n",
       "      <td>0</td>\n",
       "      <td>0</td>\n",
       "      <td>0</td>\n",
       "      <td>0</td>\n",
       "      <td>0</td>\n",
       "      <td>1</td>\n",
       "      <td>0</td>\n",
       "      <td>0</td>\n",
       "      <td>0</td>\n",
       "      <td>0</td>\n",
       "      <td>0</td>\n",
       "      <td>0</td>\n",
       "      <td>0</td>\n",
       "      <td>0</td>\n",
       "      <td>0</td>\n",
       "      <td>0</td>\n",
       "      <td>0</td>\n",
       "      <td>0</td>\n",
       "      <td>0</td>\n",
       "      <td>0</td>\n",
       "      <td>0</td>\n",
       "      <td>0</td>\n",
       "      <td>0</td>\n",
       "      <td>0</td>\n",
       "      <td>0</td>\n",
       "      <td>0</td>\n",
       "      <td>0</td>\n",
       "      <td>0</td>\n",
       "      <td>1</td>\n",
       "      <td>0</td>\n",
       "      <td>0</td>\n",
       "      <td>0</td>\n",
       "      <td>0</td>\n",
       "      <td>0</td>\n",
       "      <td>0</td>\n",
       "      <td>0</td>\n",
       "      <td>0</td>\n",
       "      <td>0</td>\n",
       "      <td>0</td>\n",
       "      <td>0</td>\n",
       "      <td>0</td>\n",
       "      <td>0</td>\n",
       "      <td>1</td>\n",
       "      <td>0</td>\n",
       "      <td>0</td>\n",
       "      <td>0</td>\n",
       "      <td>0</td>\n",
       "      <td>0</td>\n",
       "      <td>0</td>\n",
       "      <td>0</td>\n",
       "      <td>0</td>\n",
       "      <td>0</td>\n",
       "      <td>0</td>\n",
       "      <td>0</td>\n",
       "      <td>0</td>\n",
       "      <td>0</td>\n",
       "      <td>0</td>\n",
       "      <td>0</td>\n",
       "      <td>1</td>\n",
       "      <td>0</td>\n",
       "      <td>0</td>\n",
       "      <td>0</td>\n",
       "      <td>0</td>\n",
       "      <td>0</td>\n",
       "      <td>0</td>\n",
       "      <td>0</td>\n",
       "      <td>0</td>\n",
       "      <td>0</td>\n",
       "      <td>0</td>\n",
       "      <td>0</td>\n",
       "      <td>0</td>\n",
       "      <td>0</td>\n",
       "      <td>0</td>\n",
       "      <td>0</td>\n",
       "      <td>0</td>\n",
       "      <td>0</td>\n",
       "      <td>0</td>\n",
       "      <td>0</td>\n",
       "      <td>0</td>\n",
       "      <td>0</td>\n",
       "      <td>0</td>\n",
       "      <td>0</td>\n",
       "      <td>0</td>\n",
       "      <td>0</td>\n",
       "      <td>0</td>\n",
       "      <td>0</td>\n",
       "      <td>0</td>\n",
       "      <td>0</td>\n",
       "      <td>0</td>\n",
       "      <td>0</td>\n",
       "      <td>0</td>\n",
       "      <td>0</td>\n",
       "      <td>0</td>\n",
       "      <td>0</td>\n",
       "      <td>0</td>\n",
       "    </tr>\n",
       "    <tr>\n",
       "      <th>3</th>\n",
       "      <td>10000</td>\n",
       "      <td>10000</td>\n",
       "      <td>10000.0</td>\n",
       "      <td>36</td>\n",
       "      <td>13.49</td>\n",
       "      <td>339.31</td>\n",
       "      <td>4.691974</td>\n",
       "      <td>20.00</td>\n",
       "      <td>0.0</td>\n",
       "      <td>1.0</td>\n",
       "      <td>10.0</td>\n",
       "      <td>0.0</td>\n",
       "      <td>5598</td>\n",
       "      <td>21.0</td>\n",
       "      <td>37.0</td>\n",
       "      <td>0.0</td>\n",
       "      <td>0.0</td>\n",
       "      <td>12226.302210</td>\n",
       "      <td>12226.30</td>\n",
       "      <td>0.00</td>\n",
       "      <td>0.00</td>\n",
       "      <td>357.48</td>\n",
       "      <td>0</td>\n",
       "      <td>0</td>\n",
       "      <td>0</td>\n",
       "      <td>0</td>\n",
       "      <td>0</td>\n",
       "      <td>0</td>\n",
       "      <td>0</td>\n",
       "      <td>0</td>\n",
       "      <td>0</td>\n",
       "      <td>1</td>\n",
       "      <td>0</td>\n",
       "      <td>0</td>\n",
       "      <td>0</td>\n",
       "      <td>0</td>\n",
       "      <td>0</td>\n",
       "      <td>0</td>\n",
       "      <td>0</td>\n",
       "      <td>0</td>\n",
       "      <td>0</td>\n",
       "      <td>0</td>\n",
       "      <td>0</td>\n",
       "      <td>0</td>\n",
       "      <td>0</td>\n",
       "      <td>0</td>\n",
       "      <td>0</td>\n",
       "      <td>0</td>\n",
       "      <td>0</td>\n",
       "      <td>0</td>\n",
       "      <td>0</td>\n",
       "      <td>0</td>\n",
       "      <td>0</td>\n",
       "      <td>0</td>\n",
       "      <td>0</td>\n",
       "      <td>0</td>\n",
       "      <td>0</td>\n",
       "      <td>0</td>\n",
       "      <td>1</td>\n",
       "      <td>1</td>\n",
       "      <td>0</td>\n",
       "      <td>0</td>\n",
       "      <td>0</td>\n",
       "      <td>0</td>\n",
       "      <td>0</td>\n",
       "      <td>0</td>\n",
       "      <td>0</td>\n",
       "      <td>0</td>\n",
       "      <td>0</td>\n",
       "      <td>0</td>\n",
       "      <td>1</td>\n",
       "      <td>0</td>\n",
       "      <td>0</td>\n",
       "      <td>0</td>\n",
       "      <td>0</td>\n",
       "      <td>0</td>\n",
       "      <td>0</td>\n",
       "      <td>0</td>\n",
       "      <td>1</td>\n",
       "      <td>0</td>\n",
       "      <td>0</td>\n",
       "      <td>0</td>\n",
       "      <td>0</td>\n",
       "      <td>0</td>\n",
       "      <td>0</td>\n",
       "      <td>0</td>\n",
       "      <td>0</td>\n",
       "      <td>0</td>\n",
       "      <td>0</td>\n",
       "      <td>0</td>\n",
       "      <td>0</td>\n",
       "      <td>0</td>\n",
       "      <td>0</td>\n",
       "      <td>0</td>\n",
       "      <td>0</td>\n",
       "      <td>0</td>\n",
       "      <td>0</td>\n",
       "      <td>0</td>\n",
       "      <td>0</td>\n",
       "      <td>0</td>\n",
       "      <td>0</td>\n",
       "      <td>0</td>\n",
       "      <td>0</td>\n",
       "      <td>0</td>\n",
       "      <td>0</td>\n",
       "      <td>0</td>\n",
       "      <td>0</td>\n",
       "      <td>0</td>\n",
       "      <td>0</td>\n",
       "      <td>0</td>\n",
       "      <td>0</td>\n",
       "      <td>0</td>\n",
       "      <td>0</td>\n",
       "      <td>0</td>\n",
       "      <td>0</td>\n",
       "      <td>0</td>\n",
       "      <td>0</td>\n",
       "      <td>0</td>\n",
       "      <td>0</td>\n",
       "      <td>0</td>\n",
       "      <td>0</td>\n",
       "      <td>0</td>\n",
       "      <td>0</td>\n",
       "      <td>0</td>\n",
       "      <td>0</td>\n",
       "    </tr>\n",
       "    <tr>\n",
       "      <th>4</th>\n",
       "      <td>3000</td>\n",
       "      <td>3000</td>\n",
       "      <td>3000.0</td>\n",
       "      <td>60</td>\n",
       "      <td>12.69</td>\n",
       "      <td>67.79</td>\n",
       "      <td>4.903095</td>\n",
       "      <td>17.94</td>\n",
       "      <td>0.0</td>\n",
       "      <td>0.0</td>\n",
       "      <td>15.0</td>\n",
       "      <td>0.0</td>\n",
       "      <td>27783</td>\n",
       "      <td>53.9</td>\n",
       "      <td>38.0</td>\n",
       "      <td>766.9</td>\n",
       "      <td>766.9</td>\n",
       "      <td>3242.170000</td>\n",
       "      <td>3242.17</td>\n",
       "      <td>0.00</td>\n",
       "      <td>0.00</td>\n",
       "      <td>67.79</td>\n",
       "      <td>0</td>\n",
       "      <td>0</td>\n",
       "      <td>0</td>\n",
       "      <td>0</td>\n",
       "      <td>0</td>\n",
       "      <td>0</td>\n",
       "      <td>0</td>\n",
       "      <td>0</td>\n",
       "      <td>1</td>\n",
       "      <td>0</td>\n",
       "      <td>0</td>\n",
       "      <td>0</td>\n",
       "      <td>0</td>\n",
       "      <td>0</td>\n",
       "      <td>0</td>\n",
       "      <td>0</td>\n",
       "      <td>0</td>\n",
       "      <td>0</td>\n",
       "      <td>0</td>\n",
       "      <td>0</td>\n",
       "      <td>0</td>\n",
       "      <td>0</td>\n",
       "      <td>0</td>\n",
       "      <td>0</td>\n",
       "      <td>0</td>\n",
       "      <td>0</td>\n",
       "      <td>0</td>\n",
       "      <td>0</td>\n",
       "      <td>0</td>\n",
       "      <td>0</td>\n",
       "      <td>0</td>\n",
       "      <td>0</td>\n",
       "      <td>0</td>\n",
       "      <td>0</td>\n",
       "      <td>0</td>\n",
       "      <td>0</td>\n",
       "      <td>1</td>\n",
       "      <td>1</td>\n",
       "      <td>0</td>\n",
       "      <td>0</td>\n",
       "      <td>0</td>\n",
       "      <td>0</td>\n",
       "      <td>0</td>\n",
       "      <td>0</td>\n",
       "      <td>0</td>\n",
       "      <td>0</td>\n",
       "      <td>0</td>\n",
       "      <td>0</td>\n",
       "      <td>1</td>\n",
       "      <td>0</td>\n",
       "      <td>0</td>\n",
       "      <td>0</td>\n",
       "      <td>0</td>\n",
       "      <td>0</td>\n",
       "      <td>0</td>\n",
       "      <td>0</td>\n",
       "      <td>0</td>\n",
       "      <td>0</td>\n",
       "      <td>0</td>\n",
       "      <td>0</td>\n",
       "      <td>0</td>\n",
       "      <td>0</td>\n",
       "      <td>0</td>\n",
       "      <td>0</td>\n",
       "      <td>0</td>\n",
       "      <td>0</td>\n",
       "      <td>0</td>\n",
       "      <td>0</td>\n",
       "      <td>0</td>\n",
       "      <td>0</td>\n",
       "      <td>0</td>\n",
       "      <td>0</td>\n",
       "      <td>0</td>\n",
       "      <td>0</td>\n",
       "      <td>0</td>\n",
       "      <td>0</td>\n",
       "      <td>0</td>\n",
       "      <td>0</td>\n",
       "      <td>0</td>\n",
       "      <td>0</td>\n",
       "      <td>0</td>\n",
       "      <td>0</td>\n",
       "      <td>0</td>\n",
       "      <td>0</td>\n",
       "      <td>0</td>\n",
       "      <td>0</td>\n",
       "      <td>0</td>\n",
       "      <td>0</td>\n",
       "      <td>1</td>\n",
       "      <td>0</td>\n",
       "      <td>0</td>\n",
       "      <td>0</td>\n",
       "      <td>0</td>\n",
       "      <td>0</td>\n",
       "      <td>0</td>\n",
       "      <td>0</td>\n",
       "      <td>0</td>\n",
       "      <td>0</td>\n",
       "      <td>0</td>\n",
       "      <td>0</td>\n",
       "      <td>0</td>\n",
       "      <td>0</td>\n",
       "      <td>0</td>\n",
       "    </tr>\n",
       "  </tbody>\n",
       "</table>\n",
       "</div>"
      ],
      "text/plain": [
       "   loan_amnt  funded_amnt  funded_amnt_inv  term  int_rate  installment  \\\n",
       "0       5000         5000           4975.0    36     10.65       162.87   \n",
       "1       2500         2500           2500.0    60     15.27        59.83   \n",
       "2       2400         2400           2400.0    36     15.96        84.33   \n",
       "3      10000        10000          10000.0    36     13.49       339.31   \n",
       "4       3000         3000           3000.0    60     12.69        67.79   \n",
       "\n",
       "   annual_inc    dti  delinq_2yrs  inq_last_6mths  open_acc  pub_rec  \\\n",
       "0    4.380229  27.65          0.0             1.0       3.0      0.0   \n",
       "1    4.477136   1.00          0.0             5.0       3.0      0.0   \n",
       "2    4.088242   8.72          0.0             2.0       2.0      0.0   \n",
       "3    4.691974  20.00          0.0             1.0      10.0      0.0   \n",
       "4    4.903095  17.94          0.0             0.0      15.0      0.0   \n",
       "\n",
       "   revol_bal  revol_util  total_acc  out_prncp  out_prncp_inv   total_pymnt  \\\n",
       "0      13648        83.7        9.0        0.0            0.0   5861.071414   \n",
       "1       1687         9.4        4.0        0.0            0.0   1008.710000   \n",
       "2       2956        98.5       10.0        0.0            0.0   3003.653644   \n",
       "3       5598        21.0       37.0        0.0            0.0  12226.302210   \n",
       "4      27783        53.9       38.0      766.9          766.9   3242.170000   \n",
       "\n",
       "   total_pymnt_inv  recoveries  collection_recovery_fee  last_pymnt_amnt  \\\n",
       "0          5831.78        0.00                     0.00           171.62   \n",
       "1          1008.71      117.08                     1.11           119.66   \n",
       "2          3003.65        0.00                     0.00           649.91   \n",
       "3         12226.30        0.00                     0.00           357.48   \n",
       "4          3242.17        0.00                     0.00            67.79   \n",
       "\n",
       "   sub_grade_A2  sub_grade_A3  sub_grade_A4  sub_grade_A5  sub_grade_B1  \\\n",
       "0             0             0             0             0             0   \n",
       "1             0             0             0             0             0   \n",
       "2             0             0             0             0             0   \n",
       "3             0             0             0             0             0   \n",
       "4             0             0             0             0             0   \n",
       "\n",
       "   sub_grade_B2  sub_grade_B3  sub_grade_B4  sub_grade_B5  sub_grade_C1  \\\n",
       "0             1             0             0             0             0   \n",
       "1             0             0             0             0             0   \n",
       "2             0             0             0             0             0   \n",
       "3             0             0             0             0             1   \n",
       "4             0             0             0             1             0   \n",
       "\n",
       "   sub_grade_C2  sub_grade_C3  sub_grade_C4  sub_grade_C5  sub_grade_D1  \\\n",
       "0             0             0             0             0             0   \n",
       "1             0             0             1             0             0   \n",
       "2             0             0             0             1             0   \n",
       "3             0             0             0             0             0   \n",
       "4             0             0             0             0             0   \n",
       "\n",
       "   sub_grade_D2  sub_grade_D3  sub_grade_D4  sub_grade_D5  sub_grade_E1  \\\n",
       "0             0             0             0             0             0   \n",
       "1             0             0             0             0             0   \n",
       "2             0             0             0             0             0   \n",
       "3             0             0             0             0             0   \n",
       "4             0             0             0             0             0   \n",
       "\n",
       "   sub_grade_E2  sub_grade_E3  sub_grade_E4  sub_grade_E5  sub_grade_F1  \\\n",
       "0             0             0             0             0             0   \n",
       "1             0             0             0             0             0   \n",
       "2             0             0             0             0             0   \n",
       "3             0             0             0             0             0   \n",
       "4             0             0             0             0             0   \n",
       "\n",
       "   sub_grade_F2  sub_grade_F3  sub_grade_F4  sub_grade_F5  sub_grade_G1  \\\n",
       "0             0             0             0             0             0   \n",
       "1             0             0             0             0             0   \n",
       "2             0             0             0             0             0   \n",
       "3             0             0             0             0             0   \n",
       "4             0             0             0             0             0   \n",
       "\n",
       "   sub_grade_G2  sub_grade_G3  sub_grade_G4  sub_grade_G5  \\\n",
       "0             0             0             0             0   \n",
       "1             0             0             0             0   \n",
       "2             0             0             0             0   \n",
       "3             0             0             0             0   \n",
       "4             0             0             0             0   \n",
       "\n",
       "   home_ownership_OTHER  home_ownership_OWN  home_ownership_RENT  \\\n",
       "0                     0                   0                    1   \n",
       "1                     0                   0                    1   \n",
       "2                     0                   0                    1   \n",
       "3                     0                   0                    1   \n",
       "4                     0                   0                    1   \n",
       "\n",
       "   verification_status_Source Verified  verification_status_Verified  \\\n",
       "0                                    0                             1   \n",
       "1                                    1                             0   \n",
       "2                                    0                             0   \n",
       "3                                    1                             0   \n",
       "4                                    1                             0   \n",
       "\n",
       "   pymnt_plan_y  purpose_credit_card  purpose_debt_consolidation  \\\n",
       "0             0                    1                           0   \n",
       "1             0                    0                           0   \n",
       "2             0                    0                           0   \n",
       "3             0                    0                           0   \n",
       "4             0                    0                           0   \n",
       "\n",
       "   purpose_educational  purpose_home_improvement  purpose_house  \\\n",
       "0                    0                         0              0   \n",
       "1                    0                         0              0   \n",
       "2                    0                         0              0   \n",
       "3                    0                         0              0   \n",
       "4                    0                         0              0   \n",
       "\n",
       "   purpose_major_purchase  purpose_medical  purpose_moving  purpose_other  \\\n",
       "0                       0                0               0              0   \n",
       "1                       0                0               0              0   \n",
       "2                       0                0               0              0   \n",
       "3                       0                0               0              1   \n",
       "4                       0                0               0              1   \n",
       "\n",
       "   purpose_renewable_energy  purpose_small_business  purpose_vacation  \\\n",
       "0                         0                       0                 0   \n",
       "1                         0                       0                 0   \n",
       "2                         0                       1                 0   \n",
       "3                         0                       0                 0   \n",
       "4                         0                       0                 0   \n",
       "\n",
       "   purpose_wedding  addr_state_AL  addr_state_AR  addr_state_AZ  \\\n",
       "0                0              0              0              1   \n",
       "1                0              0              0              0   \n",
       "2                0              0              0              0   \n",
       "3                0              0              0              0   \n",
       "4                0              0              0              0   \n",
       "\n",
       "   addr_state_CA  addr_state_CO  addr_state_CT  addr_state_DC  addr_state_DE  \\\n",
       "0              0              0              0              0              0   \n",
       "1              0              0              0              0              0   \n",
       "2              0              0              0              0              0   \n",
       "3              1              0              0              0              0   \n",
       "4              0              0              0              0              0   \n",
       "\n",
       "   addr_state_FL  addr_state_GA  addr_state_HI  addr_state_IA  addr_state_ID  \\\n",
       "0              0              0              0              0              0   \n",
       "1              0              1              0              0              0   \n",
       "2              0              0              0              0              0   \n",
       "3              0              0              0              0              0   \n",
       "4              0              0              0              0              0   \n",
       "\n",
       "   addr_state_IL  addr_state_IN  addr_state_KS  addr_state_KY  addr_state_LA  \\\n",
       "0              0              0              0              0              0   \n",
       "1              0              0              0              0              0   \n",
       "2              1              0              0              0              0   \n",
       "3              0              0              0              0              0   \n",
       "4              0              0              0              0              0   \n",
       "\n",
       "   addr_state_MA  addr_state_MD  addr_state_ME  addr_state_MI  addr_state_MN  \\\n",
       "0              0              0              0              0              0   \n",
       "1              0              0              0              0              0   \n",
       "2              0              0              0              0              0   \n",
       "3              0              0              0              0              0   \n",
       "4              0              0              0              0              0   \n",
       "\n",
       "   addr_state_MO  addr_state_MS  addr_state_MT  addr_state_NC  addr_state_NE  \\\n",
       "0              0              0              0              0              0   \n",
       "1              0              0              0              0              0   \n",
       "2              0              0              0              0              0   \n",
       "3              0              0              0              0              0   \n",
       "4              0              0              0              0              0   \n",
       "\n",
       "   addr_state_NH  addr_state_NJ  addr_state_NM  addr_state_NV  addr_state_NY  \\\n",
       "0              0              0              0              0              0   \n",
       "1              0              0              0              0              0   \n",
       "2              0              0              0              0              0   \n",
       "3              0              0              0              0              0   \n",
       "4              0              0              0              0              0   \n",
       "\n",
       "   addr_state_OH  addr_state_OK  addr_state_OR  addr_state_PA  addr_state_RI  \\\n",
       "0              0              0              0              0              0   \n",
       "1              0              0              0              0              0   \n",
       "2              0              0              0              0              0   \n",
       "3              0              0              0              0              0   \n",
       "4              0              0              1              0              0   \n",
       "\n",
       "   addr_state_SC  addr_state_SD  addr_state_TN  addr_state_TX  addr_state_UT  \\\n",
       "0              0              0              0              0              0   \n",
       "1              0              0              0              0              0   \n",
       "2              0              0              0              0              0   \n",
       "3              0              0              0              0              0   \n",
       "4              0              0              0              0              0   \n",
       "\n",
       "   addr_state_VA  addr_state_VT  addr_state_WA  addr_state_WI  addr_state_WV  \\\n",
       "0              0              0              0              0              0   \n",
       "1              0              0              0              0              0   \n",
       "2              0              0              0              0              0   \n",
       "3              0              0              0              0              0   \n",
       "4              0              0              0              0              0   \n",
       "\n",
       "   addr_state_WY  initial_list_status_w  \n",
       "0              0                      0  \n",
       "1              0                      0  \n",
       "2              0                      0  \n",
       "3              0                      0  \n",
       "4              0                      0  "
      ]
     },
     "execution_count": 138,
     "metadata": {},
     "output_type": "execute_result"
    }
   ],
   "source": [
    "X_train = data.drop('target', axis=1)\n",
    "X_test = data.drop('target', axis=1)\n",
    "X_train.head()"
   ]
  },
  {
   "cell_type": "markdown",
   "metadata": {
    "_cell_guid": "f4cbc534-9635-41b5-960e-f01ca22f6aca",
    "_uuid": "7f969876-93ad-4ad0-bba0-30d7467cdf91"
   },
   "source": [
    " <h2 style=\"background-color:green;font-family:verdana;color:white;font-size:100%;text-align:center;border-radius:10px 10px;letter-spacing:0.5px;padding: 10px\"> Step 6 : Model Building</h2>"
   ]
  },
  {
   "cell_type": "markdown",
   "metadata": {
    "_cell_guid": "3e6bf20e-48dc-4540-8d2b-46fb6c0bc7f8",
    "_uuid": "563f5aa1-e1f1-4aae-999d-996edbc19988"
   },
   "source": [
    "**Building our credit scoring model**\n",
    "\n",
    "<h2 style=\"color:#DC7633;\">Randome Forest Classifier\n",
    "</h2>"
   ]
  },
  {
   "cell_type": "code",
   "execution_count": 139,
   "metadata": {
    "_cell_guid": "48b195a0-3705-458f-a608-9e72f51ac032",
    "_uuid": "c455923c-8756-4456-9c3f-abaf5e945cc9",
    "execution": {
     "iopub.execute_input": "2022-09-06T09:48:26.265360Z",
     "iopub.status.busy": "2022-09-06T09:48:26.264556Z",
     "iopub.status.idle": "2022-09-06T09:50:04.240639Z",
     "shell.execute_reply": "2022-09-06T09:50:04.239202Z",
     "shell.execute_reply.started": "2022-09-06T09:48:26.265316Z"
    },
    "jupyter": {
     "outputs_hidden": false
    }
   },
   "outputs": [
    {
     "data": {
      "text/plain": [
       "RandomForestClassifier(n_estimators=50, random_state=20)"
      ]
     },
     "execution_count": 139,
     "metadata": {},
     "output_type": "execute_result"
    }
   ],
   "source": [
    "parameters = {'n_estimators': 50, 'random_state' : 20}\n",
    "    \n",
    "rf_model = RandomForestClassifier(**parameters)\n",
    "rf_model.fit(X_train, y_train)"
   ]
  },
  {
   "cell_type": "code",
   "execution_count": 140,
   "metadata": {
    "_cell_guid": "49b1b606-dfea-4fe4-b3a5-472fb8acbafd",
    "_uuid": "3f3d891d-cdee-444e-ab17-98e46b26696f",
    "execution": {
     "iopub.execute_input": "2022-09-06T09:50:09.959273Z",
     "iopub.status.busy": "2022-09-06T09:50:09.958813Z",
     "iopub.status.idle": "2022-09-06T09:50:14.797499Z",
     "shell.execute_reply": "2022-09-06T09:50:14.796056Z",
     "shell.execute_reply.started": "2022-09-06T09:50:09.959219Z"
    },
    "jupyter": {
     "outputs_hidden": false
    }
   },
   "outputs": [
    {
     "data": {
      "text/plain": [
       "0.999944240110662"
      ]
     },
     "execution_count": 140,
     "metadata": {},
     "output_type": "execute_result"
    }
   ],
   "source": [
    "# Accuracy of model\n",
    "rf_model.score(X_test, y_test)"
   ]
  },
  {
   "cell_type": "code",
   "execution_count": 141,
   "metadata": {
    "_cell_guid": "3313c08c-f3a3-4865-bcca-1ae6687219b9",
    "_uuid": "cce26bf4-87ad-4b6b-8146-03b0be7893bb",
    "execution": {
     "iopub.execute_input": "2022-09-06T09:50:16.858326Z",
     "iopub.status.busy": "2022-09-06T09:50:16.857853Z",
     "iopub.status.idle": "2022-09-06T09:50:26.557886Z",
     "shell.execute_reply": "2022-09-06T09:50:26.556671Z",
     "shell.execute_reply.started": "2022-09-06T09:50:16.858288Z"
    },
    "jupyter": {
     "outputs_hidden": false
    }
   },
   "outputs": [
    {
     "name": "stdout",
     "output_type": "stream",
     "text": [
      "[[1. 0.]\n",
      " [1. 0.]\n",
      " [1. 0.]\n",
      " ...\n",
      " [1. 0.]\n",
      " [1. 0.]\n",
      " [1. 0.]]\n"
     ]
    }
   ],
   "source": [
    "#probability of defaulter\n",
    "defaultProba = rf_model.predict_proba(X_test)\n",
    "ypred=rf_model.predict(X_test)\n",
    "print(defaultProba)"
   ]
  },
  {
   "cell_type": "code",
   "execution_count": 155,
   "metadata": {
    "_cell_guid": "d0bba3a4-6d6a-4e36-b29d-fa8f7f3c51ad",
    "_uuid": "3b928543-05ff-4709-8caa-6713cd22b714",
    "execution": {
     "iopub.execute_input": "2022-09-06T10:00:02.724643Z",
     "iopub.status.busy": "2022-09-06T10:00:02.724142Z",
     "iopub.status.idle": "2022-09-06T10:00:02.740003Z",
     "shell.execute_reply": "2022-09-06T10:00:02.738366Z",
     "shell.execute_reply.started": "2022-09-06T10:00:02.724605Z"
    },
    "jupyter": {
     "outputs_hidden": false
    }
   },
   "outputs": [
    {
     "data": {
      "text/html": [
       "<div>\n",
       "<style scoped>\n",
       "    .dataframe tbody tr th:only-of-type {\n",
       "        vertical-align: middle;\n",
       "    }\n",
       "\n",
       "    .dataframe tbody tr th {\n",
       "        vertical-align: top;\n",
       "    }\n",
       "\n",
       "    .dataframe thead th {\n",
       "        text-align: right;\n",
       "    }\n",
       "</style>\n",
       "<table border=\"1\" class=\"dataframe\">\n",
       "  <thead>\n",
       "    <tr style=\"text-align: right;\">\n",
       "      <th></th>\n",
       "      <th>y_test</th>\n",
       "      <th>default_proba</th>\n",
       "      <th>ypred</th>\n",
       "    </tr>\n",
       "  </thead>\n",
       "  <tbody>\n",
       "  </tbody>\n",
       "</table>\n",
       "</div>"
      ],
      "text/plain": [
       "Empty DataFrame\n",
       "Columns: [y_test, default_proba, ypred]\n",
       "Index: []"
      ]
     },
     "execution_count": 155,
     "metadata": {},
     "output_type": "execute_result"
    }
   ],
   "source": [
    "result_df=y_test\n",
    "result_df=pd.DataFrame(columns=['y_test','default_proba','ypred'])\n",
    "#result_df=pd.DataFrame{'y_test','default_proba',,'y_pred'}\n",
    "result_df.head()"
   ]
  },
  {
   "cell_type": "code",
   "execution_count": 163,
   "metadata": {
    "execution": {
     "iopub.execute_input": "2022-09-06T10:02:41.175873Z",
     "iopub.status.busy": "2022-09-06T10:02:41.175059Z",
     "iopub.status.idle": "2022-09-06T10:02:41.190974Z",
     "shell.execute_reply": "2022-09-06T10:02:41.189538Z",
     "shell.execute_reply.started": "2022-09-06T10:02:41.175827Z"
    }
   },
   "outputs": [],
   "source": [
    "result_df['y_test']=y_test\n",
    "result_df['default_proba']=defaultProba\n",
    "result_df['ypred']=ypred"
   ]
  },
  {
   "cell_type": "code",
   "execution_count": 164,
   "metadata": {
    "_cell_guid": "bc3046a1-bfd6-4ecb-98e4-ea2f378c4c93",
    "_uuid": "931a7ef5-a7cf-43e3-a450-de7af92ade80",
    "execution": {
     "iopub.execute_input": "2022-09-06T10:02:51.401027Z",
     "iopub.status.busy": "2022-09-06T10:02:51.400585Z",
     "iopub.status.idle": "2022-09-06T10:02:51.417167Z",
     "shell.execute_reply": "2022-09-06T10:02:51.415737Z",
     "shell.execute_reply.started": "2022-09-06T10:02:51.400979Z"
    },
    "jupyter": {
     "outputs_hidden": false
    }
   },
   "outputs": [
    {
     "data": {
      "text/html": [
       "<div>\n",
       "<style scoped>\n",
       "    .dataframe tbody tr th:only-of-type {\n",
       "        vertical-align: middle;\n",
       "    }\n",
       "\n",
       "    .dataframe tbody tr th {\n",
       "        vertical-align: top;\n",
       "    }\n",
       "\n",
       "    .dataframe thead th {\n",
       "        text-align: right;\n",
       "    }\n",
       "</style>\n",
       "<table border=\"1\" class=\"dataframe\">\n",
       "  <thead>\n",
       "    <tr style=\"text-align: right;\">\n",
       "      <th></th>\n",
       "      <th>y_test</th>\n",
       "      <th>default_proba</th>\n",
       "      <th>ypred</th>\n",
       "    </tr>\n",
       "  </thead>\n",
       "  <tbody>\n",
       "    <tr>\n",
       "      <th>0</th>\n",
       "      <td>0</td>\n",
       "      <td>1.0</td>\n",
       "      <td>0</td>\n",
       "    </tr>\n",
       "    <tr>\n",
       "      <th>1</th>\n",
       "      <td>0</td>\n",
       "      <td>1.0</td>\n",
       "      <td>0</td>\n",
       "    </tr>\n",
       "    <tr>\n",
       "      <th>2</th>\n",
       "      <td>0</td>\n",
       "      <td>1.0</td>\n",
       "      <td>0</td>\n",
       "    </tr>\n",
       "    <tr>\n",
       "      <th>3</th>\n",
       "      <td>0</td>\n",
       "      <td>1.0</td>\n",
       "      <td>0</td>\n",
       "    </tr>\n",
       "    <tr>\n",
       "      <th>4</th>\n",
       "      <td>0</td>\n",
       "      <td>1.0</td>\n",
       "      <td>0</td>\n",
       "    </tr>\n",
       "  </tbody>\n",
       "</table>\n",
       "</div>"
      ],
      "text/plain": [
       "   y_test  default_proba  ypred\n",
       "0       0            1.0      0\n",
       "1       0            1.0      0\n",
       "2       0            1.0      0\n",
       "3       0            1.0      0\n",
       "4       0            1.0      0"
      ]
     },
     "execution_count": 164,
     "metadata": {},
     "output_type": "execute_result"
    }
   ],
   "source": [
    "result_df.head()"
   ]
  },
  {
   "cell_type": "code",
   "execution_count": 165,
   "metadata": {
    "_cell_guid": "e87f1451-7787-4ed2-ae40-6437019f2d59",
    "_uuid": "97c7a95a-8f1d-491f-aa0c-ec60ecffc9eb",
    "execution": {
     "iopub.execute_input": "2022-09-06T10:02:58.688510Z",
     "iopub.status.busy": "2022-09-06T10:02:58.687974Z",
     "iopub.status.idle": "2022-09-06T10:02:59.493578Z",
     "shell.execute_reply": "2022-09-06T10:02:59.492086Z",
     "shell.execute_reply.started": "2022-09-06T10:02:58.688466Z"
    },
    "jupyter": {
     "outputs_hidden": false
    }
   },
   "outputs": [
    {
     "name": "stdout",
     "output_type": "stream",
     "text": [
      "              precision    recall  f1-score   support\n",
      "\n",
      "           0       1.00      1.00      1.00    465453\n",
      "           1       1.00      0.97      0.98       832\n",
      "\n",
      "    accuracy                           1.00    466285\n",
      "   macro avg       1.00      0.98      0.99    466285\n",
      "weighted avg       1.00      1.00      1.00    466285\n",
      "\n"
     ]
    }
   ],
   "source": [
    "from sklearn.metrics import classification_report\n",
    "print(classification_report(y_test,ypred))"
   ]
  },
  {
   "cell_type": "code",
   "execution_count": 166,
   "metadata": {
    "_cell_guid": "643f68fb-7721-4f9a-b2ed-a2de517b02f4",
    "_uuid": "bfe83a34-dd6e-468d-a402-db026e8a80ea",
    "execution": {
     "iopub.execute_input": "2022-09-06T10:03:02.903954Z",
     "iopub.status.busy": "2022-09-06T10:03:02.903470Z",
     "iopub.status.idle": "2022-09-06T10:03:03.331984Z",
     "shell.execute_reply": "2022-09-06T10:03:03.330440Z",
     "shell.execute_reply.started": "2022-09-06T10:03:02.903898Z"
    },
    "jupyter": {
     "outputs_hidden": false
    }
   },
   "outputs": [
    {
     "data": {
      "text/plain": [
       "Text(58.5, 0.5, 'Truth')"
      ]
     },
     "execution_count": 166,
     "metadata": {},
     "output_type": "execute_result"
    },
    {
     "data": {
      "image/png": "[encoded data removed]",
      "text/plain": [
       "<Figure size 720x504 with 2 Axes>"
      ]
     },
     "metadata": {},
     "output_type": "display_data"
    }
   ],
   "source": [
    "from sklearn.metrics import confusion_matrix\n",
    "cm = confusion_matrix(y_test,ypred)\n",
    "plt.figure(figsize = (10, 7))\n",
    "sns.heatmap(cm, annot= True, fmt= 'd')\n",
    "plt.xlabel('Predicted')\n",
    "plt.ylabel('Truth')"
   ]
  },
  {
   "cell_type": "markdown",
   "metadata": {
    "_cell_guid": "b584aac2-f11b-4b8d-b2f0-c4ebffe9311b",
    "_uuid": "6b8329bc-3a8b-4713-a58f-8f0d19c34335",
    "execution": {
     "iopub.execute_input": "2022-09-06T07:10:18.147750Z",
     "iopub.status.busy": "2022-09-06T07:10:18.147215Z",
     "iopub.status.idle": "2022-09-06T07:10:18.157178Z",
     "shell.execute_reply": "2022-09-06T07:10:18.155104Z",
     "shell.execute_reply.started": "2022-09-06T07:10:18.147707Z"
    }
   },
   "source": [
    "<h2 style=\"color:#DC7633;\">Logistic Regresion</h2>"
   ]
  },
  {
   "cell_type": "code",
   "execution_count": 167,
   "metadata": {
    "_cell_guid": "df1efbaf-da18-4057-8e70-439c1694dabf",
    "_uuid": "e7a300e5-6305-4d6a-b202-1842d1b6173c",
    "execution": {
     "iopub.execute_input": "2022-09-06T10:03:19.455479Z",
     "iopub.status.busy": "2022-09-06T10:03:19.454593Z",
     "iopub.status.idle": "2022-09-06T10:03:19.461556Z",
     "shell.execute_reply": "2022-09-06T10:03:19.460370Z",
     "shell.execute_reply.started": "2022-09-06T10:03:19.455426Z"
    },
    "jupyter": {
     "outputs_hidden": false
    }
   },
   "outputs": [],
   "source": [
    "from sklearn.linear_model import LogisticRegression\n",
    "model = LogisticRegression()"
   ]
  },
  {
   "cell_type": "code",
   "execution_count": 168,
   "metadata": {
    "_cell_guid": "e1b4c261-f49b-4863-9be3-66b087264cb0",
    "_uuid": "8f75ea0e-9a22-4ea1-8a14-959eef587940",
    "execution": {
     "iopub.execute_input": "2022-09-06T10:03:19.880455Z",
     "iopub.status.busy": "2022-09-06T10:03:19.879208Z",
     "iopub.status.idle": "2022-09-06T10:03:39.993852Z",
     "shell.execute_reply": "2022-09-06T10:03:39.991826Z",
     "shell.execute_reply.started": "2022-09-06T10:03:19.880409Z"
    },
    "jupyter": {
     "outputs_hidden": false
    }
   },
   "outputs": [
    {
     "data": {
      "text/plain": [
       "LogisticRegression()"
      ]
     },
     "execution_count": 168,
     "metadata": {},
     "output_type": "execute_result"
    }
   ],
   "source": [
    "model.fit(X_train, y_train)"
   ]
  },
  {
   "cell_type": "code",
   "execution_count": 169,
   "metadata": {
    "_cell_guid": "3f018f7e-1dab-4b4d-a3ad-d327d4f69ed0",
    "_uuid": "7888e1c1-14ad-446f-95c7-f023dfea1703",
    "execution": {
     "iopub.execute_input": "2022-09-06T10:03:40.006639Z",
     "iopub.status.busy": "2022-09-06T10:03:40.004989Z",
     "iopub.status.idle": "2022-09-06T10:03:40.344988Z",
     "shell.execute_reply": "2022-09-06T10:03:40.343298Z",
     "shell.execute_reply.started": "2022-09-06T10:03:40.006549Z"
    },
    "jupyter": {
     "outputs_hidden": false
    }
   },
   "outputs": [
    {
     "data": {
      "text/plain": [
       "array([0, 0, 0, ..., 0, 0, 0])"
      ]
     },
     "execution_count": 169,
     "metadata": {},
     "output_type": "execute_result"
    }
   ],
   "source": [
    "model.predict(X_test)"
   ]
  },
  {
   "cell_type": "code",
   "execution_count": 170,
   "metadata": {
    "_cell_guid": "f6f50c48-5958-454f-aad1-10773d19d8ac",
    "_uuid": "59b14a34-a29a-4f36-b233-7a2407a6635e",
    "execution": {
     "iopub.execute_input": "2022-09-06T10:03:40.348743Z",
     "iopub.status.busy": "2022-09-06T10:03:40.347692Z",
     "iopub.status.idle": "2022-09-06T10:03:40.623560Z",
     "shell.execute_reply": "2022-09-06T10:03:40.621891Z",
     "shell.execute_reply.started": "2022-09-06T10:03:40.348675Z"
    },
    "jupyter": {
     "outputs_hidden": false
    }
   },
   "outputs": [
    {
     "data": {
      "text/plain": [
       "array([[9.99577023e-01, 4.22976889e-04],\n",
       "       [9.97479926e-01, 2.52007362e-03],\n",
       "       [9.99296158e-01, 7.03841732e-04],\n",
       "       ...,\n",
       "       [9.98556893e-01, 1.44310653e-03],\n",
       "       [9.96231590e-01, 3.76841005e-03],\n",
       "       [9.99159906e-01, 8.40093605e-04]])"
      ]
     },
     "execution_count": 170,
     "metadata": {},
     "output_type": "execute_result"
    }
   ],
   "source": [
    "model.predict_proba(X_test)"
   ]
  },
  {
   "cell_type": "code",
   "execution_count": 171,
   "metadata": {
    "_cell_guid": "f22d2170-3516-4822-8e71-0010d7671f88",
    "_uuid": "53b099e0-dca5-456c-84cd-4872b220e88a",
    "execution": {
     "iopub.execute_input": "2022-09-06T10:03:40.638416Z",
     "iopub.status.busy": "2022-09-06T10:03:40.633634Z",
     "iopub.status.idle": "2022-09-06T10:03:40.971175Z",
     "shell.execute_reply": "2022-09-06T10:03:40.969441Z",
     "shell.execute_reply.started": "2022-09-06T10:03:40.638315Z"
    },
    "jupyter": {
     "outputs_hidden": false
    }
   },
   "outputs": [
    {
     "data": {
      "text/plain": [
       "0.9982156835411818"
      ]
     },
     "execution_count": 171,
     "metadata": {},
     "output_type": "execute_result"
    }
   ],
   "source": [
    "model.score(X_test,y_test)"
   ]
  },
  {
   "cell_type": "markdown",
   "metadata": {
    "_cell_guid": "6d64a948-2185-446c-a650-da66d4c20779",
    "_uuid": "11463868-1a88-493e-8a4d-d52d487d3e78",
    "execution": {
     "iopub.execute_input": "2022-09-06T07:09:08.467449Z",
     "iopub.status.busy": "2022-09-06T07:09:08.466917Z",
     "iopub.status.idle": "2022-09-06T07:09:08.474884Z",
     "shell.execute_reply": "2022-09-06T07:09:08.473365Z",
     "shell.execute_reply.started": "2022-09-06T07:09:08.467405Z"
    }
   },
   "source": [
    "<h2 style=\"color:#DC7633;\">xgboost</h2>"
   ]
  },
  {
   "cell_type": "code",
   "execution_count": 172,
   "metadata": {
    "_cell_guid": "5b1e23bf-9bb6-40ba-b7dc-959123e27e6b",
    "_uuid": "7000cc77-0bb4-47df-b428-6b75e3c4f6f0",
    "execution": {
     "iopub.execute_input": "2022-09-06T10:03:40.986418Z",
     "iopub.status.busy": "2022-09-06T10:03:40.981143Z",
     "iopub.status.idle": "2022-09-06T10:03:41.031176Z",
     "shell.execute_reply": "2022-09-06T10:03:41.029917Z",
     "shell.execute_reply.started": "2022-09-06T10:03:40.986315Z"
    },
    "jupyter": {
     "outputs_hidden": false
    }
   },
   "outputs": [],
   "source": [
    "from numpy import loadtxt\n",
    "from xgboost import XGBClassifier\n",
    "from sklearn.model_selection import train_test_split\n",
    "from sklearn.metrics import accuracy_score"
   ]
  },
  {
   "cell_type": "code",
   "execution_count": 173,
   "metadata": {
    "_cell_guid": "c4b2297d-2a22-4c97-b9ab-c684cc65db64",
    "_uuid": "0f4f046c-5c71-4082-87bb-f2b507e2a7fa",
    "execution": {
     "iopub.execute_input": "2022-09-06T10:03:41.034011Z",
     "iopub.status.busy": "2022-09-06T10:03:41.033453Z",
     "iopub.status.idle": "2022-09-06T10:06:04.297438Z",
     "shell.execute_reply": "2022-09-06T10:06:04.295792Z",
     "shell.execute_reply.started": "2022-09-06T10:03:41.033957Z"
    },
    "jupyter": {
     "outputs_hidden": false
    }
   },
   "outputs": [
    {
     "data": {
      "text/plain": [
       "XGBClassifier(base_score=0.5, booster='gbtree', callbacks=None,\n",
       "              colsample_bylevel=1, colsample_bynode=1, colsample_bytree=1,\n",
       "              early_stopping_rounds=None, enable_categorical=False,\n",
       "              eval_metric=None, gamma=0, gpu_id=-1, grow_policy='depthwise',\n",
       "              importance_type=None, interaction_constraints='',\n",
       "              learning_rate=0.300000012, max_bin=256, max_cat_to_onehot=4,\n",
       "              max_delta_step=0, max_depth=6, max_leaves=0, min_child_weight=1,\n",
       "              missing=nan, monotone_constraints='()', n_estimators=100,\n",
       "              n_jobs=0, num_parallel_tree=1, predictor='auto', random_state=0,\n",
       "              reg_alpha=0, reg_lambda=1, ...)"
      ]
     },
     "execution_count": 173,
     "metadata": {},
     "output_type": "execute_result"
    }
   ],
   "source": [
    "model = XGBClassifier()\n",
    "model.fit(X_train, y_train)"
   ]
  },
  {
   "cell_type": "code",
   "execution_count": 176,
   "metadata": {
    "_cell_guid": "614a13b4-1026-43d1-9c77-ec0dccf2b0db",
    "_uuid": "5da8483f-dfc6-49aa-93c0-b95e470ea3f8",
    "execution": {
     "iopub.execute_input": "2022-09-06T10:07:33.775115Z",
     "iopub.status.busy": "2022-09-06T10:07:33.774552Z",
     "iopub.status.idle": "2022-09-06T10:07:35.434161Z",
     "shell.execute_reply": "2022-09-06T10:07:35.432664Z",
     "shell.execute_reply.started": "2022-09-06T10:07:33.775071Z"
    },
    "jupyter": {
     "outputs_hidden": false
    }
   },
   "outputs": [],
   "source": [
    "# make predictions for test data\n",
    "y_pred = model.predict(X_test)\n",
    "predictions = [round(value) for value in y_pred]"
   ]
  },
  {
   "cell_type": "code",
   "execution_count": 177,
   "metadata": {
    "_cell_guid": "cdf41781-e7a5-4454-8dbd-a38f4d28f3e8",
    "_uuid": "ae012367-1432-4804-b015-60d8c9dff716",
    "execution": {
     "iopub.execute_input": "2022-09-06T10:07:36.134334Z",
     "iopub.status.busy": "2022-09-06T10:07:36.133854Z",
     "iopub.status.idle": "2022-09-06T10:07:36.299976Z",
     "shell.execute_reply": "2022-09-06T10:07:36.298444Z",
     "shell.execute_reply.started": "2022-09-06T10:07:36.134292Z"
    },
    "jupyter": {
     "outputs_hidden": false
    }
   },
   "outputs": [
    {
     "name": "stdout",
     "output_type": "stream",
     "text": [
      "Accuracy: 99.87%\n"
     ]
    }
   ],
   "source": [
    "# evaluate predictions\n",
    "accuracy = accuracy_score(y_test, predictions)\n",
    "print(\"Accuracy: %.2f%%\" % (accuracy * 100.0))"
   ]
  },
  {
   "cell_type": "markdown",
   "metadata": {
    "_cell_guid": "03d53977-d992-4b93-8fbc-4f58fb9b2240",
    "_uuid": "220f85c6-7cb3-4d27-a225-5567b6d45e5b",
    "execution": {
     "iopub.execute_input": "2022-08-31T17:36:15.748723Z",
     "iopub.status.busy": "2022-08-31T17:36:15.747608Z",
     "iopub.status.idle": "2022-08-31T17:36:15.758419Z",
     "shell.execute_reply": "2022-08-31T17:36:15.757005Z",
     "shell.execute_reply.started": "2022-08-31T17:36:15.748593Z"
    }
   },
   "source": [
    "<div style=\"color:white;\n",
    "           display:fill;\n",
    "           background-color:#29285D;\n",
    "           padding: 10px;\n",
    "           font-family:Verdana;\n",
    "           letter-spacing:0.5px\">\n",
    "    <h3 style=\"color:white;padding-left:20px\"><b>Interface 👀</b></h3>\n",
    "       <p style=\"color:white;font-size:110%;padding-left:50px\">\n",
    "         So here we can see all the model are performed very well but we got highest accuracy almost 100% from Random Forest Algorithm. we can performed others algorithms also but we got the higest accuracy with this model so stopped here.  \n",
    "</p>\n",
    " </div>"
   ]
  },
  {
   "cell_type": "code",
   "execution_count": null,
   "metadata": {
    "_cell_guid": "e8606e81-07f4-4967-a120-7a7f2c108e6b",
    "_uuid": "8d1951a1-54eb-48c8-88cf-a27fac71cba8",
    "jupyter": {
     "outputs_hidden": false
    }
   },
   "outputs": [],
   "source": []
  },
  {
   "cell_type": "code",
   "execution_count": null,
   "metadata": {
    "_cell_guid": "a1961167-91f0-4410-a4a1-cdff12ca5c80",
    "_uuid": "9c879250-5c47-4ea5-8146-4f8a6c13f0af",
    "jupyter": {
     "outputs_hidden": false
    }
   },
   "outputs": [],
   "source": []
  },
  {
   "cell_type": "code",
   "execution_count": null,
   "metadata": {
    "_cell_guid": "51610e9b-baaf-4cf3-aacc-e58b8c3a7204",
    "_uuid": "6668a0b3-7a6a-4e81-8d78-780ab49643b6",
    "jupyter": {
     "outputs_hidden": false
    }
   },
   "outputs": [],
   "source": []
  },
  {
   "cell_type": "code",
   "execution_count": null,
   "metadata": {
    "_cell_guid": "0f13fd11-487f-43b0-bd22-f67afb488d09",
    "_uuid": "5d75e795-be3e-410f-a43a-71a1d363ec90",
    "jupyter": {
     "outputs_hidden": false
    }
   },
   "outputs": [],
   "source": []
  },
  {
   "cell_type": "code",
   "execution_count": null,
   "metadata": {
    "_cell_guid": "fc1705fe-d0cd-4509-a47e-d05a28bfdbd3",
    "_uuid": "76964b26-6aef-40e8-9991-1c294334d5be",
    "jupyter": {
     "outputs_hidden": false
    }
   },
   "outputs": [],
   "source": []
  },
  {
   "cell_type": "code",
   "execution_count": null,
   "metadata": {
    "_cell_guid": "edc5550c-f9a7-4694-8f70-1c4b0a9fa9a5",
    "_uuid": "a9c2dea9-fd6d-4247-919c-b1a12600f835",
    "jupyter": {
     "outputs_hidden": false
    }
   },
   "outputs": [],
   "source": []
  },
  {
   "cell_type": "code",
   "execution_count": null,
   "metadata": {
    "_cell_guid": "53bbae88-6896-4ffc-94aa-6c8e8aa90a5d",
    "_uuid": "142280e5-dfee-46be-b984-bdd5ff96242b",
    "jupyter": {
     "outputs_hidden": false
    }
   },
   "outputs": [],
   "source": []
  },
  {
   "cell_type": "code",
   "execution_count": null,
   "metadata": {
    "_cell_guid": "bf24f8fa-0c54-410d-abe0-fa774bab8b4b",
    "_uuid": "7e3e34ef-1af3-46dc-ba76-a28a031cec68",
    "jupyter": {
     "outputs_hidden": false
    }
   },
   "outputs": [],
   "source": []
  },
  {
   "cell_type": "code",
   "execution_count": null,
   "metadata": {
    "_cell_guid": "8a9aea8d-a610-4629-96a2-0cbaf2722991",
    "_uuid": "0ade8b8a-9128-4d9a-bbf8-eca8782571c1",
    "jupyter": {
     "outputs_hidden": false
    }
   },
   "outputs": [],
   "source": []
  },
  {
   "cell_type": "code",
   "execution_count": null,
   "metadata": {
    "_cell_guid": "427127c8-4e64-4be7-b104-2fbde4d10352",
    "_uuid": "8889a661-6868-4386-a617-71be59b3a733",
    "jupyter": {
     "outputs_hidden": false
    }
   },
   "outputs": [],
   "source": []
  }
 ],
 "metadata": {
  "kernelspec": {
   "display_name": "Python 3 (ipykernel)",
   "language": "python",
   "name": "python3"
  },
  "language_info": {
   "codemirror_mode": {
    "name": "ipython",
    "version": 3
   },
   "file_extension": ".py",
   "mimetype": "text/x-python",
   "name": "python",
   "nbconvert_exporter": "python",
   "pygments_lexer": "ipython3",
   "version": "3.9.7"
  }
 },
 "nbformat": 4,
 "nbformat_minor": 4
}
