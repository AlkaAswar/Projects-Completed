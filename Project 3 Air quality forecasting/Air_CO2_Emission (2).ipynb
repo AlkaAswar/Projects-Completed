{
  "cells": [
    {
      "cell_type": "markdown",
      "metadata": {
        "id": "cEPsYThCiMdO"
      },
      "source": [
        "<p style=\"font-family:verdana;color:#29285D;font-size:200%;text-align:center\"><b>🛒\n",
        "    Air Quality forecasting(CO2 emissions)  🛒<br>\n",
        "    </p> \n",
        "<p style=\"font-family:verdana;text-align:center\">***************</p>\n"
      ]
    },
    {
      "cell_type": "markdown",
      "metadata": {
        "id": "xqHogm1FiMdX"
      },
      "source": [
        "\n",
        "<h2 style=\"background-color:green;font-family:verdana;color:white;font-size:100%;text-align:center;border-radius:10px 10px;letter-spacing:0.5px;padding: 10px\"> Step 1 : Understand The Business Problem </h2> "
      ]
    },
    {
      "cell_type": "markdown",
      "metadata": {
        "id": "2ot95uUPiMdY"
      },
      "source": [
        "<div style=\"color:white;\n",
        "           display:fill;\n",
        "           background-color:#29285D;\n",
        "           padding: 10px;\n",
        "           font-family:Verdana;\n",
        "           letter-spacing:0.5px\">\n",
        "    <h3 style=\"color:white;padding-left:20px\"><b>Business Statement 👀</b></h3>\n",
        "       <p style=\"color:white;font-size:110%;padding-left:50px\">\n",
        "          To forecast Co2 levels for an organization so that the organization can follow government norms\n",
        "with respect to Co2 emission levels.\n",
        "        </p>\n",
        "    </div>"
      ]
    },
    {
      "cell_type": "markdown",
      "metadata": {
        "id": "D4yJx6TPiMda"
      },
      "source": [
        " <h2 style=\"background-color:green;font-family:verdana;color:white;font-size:100%;text-align:center;border-radius:10px 10px;letter-spacing:0.5px;padding: 10px\"> Step 2 : Load The Data </h2> "
      ]
    },
    {
      "cell_type": "code",
      "execution_count": 1,
      "metadata": {
        "id": "mJ1dDDwiiMdb"
      },
      "outputs": [],
      "source": [
        "#Importing libraries\n",
        "import warnings\n",
        "import numpy as np\n",
        "\n",
        "from sklearn.linear_model import LinearRegression\n",
        "from sklearn.metrics import mean_squared_error, mean_absolute_error\n",
        "\n",
        "from statsmodels.tsa.arima.model import ARIMA\n",
        "from statsmodels.tsa.stattools import adfuller, kpss \n",
        "\n",
        "import pandas as pd\n",
        "from pandas import read_csv\n",
        "from matplotlib import pyplot as plt\n",
        "\n",
        "from matplotlib import pyplot# Import libraries\n",
        "from pandas import read_csv\n",
        "from matplotlib import pyplot\n",
        "from numpy import sqrt\n",
        "import warnings\n",
        "import itertools\n",
        "import pandas as pd\n",
        "import numpy as np\n",
        "import matplotlib.pyplot as plt\n",
        "import statsmodels.api as sm\n",
        "import warnings\n",
        "warnings.filterwarnings(\"ignore\")"
      ]
    },
    {
      "cell_type": "code",
      "execution_count": 2,
      "metadata": {
        "colab": {
          "base_uri": "https://localhost:8080/",
          "height": 206
        },
        "id": "Dw_fhexXiMdd",
        "outputId": "0939c7c4-6458-4441-c8f0-0d049fd2b90a"
      },
      "outputs": [
        {
          "output_type": "execute_result",
          "data": {
            "text/plain": [
              "   Year      CO2\n",
              "0  1800  0.00568\n",
              "1  1801  0.00561\n",
              "2  1802  0.00555\n",
              "3  1803  0.00548\n",
              "4  1804  0.00542"
            ],
            "text/html": [
              "\n",
              "  <div id=\"df-2ceebde8-7153-4958-9d01-4723fa23309c\">\n",
              "    <div class=\"colab-df-container\">\n",
              "      <div>\n",
              "<style scoped>\n",
              "    .dataframe tbody tr th:only-of-type {\n",
              "        vertical-align: middle;\n",
              "    }\n",
              "\n",
              "    .dataframe tbody tr th {\n",
              "        vertical-align: top;\n",
              "    }\n",
              "\n",
              "    .dataframe thead th {\n",
              "        text-align: right;\n",
              "    }\n",
              "</style>\n",
              "<table border=\"1\" class=\"dataframe\">\n",
              "  <thead>\n",
              "    <tr style=\"text-align: right;\">\n",
              "      <th></th>\n",
              "      <th>Year</th>\n",
              "      <th>CO2</th>\n",
              "    </tr>\n",
              "  </thead>\n",
              "  <tbody>\n",
              "    <tr>\n",
              "      <th>0</th>\n",
              "      <td>1800</td>\n",
              "      <td>0.00568</td>\n",
              "    </tr>\n",
              "    <tr>\n",
              "      <th>1</th>\n",
              "      <td>1801</td>\n",
              "      <td>0.00561</td>\n",
              "    </tr>\n",
              "    <tr>\n",
              "      <th>2</th>\n",
              "      <td>1802</td>\n",
              "      <td>0.00555</td>\n",
              "    </tr>\n",
              "    <tr>\n",
              "      <th>3</th>\n",
              "      <td>1803</td>\n",
              "      <td>0.00548</td>\n",
              "    </tr>\n",
              "    <tr>\n",
              "      <th>4</th>\n",
              "      <td>1804</td>\n",
              "      <td>0.00542</td>\n",
              "    </tr>\n",
              "  </tbody>\n",
              "</table>\n",
              "</div>\n",
              "      <button class=\"colab-df-convert\" onclick=\"convertToInteractive('df-2ceebde8-7153-4958-9d01-4723fa23309c')\"\n",
              "              title=\"Convert this dataframe to an interactive table.\"\n",
              "              style=\"display:none;\">\n",
              "        \n",
              "  <svg xmlns=\"http://www.w3.org/2000/svg\" height=\"24px\"viewBox=\"0 0 24 24\"\n",
              "       width=\"24px\">\n",
              "    <path d=\"M0 0h24v24H0V0z\" fill=\"none\"/>\n",
              "    <path d=\"M18.56 5.44l.94 2.06.94-2.06 2.06-.94-2.06-.94-.94-2.06-.94 2.06-2.06.94zm-11 1L8.5 8.5l.94-2.06 2.06-.94-2.06-.94L8.5 2.5l-.94 2.06-2.06.94zm10 10l.94 2.06.94-2.06 2.06-.94-2.06-.94-.94-2.06-.94 2.06-2.06.94z\"/><path d=\"M17.41 7.96l-1.37-1.37c-.4-.4-.92-.59-1.43-.59-.52 0-1.04.2-1.43.59L10.3 9.45l-7.72 7.72c-.78.78-.78 2.05 0 2.83L4 21.41c.39.39.9.59 1.41.59.51 0 1.02-.2 1.41-.59l7.78-7.78 2.81-2.81c.8-.78.8-2.07 0-2.86zM5.41 20L4 18.59l7.72-7.72 1.47 1.35L5.41 20z\"/>\n",
              "  </svg>\n",
              "      </button>\n",
              "      \n",
              "  <style>\n",
              "    .colab-df-container {\n",
              "      display:flex;\n",
              "      flex-wrap:wrap;\n",
              "      gap: 12px;\n",
              "    }\n",
              "\n",
              "    .colab-df-convert {\n",
              "      background-color: #E8F0FE;\n",
              "      border: none;\n",
              "      border-radius: 50%;\n",
              "      cursor: pointer;\n",
              "      display: none;\n",
              "      fill: #1967D2;\n",
              "      height: 32px;\n",
              "      padding: 0 0 0 0;\n",
              "      width: 32px;\n",
              "    }\n",
              "\n",
              "    .colab-df-convert:hover {\n",
              "      background-color: #E2EBFA;\n",
              "      box-shadow: 0px 1px 2px rgba(60, 64, 67, 0.3), 0px 1px 3px 1px rgba(60, 64, 67, 0.15);\n",
              "      fill: #174EA6;\n",
              "    }\n",
              "\n",
              "    [theme=dark] .colab-df-convert {\n",
              "      background-color: #3B4455;\n",
              "      fill: #D2E3FC;\n",
              "    }\n",
              "\n",
              "    [theme=dark] .colab-df-convert:hover {\n",
              "      background-color: #434B5C;\n",
              "      box-shadow: 0px 1px 3px 1px rgba(0, 0, 0, 0.15);\n",
              "      filter: drop-shadow(0px 1px 2px rgba(0, 0, 0, 0.3));\n",
              "      fill: #FFFFFF;\n",
              "    }\n",
              "  </style>\n",
              "\n",
              "      <script>\n",
              "        const buttonEl =\n",
              "          document.querySelector('#df-2ceebde8-7153-4958-9d01-4723fa23309c button.colab-df-convert');\n",
              "        buttonEl.style.display =\n",
              "          google.colab.kernel.accessAllowed ? 'block' : 'none';\n",
              "\n",
              "        async function convertToInteractive(key) {\n",
              "          const element = document.querySelector('#df-2ceebde8-7153-4958-9d01-4723fa23309c');\n",
              "          const dataTable =\n",
              "            await google.colab.kernel.invokeFunction('convertToInteractive',\n",
              "                                                     [key], {});\n",
              "          if (!dataTable) return;\n",
              "\n",
              "          const docLinkHtml = 'Like what you see? Visit the ' +\n",
              "            '<a target=\"_blank\" href=https://colab.research.google.com/notebooks/data_table.ipynb>data table notebook</a>'\n",
              "            + ' to learn more about interactive tables.';\n",
              "          element.innerHTML = '';\n",
              "          dataTable['output_type'] = 'display_data';\n",
              "          await google.colab.output.renderOutput(dataTable, element);\n",
              "          const docLink = document.createElement('div');\n",
              "          docLink.innerHTML = docLinkHtml;\n",
              "          element.appendChild(docLink);\n",
              "        }\n",
              "      </script>\n",
              "    </div>\n",
              "  </div>\n",
              "  "
            ]
          },
          "metadata": {},
          "execution_count": 2
        }
      ],
      "source": [
        "#Import the data\n",
        "data = pd.read_csv('CO2 dataset.csv')\n",
        "data.head()                   # will show 1st 5 rows only"
      ]
    },
    {
      "cell_type": "markdown",
      "metadata": {
        "id": "KB1FDCEOiMde"
      },
      "source": [
        "<h2 style=\"background-color:green;font-family:verdana;color:white;font-size:100%;text-align:center;border-radius:10px 10px;letter-spacing:0.5px;padding: 10px\"> Step 3: EDA and Visualization </h2> "
      ]
    },
    {
      "cell_type": "code",
      "execution_count": 3,
      "metadata": {
        "colab": {
          "base_uri": "https://localhost:8080/"
        },
        "id": "8FSXIpmdiMdf",
        "outputId": "8907facc-42a3-4978-8332-81e05d6ee912"
      },
      "outputs": [
        {
          "output_type": "execute_result",
          "data": {
            "text/plain": [
              "(215, 2)"
            ]
          },
          "metadata": {},
          "execution_count": 3
        }
      ],
      "source": [
        "data=data.loc[:214]\n",
        "data.shape  # will show rows and columns"
      ]
    },
    {
      "cell_type": "code",
      "execution_count": 4,
      "metadata": {
        "colab": {
          "base_uri": "https://localhost:8080/"
        },
        "id": "CgQ0NFBdiMdg",
        "outputId": "ebf5766c-e35a-4ee2-d6f6-353d16fa290a"
      },
      "outputs": [
        {
          "output_type": "execute_result",
          "data": {
            "text/plain": [
              "Year    0\n",
              "CO2     0\n",
              "dtype: int64"
            ]
          },
          "metadata": {},
          "execution_count": 4
        }
      ],
      "source": [
        "\n",
        "data.isnull().sum()          # This functin will show the total null values in our data"
      ]
    },
    {
      "cell_type": "code",
      "execution_count": 5,
      "metadata": {
        "colab": {
          "base_uri": "https://localhost:8080/"
        },
        "id": "GHGCFoWqiMdh",
        "outputId": "efc34454-e1a0-45f3-f953-d050b078c5cd"
      },
      "outputs": [
        {
          "output_type": "stream",
          "name": "stdout",
          "text": [
            "<class 'pandas.core.frame.DataFrame'>\n",
            "RangeIndex: 215 entries, 0 to 214\n",
            "Data columns (total 2 columns):\n",
            " #   Column  Non-Null Count  Dtype  \n",
            "---  ------  --------------  -----  \n",
            " 0   Year    215 non-null    int64  \n",
            " 1   CO2     215 non-null    float64\n",
            "dtypes: float64(1), int64(1)\n",
            "memory usage: 3.5 KB\n"
          ]
        }
      ],
      "source": [
        "data.info()             # this function will show the all information about the data"
      ]
    },
    {
      "cell_type": "code",
      "execution_count": 6,
      "metadata": {
        "colab": {
          "base_uri": "https://localhost:8080/",
          "height": 300
        },
        "id": "S3EBThs4iMdi",
        "outputId": "975ae5f4-ad1f-45e3-dd72-284a6ccf5bec"
      },
      "outputs": [
        {
          "output_type": "execute_result",
          "data": {
            "text/plain": [
              "              Year         CO2\n",
              "count   215.000000  215.000000\n",
              "mean   1907.000000    6.741970\n",
              "std      62.209324    6.522437\n",
              "min    1800.000000    0.001750\n",
              "25%    1853.500000    0.041050\n",
              "50%    1907.000000    6.390000\n",
              "75%    1960.500000   11.500000\n",
              "max    2014.000000   18.200000"
            ],
            "text/html": [
              "\n",
              "  <div id=\"df-37fac103-e201-4a74-b5bb-daaa65db4559\">\n",
              "    <div class=\"colab-df-container\">\n",
              "      <div>\n",
              "<style scoped>\n",
              "    .dataframe tbody tr th:only-of-type {\n",
              "        vertical-align: middle;\n",
              "    }\n",
              "\n",
              "    .dataframe tbody tr th {\n",
              "        vertical-align: top;\n",
              "    }\n",
              "\n",
              "    .dataframe thead th {\n",
              "        text-align: right;\n",
              "    }\n",
              "</style>\n",
              "<table border=\"1\" class=\"dataframe\">\n",
              "  <thead>\n",
              "    <tr style=\"text-align: right;\">\n",
              "      <th></th>\n",
              "      <th>Year</th>\n",
              "      <th>CO2</th>\n",
              "    </tr>\n",
              "  </thead>\n",
              "  <tbody>\n",
              "    <tr>\n",
              "      <th>count</th>\n",
              "      <td>215.000000</td>\n",
              "      <td>215.000000</td>\n",
              "    </tr>\n",
              "    <tr>\n",
              "      <th>mean</th>\n",
              "      <td>1907.000000</td>\n",
              "      <td>6.741970</td>\n",
              "    </tr>\n",
              "    <tr>\n",
              "      <th>std</th>\n",
              "      <td>62.209324</td>\n",
              "      <td>6.522437</td>\n",
              "    </tr>\n",
              "    <tr>\n",
              "      <th>min</th>\n",
              "      <td>1800.000000</td>\n",
              "      <td>0.001750</td>\n",
              "    </tr>\n",
              "    <tr>\n",
              "      <th>25%</th>\n",
              "      <td>1853.500000</td>\n",
              "      <td>0.041050</td>\n",
              "    </tr>\n",
              "    <tr>\n",
              "      <th>50%</th>\n",
              "      <td>1907.000000</td>\n",
              "      <td>6.390000</td>\n",
              "    </tr>\n",
              "    <tr>\n",
              "      <th>75%</th>\n",
              "      <td>1960.500000</td>\n",
              "      <td>11.500000</td>\n",
              "    </tr>\n",
              "    <tr>\n",
              "      <th>max</th>\n",
              "      <td>2014.000000</td>\n",
              "      <td>18.200000</td>\n",
              "    </tr>\n",
              "  </tbody>\n",
              "</table>\n",
              "</div>\n",
              "      <button class=\"colab-df-convert\" onclick=\"convertToInteractive('df-37fac103-e201-4a74-b5bb-daaa65db4559')\"\n",
              "              title=\"Convert this dataframe to an interactive table.\"\n",
              "              style=\"display:none;\">\n",
              "        \n",
              "  <svg xmlns=\"http://www.w3.org/2000/svg\" height=\"24px\"viewBox=\"0 0 24 24\"\n",
              "       width=\"24px\">\n",
              "    <path d=\"M0 0h24v24H0V0z\" fill=\"none\"/>\n",
              "    <path d=\"M18.56 5.44l.94 2.06.94-2.06 2.06-.94-2.06-.94-.94-2.06-.94 2.06-2.06.94zm-11 1L8.5 8.5l.94-2.06 2.06-.94-2.06-.94L8.5 2.5l-.94 2.06-2.06.94zm10 10l.94 2.06.94-2.06 2.06-.94-2.06-.94-.94-2.06-.94 2.06-2.06.94z\"/><path d=\"M17.41 7.96l-1.37-1.37c-.4-.4-.92-.59-1.43-.59-.52 0-1.04.2-1.43.59L10.3 9.45l-7.72 7.72c-.78.78-.78 2.05 0 2.83L4 21.41c.39.39.9.59 1.41.59.51 0 1.02-.2 1.41-.59l7.78-7.78 2.81-2.81c.8-.78.8-2.07 0-2.86zM5.41 20L4 18.59l7.72-7.72 1.47 1.35L5.41 20z\"/>\n",
              "  </svg>\n",
              "      </button>\n",
              "      \n",
              "  <style>\n",
              "    .colab-df-container {\n",
              "      display:flex;\n",
              "      flex-wrap:wrap;\n",
              "      gap: 12px;\n",
              "    }\n",
              "\n",
              "    .colab-df-convert {\n",
              "      background-color: #E8F0FE;\n",
              "      border: none;\n",
              "      border-radius: 50%;\n",
              "      cursor: pointer;\n",
              "      display: none;\n",
              "      fill: #1967D2;\n",
              "      height: 32px;\n",
              "      padding: 0 0 0 0;\n",
              "      width: 32px;\n",
              "    }\n",
              "\n",
              "    .colab-df-convert:hover {\n",
              "      background-color: #E2EBFA;\n",
              "      box-shadow: 0px 1px 2px rgba(60, 64, 67, 0.3), 0px 1px 3px 1px rgba(60, 64, 67, 0.15);\n",
              "      fill: #174EA6;\n",
              "    }\n",
              "\n",
              "    [theme=dark] .colab-df-convert {\n",
              "      background-color: #3B4455;\n",
              "      fill: #D2E3FC;\n",
              "    }\n",
              "\n",
              "    [theme=dark] .colab-df-convert:hover {\n",
              "      background-color: #434B5C;\n",
              "      box-shadow: 0px 1px 3px 1px rgba(0, 0, 0, 0.15);\n",
              "      filter: drop-shadow(0px 1px 2px rgba(0, 0, 0, 0.3));\n",
              "      fill: #FFFFFF;\n",
              "    }\n",
              "  </style>\n",
              "\n",
              "      <script>\n",
              "        const buttonEl =\n",
              "          document.querySelector('#df-37fac103-e201-4a74-b5bb-daaa65db4559 button.colab-df-convert');\n",
              "        buttonEl.style.display =\n",
              "          google.colab.kernel.accessAllowed ? 'block' : 'none';\n",
              "\n",
              "        async function convertToInteractive(key) {\n",
              "          const element = document.querySelector('#df-37fac103-e201-4a74-b5bb-daaa65db4559');\n",
              "          const dataTable =\n",
              "            await google.colab.kernel.invokeFunction('convertToInteractive',\n",
              "                                                     [key], {});\n",
              "          if (!dataTable) return;\n",
              "\n",
              "          const docLinkHtml = 'Like what you see? Visit the ' +\n",
              "            '<a target=\"_blank\" href=https://colab.research.google.com/notebooks/data_table.ipynb>data table notebook</a>'\n",
              "            + ' to learn more about interactive tables.';\n",
              "          element.innerHTML = '';\n",
              "          dataTable['output_type'] = 'display_data';\n",
              "          await google.colab.output.renderOutput(dataTable, element);\n",
              "          const docLink = document.createElement('div');\n",
              "          docLink.innerHTML = docLinkHtml;\n",
              "          element.appendChild(docLink);\n",
              "        }\n",
              "      </script>\n",
              "    </div>\n",
              "  </div>\n",
              "  "
            ]
          },
          "metadata": {},
          "execution_count": 6
        }
      ],
      "source": [
        "data.describe()          # This function will describe the data"
      ]
    },
    {
      "cell_type": "code",
      "execution_count": 7,
      "metadata": {
        "colab": {
          "base_uri": "https://localhost:8080/"
        },
        "id": "CZFw0K_WiMdi",
        "outputId": "3c00ae8b-6fec-4ab4-a2c6-78f550a0d3b2"
      },
      "outputs": [
        {
          "output_type": "execute_result",
          "data": {
            "text/plain": [
              "Year    0.000000\n",
              "CO2     0.362736\n",
              "dtype: float64"
            ]
          },
          "metadata": {},
          "execution_count": 7
        }
      ],
      "source": [
        "data.skew()  # positively skewed"
      ]
    },
    {
      "cell_type": "code",
      "execution_count": 8,
      "metadata": {
        "colab": {
          "base_uri": "https://localhost:8080/"
        },
        "id": "EbHYLNQKiMdj",
        "outputId": "6db85eb7-7250-4bae-b12b-069d011f112f"
      },
      "outputs": [
        {
          "output_type": "execute_result",
          "data": {
            "text/plain": [
              "80"
            ]
          },
          "metadata": {},
          "execution_count": 8
        }
      ],
      "source": [
        "len(data[data['CO2']<1]) # 37% CO2 values are less then 1 "
      ]
    },
    {
      "cell_type": "code",
      "execution_count": 9,
      "metadata": {
        "colab": {
          "base_uri": "https://localhost:8080/",
          "height": 81
        },
        "id": "NyCTg5dWiMdk",
        "outputId": "ffe1e96e-1530-4a33-ff79-c9c27821891c"
      },
      "outputs": [
        {
          "output_type": "execute_result",
          "data": {
            "text/plain": [
              "     Year   CO2\n",
              "179  1979  18.2"
            ],
            "text/html": [
              "\n",
              "  <div id=\"df-171072b8-8d50-4e77-8902-9edea223e2c8\">\n",
              "    <div class=\"colab-df-container\">\n",
              "      <div>\n",
              "<style scoped>\n",
              "    .dataframe tbody tr th:only-of-type {\n",
              "        vertical-align: middle;\n",
              "    }\n",
              "\n",
              "    .dataframe tbody tr th {\n",
              "        vertical-align: top;\n",
              "    }\n",
              "\n",
              "    .dataframe thead th {\n",
              "        text-align: right;\n",
              "    }\n",
              "</style>\n",
              "<table border=\"1\" class=\"dataframe\">\n",
              "  <thead>\n",
              "    <tr style=\"text-align: right;\">\n",
              "      <th></th>\n",
              "      <th>Year</th>\n",
              "      <th>CO2</th>\n",
              "    </tr>\n",
              "  </thead>\n",
              "  <tbody>\n",
              "    <tr>\n",
              "      <th>179</th>\n",
              "      <td>1979</td>\n",
              "      <td>18.2</td>\n",
              "    </tr>\n",
              "  </tbody>\n",
              "</table>\n",
              "</div>\n",
              "      <button class=\"colab-df-convert\" onclick=\"convertToInteractive('df-171072b8-8d50-4e77-8902-9edea223e2c8')\"\n",
              "              title=\"Convert this dataframe to an interactive table.\"\n",
              "              style=\"display:none;\">\n",
              "        \n",
              "  <svg xmlns=\"http://www.w3.org/2000/svg\" height=\"24px\"viewBox=\"0 0 24 24\"\n",
              "       width=\"24px\">\n",
              "    <path d=\"M0 0h24v24H0V0z\" fill=\"none\"/>\n",
              "    <path d=\"M18.56 5.44l.94 2.06.94-2.06 2.06-.94-2.06-.94-.94-2.06-.94 2.06-2.06.94zm-11 1L8.5 8.5l.94-2.06 2.06-.94-2.06-.94L8.5 2.5l-.94 2.06-2.06.94zm10 10l.94 2.06.94-2.06 2.06-.94-2.06-.94-.94-2.06-.94 2.06-2.06.94z\"/><path d=\"M17.41 7.96l-1.37-1.37c-.4-.4-.92-.59-1.43-.59-.52 0-1.04.2-1.43.59L10.3 9.45l-7.72 7.72c-.78.78-.78 2.05 0 2.83L4 21.41c.39.39.9.59 1.41.59.51 0 1.02-.2 1.41-.59l7.78-7.78 2.81-2.81c.8-.78.8-2.07 0-2.86zM5.41 20L4 18.59l7.72-7.72 1.47 1.35L5.41 20z\"/>\n",
              "  </svg>\n",
              "      </button>\n",
              "      \n",
              "  <style>\n",
              "    .colab-df-container {\n",
              "      display:flex;\n",
              "      flex-wrap:wrap;\n",
              "      gap: 12px;\n",
              "    }\n",
              "\n",
              "    .colab-df-convert {\n",
              "      background-color: #E8F0FE;\n",
              "      border: none;\n",
              "      border-radius: 50%;\n",
              "      cursor: pointer;\n",
              "      display: none;\n",
              "      fill: #1967D2;\n",
              "      height: 32px;\n",
              "      padding: 0 0 0 0;\n",
              "      width: 32px;\n",
              "    }\n",
              "\n",
              "    .colab-df-convert:hover {\n",
              "      background-color: #E2EBFA;\n",
              "      box-shadow: 0px 1px 2px rgba(60, 64, 67, 0.3), 0px 1px 3px 1px rgba(60, 64, 67, 0.15);\n",
              "      fill: #174EA6;\n",
              "    }\n",
              "\n",
              "    [theme=dark] .colab-df-convert {\n",
              "      background-color: #3B4455;\n",
              "      fill: #D2E3FC;\n",
              "    }\n",
              "\n",
              "    [theme=dark] .colab-df-convert:hover {\n",
              "      background-color: #434B5C;\n",
              "      box-shadow: 0px 1px 3px 1px rgba(0, 0, 0, 0.15);\n",
              "      filter: drop-shadow(0px 1px 2px rgba(0, 0, 0, 0.3));\n",
              "      fill: #FFFFFF;\n",
              "    }\n",
              "  </style>\n",
              "\n",
              "      <script>\n",
              "        const buttonEl =\n",
              "          document.querySelector('#df-171072b8-8d50-4e77-8902-9edea223e2c8 button.colab-df-convert');\n",
              "        buttonEl.style.display =\n",
              "          google.colab.kernel.accessAllowed ? 'block' : 'none';\n",
              "\n",
              "        async function convertToInteractive(key) {\n",
              "          const element = document.querySelector('#df-171072b8-8d50-4e77-8902-9edea223e2c8');\n",
              "          const dataTable =\n",
              "            await google.colab.kernel.invokeFunction('convertToInteractive',\n",
              "                                                     [key], {});\n",
              "          if (!dataTable) return;\n",
              "\n",
              "          const docLinkHtml = 'Like what you see? Visit the ' +\n",
              "            '<a target=\"_blank\" href=https://colab.research.google.com/notebooks/data_table.ipynb>data table notebook</a>'\n",
              "            + ' to learn more about interactive tables.';\n",
              "          element.innerHTML = '';\n",
              "          dataTable['output_type'] = 'display_data';\n",
              "          await google.colab.output.renderOutput(dataTable, element);\n",
              "          const docLink = document.createElement('div');\n",
              "          docLink.innerHTML = docLinkHtml;\n",
              "          element.appendChild(docLink);\n",
              "        }\n",
              "      </script>\n",
              "    </div>\n",
              "  </div>\n",
              "  "
            ]
          },
          "metadata": {},
          "execution_count": 9
        }
      ],
      "source": [
        "data[data['CO2'] == data['CO2'].max()]\n"
      ]
    },
    {
      "cell_type": "code",
      "execution_count": 10,
      "metadata": {
        "colab": {
          "base_uri": "https://localhost:8080/",
          "height": 49
        },
        "id": "DXVLOzppiMdk",
        "outputId": "580dcab8-25b3-42cb-9720-537135481102"
      },
      "outputs": [
        {
          "output_type": "execute_result",
          "data": {
            "text/plain": [
              "Empty DataFrame\n",
              "Columns: [Year, CO2]\n",
              "Index: []"
            ],
            "text/html": [
              "\n",
              "  <div id=\"df-316f13dd-d543-4f60-ba59-d0a97fe75b3d\">\n",
              "    <div class=\"colab-df-container\">\n",
              "      <div>\n",
              "<style scoped>\n",
              "    .dataframe tbody tr th:only-of-type {\n",
              "        vertical-align: middle;\n",
              "    }\n",
              "\n",
              "    .dataframe tbody tr th {\n",
              "        vertical-align: top;\n",
              "    }\n",
              "\n",
              "    .dataframe thead th {\n",
              "        text-align: right;\n",
              "    }\n",
              "</style>\n",
              "<table border=\"1\" class=\"dataframe\">\n",
              "  <thead>\n",
              "    <tr style=\"text-align: right;\">\n",
              "      <th></th>\n",
              "      <th>Year</th>\n",
              "      <th>CO2</th>\n",
              "    </tr>\n",
              "  </thead>\n",
              "  <tbody>\n",
              "  </tbody>\n",
              "</table>\n",
              "</div>\n",
              "      <button class=\"colab-df-convert\" onclick=\"convertToInteractive('df-316f13dd-d543-4f60-ba59-d0a97fe75b3d')\"\n",
              "              title=\"Convert this dataframe to an interactive table.\"\n",
              "              style=\"display:none;\">\n",
              "        \n",
              "  <svg xmlns=\"http://www.w3.org/2000/svg\" height=\"24px\"viewBox=\"0 0 24 24\"\n",
              "       width=\"24px\">\n",
              "    <path d=\"M0 0h24v24H0V0z\" fill=\"none\"/>\n",
              "    <path d=\"M18.56 5.44l.94 2.06.94-2.06 2.06-.94-2.06-.94-.94-2.06-.94 2.06-2.06.94zm-11 1L8.5 8.5l.94-2.06 2.06-.94-2.06-.94L8.5 2.5l-.94 2.06-2.06.94zm10 10l.94 2.06.94-2.06 2.06-.94-2.06-.94-.94-2.06-.94 2.06-2.06.94z\"/><path d=\"M17.41 7.96l-1.37-1.37c-.4-.4-.92-.59-1.43-.59-.52 0-1.04.2-1.43.59L10.3 9.45l-7.72 7.72c-.78.78-.78 2.05 0 2.83L4 21.41c.39.39.9.59 1.41.59.51 0 1.02-.2 1.41-.59l7.78-7.78 2.81-2.81c.8-.78.8-2.07 0-2.86zM5.41 20L4 18.59l7.72-7.72 1.47 1.35L5.41 20z\"/>\n",
              "  </svg>\n",
              "      </button>\n",
              "      \n",
              "  <style>\n",
              "    .colab-df-container {\n",
              "      display:flex;\n",
              "      flex-wrap:wrap;\n",
              "      gap: 12px;\n",
              "    }\n",
              "\n",
              "    .colab-df-convert {\n",
              "      background-color: #E8F0FE;\n",
              "      border: none;\n",
              "      border-radius: 50%;\n",
              "      cursor: pointer;\n",
              "      display: none;\n",
              "      fill: #1967D2;\n",
              "      height: 32px;\n",
              "      padding: 0 0 0 0;\n",
              "      width: 32px;\n",
              "    }\n",
              "\n",
              "    .colab-df-convert:hover {\n",
              "      background-color: #E2EBFA;\n",
              "      box-shadow: 0px 1px 2px rgba(60, 64, 67, 0.3), 0px 1px 3px 1px rgba(60, 64, 67, 0.15);\n",
              "      fill: #174EA6;\n",
              "    }\n",
              "\n",
              "    [theme=dark] .colab-df-convert {\n",
              "      background-color: #3B4455;\n",
              "      fill: #D2E3FC;\n",
              "    }\n",
              "\n",
              "    [theme=dark] .colab-df-convert:hover {\n",
              "      background-color: #434B5C;\n",
              "      box-shadow: 0px 1px 3px 1px rgba(0, 0, 0, 0.15);\n",
              "      filter: drop-shadow(0px 1px 2px rgba(0, 0, 0, 0.3));\n",
              "      fill: #FFFFFF;\n",
              "    }\n",
              "  </style>\n",
              "\n",
              "      <script>\n",
              "        const buttonEl =\n",
              "          document.querySelector('#df-316f13dd-d543-4f60-ba59-d0a97fe75b3d button.colab-df-convert');\n",
              "        buttonEl.style.display =\n",
              "          google.colab.kernel.accessAllowed ? 'block' : 'none';\n",
              "\n",
              "        async function convertToInteractive(key) {\n",
              "          const element = document.querySelector('#df-316f13dd-d543-4f60-ba59-d0a97fe75b3d');\n",
              "          const dataTable =\n",
              "            await google.colab.kernel.invokeFunction('convertToInteractive',\n",
              "                                                     [key], {});\n",
              "          if (!dataTable) return;\n",
              "\n",
              "          const docLinkHtml = 'Like what you see? Visit the ' +\n",
              "            '<a target=\"_blank\" href=https://colab.research.google.com/notebooks/data_table.ipynb>data table notebook</a>'\n",
              "            + ' to learn more about interactive tables.';\n",
              "          element.innerHTML = '';\n",
              "          dataTable['output_type'] = 'display_data';\n",
              "          await google.colab.output.renderOutput(dataTable, element);\n",
              "          const docLink = document.createElement('div');\n",
              "          docLink.innerHTML = docLinkHtml;\n",
              "          element.appendChild(docLink);\n",
              "        }\n",
              "      </script>\n",
              "    </div>\n",
              "  </div>\n",
              "  "
            ]
          },
          "metadata": {},
          "execution_count": 10
        }
      ],
      "source": [
        "data[data.duplicated()]              # No duplicated data present in ur dataset"
      ]
    },
    {
      "cell_type": "code",
      "execution_count": 11,
      "metadata": {
        "colab": {
          "base_uri": "https://localhost:8080/",
          "height": 423
        },
        "id": "VqkoahBLiMdl",
        "outputId": "aae84b27-5fd3-44a4-9a06-c229583c12af"
      },
      "outputs": [
        {
          "output_type": "execute_result",
          "data": {
            "text/plain": [
              "     Year       CO2\n",
              "0    1800   0.00568\n",
              "1    1801   0.00561\n",
              "2    1802   0.00555\n",
              "3    1803   0.00548\n",
              "4    1804   0.00542\n",
              "..    ...       ...\n",
              "210  2010  15.60000\n",
              "211  2011  15.60000\n",
              "212  2012  14.80000\n",
              "213  2013  14.70000\n",
              "214  2014  15.10000\n",
              "\n",
              "[215 rows x 2 columns]"
            ],
            "text/html": [
              "\n",
              "  <div id=\"df-e72213be-29df-4115-ace1-401473a91741\">\n",
              "    <div class=\"colab-df-container\">\n",
              "      <div>\n",
              "<style scoped>\n",
              "    .dataframe tbody tr th:only-of-type {\n",
              "        vertical-align: middle;\n",
              "    }\n",
              "\n",
              "    .dataframe tbody tr th {\n",
              "        vertical-align: top;\n",
              "    }\n",
              "\n",
              "    .dataframe thead th {\n",
              "        text-align: right;\n",
              "    }\n",
              "</style>\n",
              "<table border=\"1\" class=\"dataframe\">\n",
              "  <thead>\n",
              "    <tr style=\"text-align: right;\">\n",
              "      <th></th>\n",
              "      <th>Year</th>\n",
              "      <th>CO2</th>\n",
              "    </tr>\n",
              "  </thead>\n",
              "  <tbody>\n",
              "    <tr>\n",
              "      <th>0</th>\n",
              "      <td>1800</td>\n",
              "      <td>0.00568</td>\n",
              "    </tr>\n",
              "    <tr>\n",
              "      <th>1</th>\n",
              "      <td>1801</td>\n",
              "      <td>0.00561</td>\n",
              "    </tr>\n",
              "    <tr>\n",
              "      <th>2</th>\n",
              "      <td>1802</td>\n",
              "      <td>0.00555</td>\n",
              "    </tr>\n",
              "    <tr>\n",
              "      <th>3</th>\n",
              "      <td>1803</td>\n",
              "      <td>0.00548</td>\n",
              "    </tr>\n",
              "    <tr>\n",
              "      <th>4</th>\n",
              "      <td>1804</td>\n",
              "      <td>0.00542</td>\n",
              "    </tr>\n",
              "    <tr>\n",
              "      <th>...</th>\n",
              "      <td>...</td>\n",
              "      <td>...</td>\n",
              "    </tr>\n",
              "    <tr>\n",
              "      <th>210</th>\n",
              "      <td>2010</td>\n",
              "      <td>15.60000</td>\n",
              "    </tr>\n",
              "    <tr>\n",
              "      <th>211</th>\n",
              "      <td>2011</td>\n",
              "      <td>15.60000</td>\n",
              "    </tr>\n",
              "    <tr>\n",
              "      <th>212</th>\n",
              "      <td>2012</td>\n",
              "      <td>14.80000</td>\n",
              "    </tr>\n",
              "    <tr>\n",
              "      <th>213</th>\n",
              "      <td>2013</td>\n",
              "      <td>14.70000</td>\n",
              "    </tr>\n",
              "    <tr>\n",
              "      <th>214</th>\n",
              "      <td>2014</td>\n",
              "      <td>15.10000</td>\n",
              "    </tr>\n",
              "  </tbody>\n",
              "</table>\n",
              "<p>215 rows × 2 columns</p>\n",
              "</div>\n",
              "      <button class=\"colab-df-convert\" onclick=\"convertToInteractive('df-e72213be-29df-4115-ace1-401473a91741')\"\n",
              "              title=\"Convert this dataframe to an interactive table.\"\n",
              "              style=\"display:none;\">\n",
              "        \n",
              "  <svg xmlns=\"http://www.w3.org/2000/svg\" height=\"24px\"viewBox=\"0 0 24 24\"\n",
              "       width=\"24px\">\n",
              "    <path d=\"M0 0h24v24H0V0z\" fill=\"none\"/>\n",
              "    <path d=\"M18.56 5.44l.94 2.06.94-2.06 2.06-.94-2.06-.94-.94-2.06-.94 2.06-2.06.94zm-11 1L8.5 8.5l.94-2.06 2.06-.94-2.06-.94L8.5 2.5l-.94 2.06-2.06.94zm10 10l.94 2.06.94-2.06 2.06-.94-2.06-.94-.94-2.06-.94 2.06-2.06.94z\"/><path d=\"M17.41 7.96l-1.37-1.37c-.4-.4-.92-.59-1.43-.59-.52 0-1.04.2-1.43.59L10.3 9.45l-7.72 7.72c-.78.78-.78 2.05 0 2.83L4 21.41c.39.39.9.59 1.41.59.51 0 1.02-.2 1.41-.59l7.78-7.78 2.81-2.81c.8-.78.8-2.07 0-2.86zM5.41 20L4 18.59l7.72-7.72 1.47 1.35L5.41 20z\"/>\n",
              "  </svg>\n",
              "      </button>\n",
              "      \n",
              "  <style>\n",
              "    .colab-df-container {\n",
              "      display:flex;\n",
              "      flex-wrap:wrap;\n",
              "      gap: 12px;\n",
              "    }\n",
              "\n",
              "    .colab-df-convert {\n",
              "      background-color: #E8F0FE;\n",
              "      border: none;\n",
              "      border-radius: 50%;\n",
              "      cursor: pointer;\n",
              "      display: none;\n",
              "      fill: #1967D2;\n",
              "      height: 32px;\n",
              "      padding: 0 0 0 0;\n",
              "      width: 32px;\n",
              "    }\n",
              "\n",
              "    .colab-df-convert:hover {\n",
              "      background-color: #E2EBFA;\n",
              "      box-shadow: 0px 1px 2px rgba(60, 64, 67, 0.3), 0px 1px 3px 1px rgba(60, 64, 67, 0.15);\n",
              "      fill: #174EA6;\n",
              "    }\n",
              "\n",
              "    [theme=dark] .colab-df-convert {\n",
              "      background-color: #3B4455;\n",
              "      fill: #D2E3FC;\n",
              "    }\n",
              "\n",
              "    [theme=dark] .colab-df-convert:hover {\n",
              "      background-color: #434B5C;\n",
              "      box-shadow: 0px 1px 3px 1px rgba(0, 0, 0, 0.15);\n",
              "      filter: drop-shadow(0px 1px 2px rgba(0, 0, 0, 0.3));\n",
              "      fill: #FFFFFF;\n",
              "    }\n",
              "  </style>\n",
              "\n",
              "      <script>\n",
              "        const buttonEl =\n",
              "          document.querySelector('#df-e72213be-29df-4115-ace1-401473a91741 button.colab-df-convert');\n",
              "        buttonEl.style.display =\n",
              "          google.colab.kernel.accessAllowed ? 'block' : 'none';\n",
              "\n",
              "        async function convertToInteractive(key) {\n",
              "          const element = document.querySelector('#df-e72213be-29df-4115-ace1-401473a91741');\n",
              "          const dataTable =\n",
              "            await google.colab.kernel.invokeFunction('convertToInteractive',\n",
              "                                                     [key], {});\n",
              "          if (!dataTable) return;\n",
              "\n",
              "          const docLinkHtml = 'Like what you see? Visit the ' +\n",
              "            '<a target=\"_blank\" href=https://colab.research.google.com/notebooks/data_table.ipynb>data table notebook</a>'\n",
              "            + ' to learn more about interactive tables.';\n",
              "          element.innerHTML = '';\n",
              "          dataTable['output_type'] = 'display_data';\n",
              "          await google.colab.output.renderOutput(dataTable, element);\n",
              "          const docLink = document.createElement('div');\n",
              "          docLink.innerHTML = docLinkHtml;\n",
              "          element.appendChild(docLink);\n",
              "        }\n",
              "      </script>\n",
              "    </div>\n",
              "  </div>\n",
              "  "
            ]
          },
          "metadata": {},
          "execution_count": 11
        }
      ],
      "source": [
        "data['Year'] = data['Year'].astype(int)      #convert the year column from float to int\n",
        "data"
      ]
    },
    {
      "cell_type": "markdown",
      "metadata": {
        "id": "OHz3fFh6iMdm"
      },
      "source": [
        "<h2 style=\"color:#DC7633;\">Visualization </h2>\n"
      ]
    },
    {
      "cell_type": "code",
      "execution_count": 12,
      "metadata": {
        "colab": {
          "base_uri": "https://localhost:8080/",
          "height": 237
        },
        "id": "N0tUdMwKiMdm",
        "outputId": "2db2b7de-f711-4f42-e4db-24996ea28f94"
      },
      "outputs": [
        {
          "output_type": "execute_result",
          "data": {
            "text/plain": [
              "                CO2\n",
              "Year               \n",
              "1800-01-01  0.00568\n",
              "1801-01-01  0.00561\n",
              "1802-01-01  0.00555\n",
              "1803-01-01  0.00548\n",
              "1804-01-01  0.00542"
            ],
            "text/html": [
              "\n",
              "  <div id=\"df-11633b70-0dcf-4ee2-9556-f37b066a80b2\">\n",
              "    <div class=\"colab-df-container\">\n",
              "      <div>\n",
              "<style scoped>\n",
              "    .dataframe tbody tr th:only-of-type {\n",
              "        vertical-align: middle;\n",
              "    }\n",
              "\n",
              "    .dataframe tbody tr th {\n",
              "        vertical-align: top;\n",
              "    }\n",
              "\n",
              "    .dataframe thead th {\n",
              "        text-align: right;\n",
              "    }\n",
              "</style>\n",
              "<table border=\"1\" class=\"dataframe\">\n",
              "  <thead>\n",
              "    <tr style=\"text-align: right;\">\n",
              "      <th></th>\n",
              "      <th>CO2</th>\n",
              "    </tr>\n",
              "    <tr>\n",
              "      <th>Year</th>\n",
              "      <th></th>\n",
              "    </tr>\n",
              "  </thead>\n",
              "  <tbody>\n",
              "    <tr>\n",
              "      <th>1800-01-01</th>\n",
              "      <td>0.00568</td>\n",
              "    </tr>\n",
              "    <tr>\n",
              "      <th>1801-01-01</th>\n",
              "      <td>0.00561</td>\n",
              "    </tr>\n",
              "    <tr>\n",
              "      <th>1802-01-01</th>\n",
              "      <td>0.00555</td>\n",
              "    </tr>\n",
              "    <tr>\n",
              "      <th>1803-01-01</th>\n",
              "      <td>0.00548</td>\n",
              "    </tr>\n",
              "    <tr>\n",
              "      <th>1804-01-01</th>\n",
              "      <td>0.00542</td>\n",
              "    </tr>\n",
              "  </tbody>\n",
              "</table>\n",
              "</div>\n",
              "      <button class=\"colab-df-convert\" onclick=\"convertToInteractive('df-11633b70-0dcf-4ee2-9556-f37b066a80b2')\"\n",
              "              title=\"Convert this dataframe to an interactive table.\"\n",
              "              style=\"display:none;\">\n",
              "        \n",
              "  <svg xmlns=\"http://www.w3.org/2000/svg\" height=\"24px\"viewBox=\"0 0 24 24\"\n",
              "       width=\"24px\">\n",
              "    <path d=\"M0 0h24v24H0V0z\" fill=\"none\"/>\n",
              "    <path d=\"M18.56 5.44l.94 2.06.94-2.06 2.06-.94-2.06-.94-.94-2.06-.94 2.06-2.06.94zm-11 1L8.5 8.5l.94-2.06 2.06-.94-2.06-.94L8.5 2.5l-.94 2.06-2.06.94zm10 10l.94 2.06.94-2.06 2.06-.94-2.06-.94-.94-2.06-.94 2.06-2.06.94z\"/><path d=\"M17.41 7.96l-1.37-1.37c-.4-.4-.92-.59-1.43-.59-.52 0-1.04.2-1.43.59L10.3 9.45l-7.72 7.72c-.78.78-.78 2.05 0 2.83L4 21.41c.39.39.9.59 1.41.59.51 0 1.02-.2 1.41-.59l7.78-7.78 2.81-2.81c.8-.78.8-2.07 0-2.86zM5.41 20L4 18.59l7.72-7.72 1.47 1.35L5.41 20z\"/>\n",
              "  </svg>\n",
              "      </button>\n",
              "      \n",
              "  <style>\n",
              "    .colab-df-container {\n",
              "      display:flex;\n",
              "      flex-wrap:wrap;\n",
              "      gap: 12px;\n",
              "    }\n",
              "\n",
              "    .colab-df-convert {\n",
              "      background-color: #E8F0FE;\n",
              "      border: none;\n",
              "      border-radius: 50%;\n",
              "      cursor: pointer;\n",
              "      display: none;\n",
              "      fill: #1967D2;\n",
              "      height: 32px;\n",
              "      padding: 0 0 0 0;\n",
              "      width: 32px;\n",
              "    }\n",
              "\n",
              "    .colab-df-convert:hover {\n",
              "      background-color: #E2EBFA;\n",
              "      box-shadow: 0px 1px 2px rgba(60, 64, 67, 0.3), 0px 1px 3px 1px rgba(60, 64, 67, 0.15);\n",
              "      fill: #174EA6;\n",
              "    }\n",
              "\n",
              "    [theme=dark] .colab-df-convert {\n",
              "      background-color: #3B4455;\n",
              "      fill: #D2E3FC;\n",
              "    }\n",
              "\n",
              "    [theme=dark] .colab-df-convert:hover {\n",
              "      background-color: #434B5C;\n",
              "      box-shadow: 0px 1px 3px 1px rgba(0, 0, 0, 0.15);\n",
              "      filter: drop-shadow(0px 1px 2px rgba(0, 0, 0, 0.3));\n",
              "      fill: #FFFFFF;\n",
              "    }\n",
              "  </style>\n",
              "\n",
              "      <script>\n",
              "        const buttonEl =\n",
              "          document.querySelector('#df-11633b70-0dcf-4ee2-9556-f37b066a80b2 button.colab-df-convert');\n",
              "        buttonEl.style.display =\n",
              "          google.colab.kernel.accessAllowed ? 'block' : 'none';\n",
              "\n",
              "        async function convertToInteractive(key) {\n",
              "          const element = document.querySelector('#df-11633b70-0dcf-4ee2-9556-f37b066a80b2');\n",
              "          const dataTable =\n",
              "            await google.colab.kernel.invokeFunction('convertToInteractive',\n",
              "                                                     [key], {});\n",
              "          if (!dataTable) return;\n",
              "\n",
              "          const docLinkHtml = 'Like what you see? Visit the ' +\n",
              "            '<a target=\"_blank\" href=https://colab.research.google.com/notebooks/data_table.ipynb>data table notebook</a>'\n",
              "            + ' to learn more about interactive tables.';\n",
              "          element.innerHTML = '';\n",
              "          dataTable['output_type'] = 'display_data';\n",
              "          await google.colab.output.renderOutput(dataTable, element);\n",
              "          const docLink = document.createElement('div');\n",
              "          docLink.innerHTML = docLinkHtml;\n",
              "          element.appendChild(docLink);\n",
              "        }\n",
              "      </script>\n",
              "    </div>\n",
              "  </div>\n",
              "  "
            ]
          },
          "metadata": {},
          "execution_count": 12
        }
      ],
      "source": [
        "\n",
        "data.index = pd.to_datetime(data['Year'], format='%Y')\n",
        "data.drop('Year',axis=1, inplace=True)\n",
        "data.head()\n"
      ]
    },
    {
      "cell_type": "markdown",
      "metadata": {
        "id": "ZsqlZ10RiMdm"
      },
      "source": [
        "\n",
        "<h2 style=\"color:#DC7633;\">Density Plot</h2>\n"
      ]
    },
    {
      "cell_type": "code",
      "execution_count": 13,
      "metadata": {
        "colab": {
          "base_uri": "https://localhost:8080/",
          "height": 265
        },
        "id": "2_j7jumTiMdn",
        "outputId": "9a75d030-1994-482c-b725-8c0f486b5304"
      },
      "outputs": [
        {
          "output_type": "display_data",
          "data": {
            "text/plain": [
              "<Figure size 432x288 with 1 Axes>"
            ],
            "image/png": "[encoded data removed]"
          },
          "metadata": {
            "needs_background": "light"
          }
        }
      ],
      "source": [
        "data.plot(kind='kde')\n",
        "pyplot.show()"
      ]
    },
    {
      "cell_type": "markdown",
      "metadata": {
        "id": "kKq5XFEuiMdn"
      },
      "source": [
        "5 <h2 style=\"color:#DC7633;\">Histogram</h2>\n"
      ]
    },
    {
      "cell_type": "code",
      "execution_count": 14,
      "metadata": {
        "colab": {
          "base_uri": "https://localhost:8080/",
          "height": 318
        },
        "id": "P9Hfr-sniMdo",
        "outputId": "bff7ebe9-049d-447c-9599-c4f39fddd309"
      },
      "outputs": [
        {
          "output_type": "execute_result",
          "data": {
            "text/plain": [
              "array([[<matplotlib.axes._subplots.AxesSubplot object at 0x7f422fcd8fd0>]],\n",
              "      dtype=object)"
            ]
          },
          "metadata": {},
          "execution_count": 14
        },
        {
          "output_type": "display_data",
          "data": {
            "text/plain": [
              "<Figure size 432x288 with 1 Axes>"
            ],
            "image/png": "[encoded data removed]"
          },
          "metadata": {
            "needs_background": "light"
          }
        }
      ],
      "source": [
        " data.hist()\n",
        "\n"
      ]
    },
    {
      "cell_type": "code",
      "execution_count": 15,
      "metadata": {
        "colab": {
          "base_uri": "https://localhost:8080/",
          "height": 283
        },
        "id": "8-IQuObViMdo",
        "outputId": "b0810657-798e-4bb2-daf0-7034f3888da2"
      },
      "outputs": [
        {
          "output_type": "execute_result",
          "data": {
            "text/plain": [
              "<matplotlib.axes._subplots.AxesSubplot at 0x7f422ee93650>"
            ]
          },
          "metadata": {},
          "execution_count": 15
        },
        {
          "output_type": "display_data",
          "data": {
            "text/plain": [
              "<Figure size 432x288 with 1 Axes>"
            ],
            "image/png": "[encoded data removed]"
          },
          "metadata": {
            "needs_background": "light"
          }
        }
      ],
      "source": [
        " import seaborn as sns\n",
        "sns.histplot(data) \n"
      ]
    },
    {
      "cell_type": "markdown",
      "metadata": {
        "id": "dIhmf0tYiMdo"
      },
      "source": [
        "<h2 style=\"color:#DC7633;\">Line plot</h2>\n"
      ]
    },
    {
      "cell_type": "code",
      "execution_count": 16,
      "metadata": {
        "colab": {
          "base_uri": "https://localhost:8080/",
          "height": 297
        },
        "id": "uWbQLgESiMdp",
        "outputId": "19a8c4f5-8478-482b-b5c4-8e97085f6ffc"
      },
      "outputs": [
        {
          "output_type": "execute_result",
          "data": {
            "text/plain": [
              "<matplotlib.axes._subplots.AxesSubplot at 0x7f422edd2850>"
            ]
          },
          "metadata": {},
          "execution_count": 16
        },
        {
          "output_type": "display_data",
          "data": {
            "text/plain": [
              "<Figure size 432x288 with 1 Axes>"
            ],
            "image/png": "[encoded data removed]"
          },
          "metadata": {
            "needs_background": "light"
          }
        }
      ],
      "source": [
        "data.plot()              # we can see there is a upword trend in plot"
      ]
    },
    {
      "cell_type": "markdown",
      "metadata": {
        "id": "9rIGpvKDiMdp"
      },
      "source": [
        "<h2 style=\"color:#DC7633;\">Box Plot</h2>\n"
      ]
    },
    {
      "cell_type": "code",
      "execution_count": 17,
      "metadata": {
        "colab": {
          "base_uri": "https://localhost:8080/",
          "height": 189
        },
        "id": "E90RZwlmiMdp",
        "outputId": "5c17afb0-4ca6-4f50-c846-5132f369ff3c"
      },
      "outputs": [
        {
          "output_type": "execute_result",
          "data": {
            "text/plain": [
              "<matplotlib.axes._subplots.AxesSubplot at 0x7f422ecf9710>"
            ]
          },
          "metadata": {},
          "execution_count": 17
        },
        {
          "output_type": "display_data",
          "data": {
            "text/plain": [
              "<Figure size 1008x144 with 1 Axes>"
            ],
            "image/png": "[encoded data removed]"
          },
          "metadata": {
            "needs_background": "light"
          }
        }
      ],
      "source": [
        "# Boxplot for ever\n",
        "import seaborn as sns\n",
        "plt.figure(figsize=(14,2))\n",
        "sns.boxplot(x = data['CO2'], palette='Pastel1')"
      ]
    },
    {
      "cell_type": "markdown",
      "metadata": {
        "id": "SjGZgxmDiMdp"
      },
      "source": [
        "<h2 style=\"color:#DC7633;\">Lag Plot</h2>\n"
      ]
    },
    {
      "cell_type": "code",
      "execution_count": 18,
      "metadata": {
        "colab": {
          "base_uri": "https://localhost:8080/",
          "height": 279
        },
        "id": "HrL0QKvziMdq",
        "outputId": "2c250ff9-5691-4739-96ad-0310f86ef829"
      },
      "outputs": [
        {
          "output_type": "display_data",
          "data": {
            "text/plain": [
              "<Figure size 432x288 with 1 Axes>"
            ],
            "image/png": "[encoded data removed]"
          },
          "metadata": {
            "needs_background": "light"
          }
        }
      ],
      "source": [
        "from pandas.plotting import lag_plot\n",
        "from matplotlib import pyplot\n",
        "lag_plot(data)\n",
        "pyplot.show()                  # data is linear"
      ]
    },
    {
      "cell_type": "markdown",
      "metadata": {
        "id": "FnXs3xW-iMdq"
      },
      "source": [
        "<div style=\"color:white;\n",
        "           display:fill;\n",
        "           background-color:#29285D;\n",
        "           padding: 10px;\n",
        "           font-family:Verdana;\n",
        "           letter-spacing:0.5px\">\n",
        "    <h3 style=\"color:white;padding-left:20px\"><b>Interface 👀</b></h3>\n",
        "       <p style=\"color:white;font-size:110%;padding-left:50px\">\n",
        "         1) After the total observation we can see the trend of our data and we have higher rate between -5 to +5<br><br>\n",
        "          2) There is trend in ur data because after some perid its going high suddenly and its moving up direction<br><br>\n",
        "           3) The Data is linear we can see using log plot\n",
        "        </p>\n",
        "    </div>"
      ]
    },
    {
      "cell_type": "markdown",
      "metadata": {
        "id": "xCCKu5v5iMdq"
      },
      "source": [
        "\n",
        "\n",
        "<h2 style=\"color:#DC7633;\">seasonal_decomposet</h2>\n"
      ]
    },
    {
      "cell_type": "code",
      "execution_count": 19,
      "metadata": {
        "colab": {
          "base_uri": "https://localhost:8080/",
          "height": 297
        },
        "id": "0s6zFmltiMdq",
        "outputId": "272e2798-374e-4f0e-efb0-225ecbff9b07"
      },
      "outputs": [
        {
          "output_type": "display_data",
          "data": {
            "text/plain": [
              "<Figure size 432x288 with 4 Axes>"
            ],
            "image/png": "[encoded data removed]"
          },
          "metadata": {
            "needs_background": "light"
          }
        }
      ],
      "source": [
        "import matplotlib.pyplot as plt\n",
        "from statsmodels.tsa.seasonal import seasonal_decompose\n",
        "\n",
        "decompose_ts_add = seasonal_decompose(data.CO2,period=12)\n",
        "decompose_ts_add.plot()\n",
        "plt.show()"
      ]
    },
    {
      "cell_type": "code",
      "execution_count": 20,
      "metadata": {
        "colab": {
          "base_uri": "https://localhost:8080/",
          "height": 297
        },
        "id": "NQXoq_wLiMdr",
        "outputId": "18e33dfb-49eb-40aa-a041-ee0513e452ef"
      },
      "outputs": [
        {
          "output_type": "execute_result",
          "data": {
            "text/plain": [
              "<matplotlib.axes._subplots.AxesSubplot at 0x7f422c38b0d0>"
            ]
          },
          "metadata": {},
          "execution_count": 20
        },
        {
          "output_type": "display_data",
          "data": {
            "text/plain": [
              "<Figure size 432x288 with 1 Axes>"
            ],
            "image/png": "[encoded data removed]"
          },
          "metadata": {
            "needs_background": "light"
          }
        }
      ],
      "source": [
        "seasonality=decompose_ts_add.seasonal\n",
        "seasonality.plot(color='green')"
      ]
    },
    {
      "cell_type": "markdown",
      "metadata": {
        "id": "GxbE-THCiMdr"
      },
      "source": [
        " <div style=\"color:white;\n",
        "           display:fill;\n",
        "           background-color:#29285D;\n",
        "           padding: 10px;\n",
        "           font-family:Verdana;\n",
        "           letter-spacing:0.5px\">\n",
        "    <h3 style=\"color:white;padding-left:20px\"><b>Interface 👀</b></h3>\n",
        "       <p style=\"color:white;font-size:110%;padding-left:50px\">\n",
        "         1) In the seasonality graph, we can see the seasonality structure for every year, which is cyclic and repeatedly providing the same value. <br><br>\n",
        "  2) To check for the stationarity of the time series, statsmodels provides a plot_acf method to plot an              autocorrelation plot.<br>\n",
        "        </p>\n",
        "    </div>"
      ]
    },
    {
      "cell_type": "markdown",
      "metadata": {
        "id": "zVSvz9mriMdr"
      },
      "source": [
        "<h2 style=\"color:#DC7633;\">ACF Plot</h2>\n"
      ]
    },
    {
      "cell_type": "code",
      "execution_count": 21,
      "metadata": {
        "colab": {
          "base_uri": "https://localhost:8080/",
          "height": 545
        },
        "id": "EAK81JaMiMdr",
        "outputId": "e9afbcac-5f1b-440f-a22e-a3716eba345a"
      },
      "outputs": [
        {
          "output_type": "display_data",
          "data": {
            "text/plain": [
              "<Figure size 432x288 with 1 Axes>"
            ],
            "image/png": "[encoded data removed]"
          },
          "metadata": {
            "needs_background": "light"
          }
        },
        {
          "output_type": "display_data",
          "data": {
            "text/plain": [
              "<Figure size 432x288 with 1 Axes>"
            ],
            "image/png": "[encoded data removed]"
          },
          "metadata": {
            "needs_background": "light"
          }
        }
      ],
      "source": [
        "#To check for the stationarity of the time series, statsmodels provides a plot_acf method to plot an autocorrelation plot.\n",
        "# It will check the correlation between previous data \n",
        "from statsmodels.graphics.tsaplots import plot_acf\n",
        "from statsmodels.graphics.tsaplots import plot_pacf\n",
        "\n",
        "plot_acf(data,lags=30)\n",
        "plot_pacf(data)\n",
        "pyplot.show()\n"
      ]
    },
    {
      "cell_type": "markdown",
      "metadata": {
        "id": "EA4b585SiMds"
      },
      "source": [
        " <div style=\"color:white;\n",
        "           display:fill;\n",
        "           background-color:#29285D;\n",
        "           padding: 10px;\n",
        "           font-family:Verdana;\n",
        "           letter-spacing:0.5px\">\n",
        "    <h3 style=\"color:white;padding-left:20px\"><b>Interface 👀</b></h3>\n",
        "       <p style=\"color:white;font-size:110%;padding-left:50px\">\n",
        "        1)  Here the blue area is the confidence interval<br><br>\n",
        "         2) Each candle is present on previous or historical data it means if we know the historical/Past year CO2 then we             can forecast next year CO2 <br><br>\n",
        "           3) There are strongly psitive correlation \n",
        "    </p>\n",
        "    </div>\n"
      ]
    },
    {
      "cell_type": "markdown",
      "metadata": {
        "id": "aJjCYlQsiMds"
      },
      "source": [
        " <h2 style=\"background-color:green;font-family:verdana;color:white;font-size:100%;text-align:center;border-radius:10px 10px;letter-spacing:0.5px;padding: 10px\"> Step 4 : Pre-Process Data </h2> "
      ]
    },
    {
      "cell_type": "markdown",
      "metadata": {
        "id": "ixyHKTQ4iMds"
      },
      "source": [
        "<h3 style=\"color:orange;\">Stationary data means? </h3>\n",
        "\n",
        "1) constant mean\n",
        "\n",
        "2) constant variance\n",
        "\n",
        "3) constant covariance (uncorrelated)\n",
        "\n",
        "We verify this by observing change in mean, variance, autocorrelation and with a statistical test (ADFuller test)\n",
        "\n",
        "\n",
        " <h3 style=\"color:green;\">Following are the Techniques to check data is stationary or not ?</h3>\n",
        "\n",
        "1) Augmented Dickey-fuller test\n",
        "\n",
        "2) Kwiatkowski-Phillips-Schmidt-Shin (KPSS)\n",
        "\n",
        "3) Rolling Statistics\n"
      ]
    },
    {
      "cell_type": "markdown",
      "metadata": {
        "id": "0NtsH3oWiMdt"
      },
      "source": [
        "<h3 style=\"color:blue;\">1) Augmented Dickey-fuller test or not? </h3>\n"
      ]
    },
    {
      "cell_type": "code",
      "execution_count": 22,
      "metadata": {
        "colab": {
          "base_uri": "https://localhost:8080/"
        },
        "id": "SsW-SfToiMdt",
        "outputId": "0a981acd-7d63-468d-a606-53cb1b58ac68"
      },
      "outputs": [
        {
          "output_type": "stream",
          "name": "stdout",
          "text": [
            "Observations of Dickey-fuller test\n",
            "\n",
            " > Is the de-trended data stationary ?\n",
            "Test statistic = -0.378\n",
            "P-value = 0.914\n",
            "Critical values :\n",
            "\t1%: -3.4612821203214907 - The data is not stationary with 99% confidence\n",
            "\t5%: -2.875142613826617 - The data is not stationary with 95% confidence\n",
            "\t10%: -2.574020122281422 - The data is not stationary with 90% confidence\n"
          ]
        }
      ],
      "source": [
        "from statsmodels.tsa.stattools import adfuller\n",
        "print(\"Observations of Dickey-fuller test\")\n",
        "\n",
        "\n",
        "print(\"\\n > Is the de-trended data stationary ?\")\n",
        "dftest = adfuller(data['CO2'].dropna(), autolag='AIC')\n",
        "print(\"Test statistic = {:.3f}\".format(dftest[0]))\n",
        "print(\"P-value = {:.3f}\".format(dftest[1]))\n",
        "print(\"Critical values :\")\n",
        "for k, v in dftest[4].items():\n",
        "    print(\"\\t{}: {} - The data is {} stationary with {}% confidence\".format(k, v, \"not\" if v<dftest[0] else \"\", 100-int(k[:-1])))\n",
        "    "
      ]
    },
    {
      "cell_type": "markdown",
      "metadata": {
        "id": "3BlDssKqiMdt"
      },
      "source": [
        " <div style=\"color:white;\n",
        "           display:fill;\n",
        "           background-color:#29285D;\n",
        "           padding: 10px;\n",
        "           font-family:Verdana;\n",
        "           letter-spacing:0.5px\">\n",
        "    <h3 style=\"color:white;padding-left:20px\"><b>Interface 👀</b></h3>\n",
        "       <p style=\"color:white;font-size:110%;padding-left:50px\">\n",
        "        Augmented Dicky Fuller test is a statistical test for stionarity.<br> \n",
        "        If the p value is less than 0.05, the series is stationary, otherwise non-stationary. \n",
        "    </p>\n",
        "    </div>"
      ]
    },
    {
      "cell_type": "markdown",
      "metadata": {
        "id": "7IgTZYgPiMdu"
      },
      "source": [
        "<h3 style=\"color:blue;\">2) Kwiatkowski-Phillips-Schmidt-Shin (KPSS) or not? </h3>\n"
      ]
    },
    {
      "cell_type": "code",
      "execution_count": 23,
      "metadata": {
        "colab": {
          "base_uri": "https://localhost:8080/"
        },
        "id": "qXpOLY3BiMdu",
        "outputId": "75dc1fa1-69c3-4139-cbf0-3ed0f2706a72"
      },
      "outputs": [
        {
          "output_type": "stream",
          "name": "stdout",
          "text": [
            "Test Statistic: 0.220000\n",
            "p-value: 0.010000\n",
            "Critical values:\n",
            "\t10%: 0.119\n",
            "\t5%: 0.146\n",
            "\t2.5%: 0.176\n",
            "\t1%: 0.216\n"
          ]
        }
      ],
      "source": [
        "result_kpss_ct_log=kpss(data['CO2'],regression=\"ct\")\n",
        "print('Test Statistic: %f' % np.round(result_kpss_ct_log[0],2))\n",
        "print('p-value: %f' %result_kpss_ct_log[1])\n",
        "print('Critical values:')\n",
        "for key, value in result_kpss_ct_log[3].items():\n",
        "     print('\\t%s: %.3f' %(key, value))"
      ]
    },
    {
      "cell_type": "markdown",
      "metadata": {
        "id": "CQKCgpuwiMdu"
      },
      "source": [
        "<div style=\"color:white;\n",
        "           display:fill;\n",
        "           background-color:#29285D;\n",
        "           padding: 10px;\n",
        "           font-family:Verdana;\n",
        "           letter-spacing:0.5px\">\n",
        "    <h3 style=\"color:white;padding-left:20px\"><b>Interface 👀</b></h3>\n",
        "       <p style=\"color:white;font-size:110%;padding-left:50px\">\n",
        "         If the p-value is less than a predefined alpha level (typically 0.05), we reject the null hypothesis.      \n",
        "    </p>\n",
        "    </div>"
      ]
    },
    {
      "cell_type": "markdown",
      "metadata": {
        "id": "r17P0fG5iMdu"
      },
      "source": [
        " <h3 style=\"color:blue;\">3) Rolling Statistics Test</h3>\n"
      ]
    },
    {
      "cell_type": "code",
      "execution_count": 24,
      "metadata": {
        "colab": {
          "base_uri": "https://localhost:8080/",
          "height": 281
        },
        "id": "MOo5UrepiMdv",
        "outputId": "3bf34a3a-b1db-4eb2-d07f-8b3ae49d8a43"
      },
      "outputs": [
        {
          "output_type": "display_data",
          "data": {
            "text/plain": [
              "<Figure size 432x288 with 1 Axes>"
            ],
            "image/png": "[encoded data removed]"
          },
          "metadata": {
            "needs_background": "light"
          }
        }
      ],
      "source": [
        "rmean=data.rolling(window=12).mean()\n",
        "rstd=data.rolling(window=12).std()\n",
        "#print(rmean,rstd)\n",
        "orig=plt.plot(data , color='black',label='Original')\n",
        "mean= plt.plot(rmean , color='red',label='Rolling Mean')\n",
        "std=plt.plot(rstd,color='blue',label = 'Rolling Standard Deviation')\n",
        "plt.legend(loc='best')\n",
        "plt.title(\"Rolling mean and standard deviation\")\n",
        "plt.show(block=False)"
      ]
    },
    {
      "cell_type": "markdown",
      "metadata": {
        "id": "Xpca5vgNiMdv"
      },
      "source": [
        "<div style=\"color:white;\n",
        "           display:fill;\n",
        "           background-color:#29285D;\n",
        "           padding: 10px;\n",
        "           font-family:Verdana;\n",
        "           letter-spacing:0.5px\">\n",
        "    <h3 style=\"color:white;padding-left:20px\"><b>Interface 👀</b></h3>\n",
        "       <p style=\"color:white;font-size:110%;padding-left:50px\">\n",
        "        In this graph we can see mean and variance is not constant so we can say our data is non stationary \n",
        "    </p>\n",
        "    </div>"
      ]
    },
    {
      "cell_type": "markdown",
      "metadata": {
        "id": "XlMRVPRciMdv"
      },
      "source": [
        "  <h2 style=\"color:Orange;\">    Making Time Series Stationary Test</h2>\n",
        "<h3 style=\"color:Green;\">    Differencing Test</h3>\n",
        "<h4 style=\"color:blue;\">  First  Differencing Test</h4>\n"
      ]
    },
    {
      "cell_type": "code",
      "execution_count": 25,
      "metadata": {
        "colab": {
          "base_uri": "https://localhost:8080/",
          "height": 283
        },
        "id": "u_OZ_7iPiMdw",
        "outputId": "bc4b115e-eb05-44fc-af44-9033ab8c21f1"
      },
      "outputs": [
        {
          "output_type": "execute_result",
          "data": {
            "text/plain": [
              "[<matplotlib.lines.Line2D at 0x7f422c19e190>]"
            ]
          },
          "metadata": {},
          "execution_count": 25
        },
        {
          "output_type": "display_data",
          "data": {
            "text/plain": [
              "<Figure size 432x288 with 1 Axes>"
            ],
            "image/png": "[encoded data removed]"
          },
          "metadata": {
            "needs_background": "light"
          }
        }
      ],
      "source": [
        "import numpy as np\n",
        "\n",
        " # making the data stationary\n",
        "#data['First Difference'] = data['CO2'] - data['CO2'].shift(1)\n",
        "#plt.plot(data['First Difference'])\n",
        "#data1=data.copy()\n",
        "data['First Difference'] = data['CO2'] - data['CO2'].shift(1)\n",
        "plt.plot(data['First Difference'])\n"
      ]
    },
    {
      "cell_type": "code",
      "execution_count": 26,
      "metadata": {
        "colab": {
          "base_uri": "https://localhost:8080/",
          "height": 809
        },
        "id": "M99mOJN-iMdw",
        "outputId": "1515d875-3a25-4b3b-83a7-0f943a58da27"
      },
      "outputs": [
        {
          "output_type": "execute_result",
          "data": {
            "text/plain": [
              "<Figure size 432x288 with 1 Axes>"
            ],
            "image/png": "[encoded data removed]"
          },
          "metadata": {},
          "execution_count": 26
        },
        {
          "output_type": "display_data",
          "data": {
            "text/plain": [
              "<Figure size 432x288 with 1 Axes>"
            ],
            "image/png": "[encoded data removed]"
          },
          "metadata": {
            "needs_background": "light"
          }
        },
        {
          "output_type": "display_data",
          "data": {
            "text/plain": [
              "<Figure size 432x288 with 1 Axes>"
            ],
            "image/png": "[encoded data removed]"
          },
          "metadata": {
            "needs_background": "light"
          }
        }
      ],
      "source": [
        "plot_acf(data['First Difference'].dropna(),lags=25)\n",
        "plot_pacf(data['First Difference'].dropna(),lags=25)"
      ]
    },
    {
      "cell_type": "code",
      "execution_count": 27,
      "metadata": {
        "colab": {
          "base_uri": "https://localhost:8080/",
          "height": 281
        },
        "id": "0qq28sNuiMdw",
        "outputId": "03e7e6db-2608-4bf3-8e94-7304b325d767"
      },
      "outputs": [
        {
          "output_type": "display_data",
          "data": {
            "text/plain": [
              "<Figure size 432x288 with 1 Axes>"
            ],
            "image/png": "[encoded data removed]"
          },
          "metadata": {
            "needs_background": "light"
          }
        }
      ],
      "source": [
        "rmean=data['First Difference'].rolling(window=12).mean()\n",
        "rstd=data['First Difference'].rolling(window=12).std()\n",
        "#print(rmean,rstd)\n",
        "orig=plt.plot(data['First Difference'] , color='black',label='Original')\n",
        "mean= plt.plot(rmean , color='red',label='Rolling Mean')\n",
        "std=plt.plot(rstd,color='blue',label = 'Rolling Standard Deviation')\n",
        "plt.legend(loc='best')\n",
        "plt.title(\"Rolling mean and standard deviation\")\n",
        "plt.show(block=False)"
      ]
    },
    {
      "cell_type": "code",
      "execution_count": 28,
      "metadata": {
        "colab": {
          "base_uri": "https://localhost:8080/"
        },
        "id": "Jx8S2QB_iMdw",
        "outputId": "6485f23c-4d17-4e8c-8277-558cd8864340"
      },
      "outputs": [
        {
          "output_type": "stream",
          "name": "stdout",
          "text": [
            " > Is the data stationary ?\n",
            "Test statistic = -3.780\n",
            "P-value = 0.003\n",
            "Critical values :\n",
            "\t1%: -3.4638151713286316 - The data is  stationary with 99% confidence\n",
            "\t5%: -2.876250632135043 - The data is  stationary with 95% confidence\n",
            "\t10%: -2.574611347821651 - The data is  stationary with 90% confidence\n"
          ]
        }
      ],
      "source": [
        "from statsmodels.tsa.stattools import adfuller\n",
        "\n",
        "print(\" > Is the data stationary ?\")\n",
        "dftest = adfuller(data['First Difference'].dropna(),autolag='AIC')\n",
        "print(\"Test statistic = {:.3f}\".format(dftest[0]))\n",
        "print(\"P-value = {:.3f}\".format(dftest[1]))\n",
        "print(\"Critical values :\")\n",
        "for k, v in dftest[4].items():\n",
        "    print(\"\\t{}: {} - The data is {} stationary with {}% confidence\".format(k, v, \"not\" if v<dftest[0] else \"\", 100-int(k[:-1])))\n",
        "    "
      ]
    },
    {
      "cell_type": "code",
      "execution_count": 29,
      "metadata": {
        "colab": {
          "base_uri": "https://localhost:8080/"
        },
        "id": "zHOFBSFiiMdx",
        "outputId": "2806fa3c-f9f3-445e-9219-631cef91e6b8"
      },
      "outputs": [
        {
          "output_type": "stream",
          "name": "stdout",
          "text": [
            "Test Statistic: 0.110000\n",
            "p-value: 0.100000\n",
            "Critical values:\n",
            "\t10%: 0.119\n",
            "\t5%: 0.146\n",
            "\t2.5%: 0.176\n",
            "\t1%: 0.216\n"
          ]
        }
      ],
      "source": [
        "result_kpss_ct_log=kpss(data['First Difference'].dropna(),regression=\"ct\")\n",
        "print('Test Statistic: %f' % np.round(result_kpss_ct_log[0],2))\n",
        "print('p-value: %f' %result_kpss_ct_log[1])\n",
        "print('Critical values:')\n",
        "for key, value in result_kpss_ct_log[3].items():\n",
        "     print('\\t%s: %.3f' %(key, value))"
      ]
    },
    {
      "cell_type": "markdown",
      "metadata": {
        "id": "2meCES5QiMdx"
      },
      "source": [
        "<div style=\"color:white;\n",
        "           display:fill;\n",
        "           background-color:#29285D;\n",
        "           padding: 10px;\n",
        "           font-family:Verdana;\n",
        "           letter-spacing:0.5px\">\n",
        "    <h3 style=\"color:white;padding-left:20px\"><b>Interface 👀</b></h3>\n",
        "       <p style=\"color:white;font-size:110%;padding-left:50px\">\n",
        "         1) p value is less than 0.05, the series is stationary. <br>\n",
        "        2) In this graph we can see mean and variance is not constant so we can say our data is non stationary<br> \n",
        "         3) If the p-value is greater than a predefined alpha level (typically 0.05), we accept the null hypothesis.      \n",
        "    </p>\n",
        "    </div>"
      ]
    },
    {
      "cell_type": "code",
      "execution_count": 30,
      "metadata": {
        "colab": {
          "base_uri": "https://localhost:8080/",
          "height": 455
        },
        "id": "rpFZovidiMdx",
        "outputId": "421d7ba1-6bd1-4ba4-ed30-347f8ae64c6c"
      },
      "outputs": [
        {
          "output_type": "execute_result",
          "data": {
            "text/plain": [
              "                 CO2  First Difference\n",
              "Year                                  \n",
              "1800-01-01   0.00568               NaN\n",
              "1801-01-01   0.00561          -0.00007\n",
              "1802-01-01   0.00555          -0.00006\n",
              "1803-01-01   0.00548          -0.00007\n",
              "1804-01-01   0.00542          -0.00006\n",
              "...              ...               ...\n",
              "2010-01-01  15.60000          -0.30000\n",
              "2011-01-01  15.60000           0.00000\n",
              "2012-01-01  14.80000          -0.80000\n",
              "2013-01-01  14.70000          -0.10000\n",
              "2014-01-01  15.10000           0.40000\n",
              "\n",
              "[215 rows x 2 columns]"
            ],
            "text/html": [
              "\n",
              "  <div id=\"df-9bd820c9-bf79-469c-8889-30ac2bea9544\">\n",
              "    <div class=\"colab-df-container\">\n",
              "      <div>\n",
              "<style scoped>\n",
              "    .dataframe tbody tr th:only-of-type {\n",
              "        vertical-align: middle;\n",
              "    }\n",
              "\n",
              "    .dataframe tbody tr th {\n",
              "        vertical-align: top;\n",
              "    }\n",
              "\n",
              "    .dataframe thead th {\n",
              "        text-align: right;\n",
              "    }\n",
              "</style>\n",
              "<table border=\"1\" class=\"dataframe\">\n",
              "  <thead>\n",
              "    <tr style=\"text-align: right;\">\n",
              "      <th></th>\n",
              "      <th>CO2</th>\n",
              "      <th>First Difference</th>\n",
              "    </tr>\n",
              "    <tr>\n",
              "      <th>Year</th>\n",
              "      <th></th>\n",
              "      <th></th>\n",
              "    </tr>\n",
              "  </thead>\n",
              "  <tbody>\n",
              "    <tr>\n",
              "      <th>1800-01-01</th>\n",
              "      <td>0.00568</td>\n",
              "      <td>NaN</td>\n",
              "    </tr>\n",
              "    <tr>\n",
              "      <th>1801-01-01</th>\n",
              "      <td>0.00561</td>\n",
              "      <td>-0.00007</td>\n",
              "    </tr>\n",
              "    <tr>\n",
              "      <th>1802-01-01</th>\n",
              "      <td>0.00555</td>\n",
              "      <td>-0.00006</td>\n",
              "    </tr>\n",
              "    <tr>\n",
              "      <th>1803-01-01</th>\n",
              "      <td>0.00548</td>\n",
              "      <td>-0.00007</td>\n",
              "    </tr>\n",
              "    <tr>\n",
              "      <th>1804-01-01</th>\n",
              "      <td>0.00542</td>\n",
              "      <td>-0.00006</td>\n",
              "    </tr>\n",
              "    <tr>\n",
              "      <th>...</th>\n",
              "      <td>...</td>\n",
              "      <td>...</td>\n",
              "    </tr>\n",
              "    <tr>\n",
              "      <th>2010-01-01</th>\n",
              "      <td>15.60000</td>\n",
              "      <td>-0.30000</td>\n",
              "    </tr>\n",
              "    <tr>\n",
              "      <th>2011-01-01</th>\n",
              "      <td>15.60000</td>\n",
              "      <td>0.00000</td>\n",
              "    </tr>\n",
              "    <tr>\n",
              "      <th>2012-01-01</th>\n",
              "      <td>14.80000</td>\n",
              "      <td>-0.80000</td>\n",
              "    </tr>\n",
              "    <tr>\n",
              "      <th>2013-01-01</th>\n",
              "      <td>14.70000</td>\n",
              "      <td>-0.10000</td>\n",
              "    </tr>\n",
              "    <tr>\n",
              "      <th>2014-01-01</th>\n",
              "      <td>15.10000</td>\n",
              "      <td>0.40000</td>\n",
              "    </tr>\n",
              "  </tbody>\n",
              "</table>\n",
              "<p>215 rows × 2 columns</p>\n",
              "</div>\n",
              "      <button class=\"colab-df-convert\" onclick=\"convertToInteractive('df-9bd820c9-bf79-469c-8889-30ac2bea9544')\"\n",
              "              title=\"Convert this dataframe to an interactive table.\"\n",
              "              style=\"display:none;\">\n",
              "        \n",
              "  <svg xmlns=\"http://www.w3.org/2000/svg\" height=\"24px\"viewBox=\"0 0 24 24\"\n",
              "       width=\"24px\">\n",
              "    <path d=\"M0 0h24v24H0V0z\" fill=\"none\"/>\n",
              "    <path d=\"M18.56 5.44l.94 2.06.94-2.06 2.06-.94-2.06-.94-.94-2.06-.94 2.06-2.06.94zm-11 1L8.5 8.5l.94-2.06 2.06-.94-2.06-.94L8.5 2.5l-.94 2.06-2.06.94zm10 10l.94 2.06.94-2.06 2.06-.94-2.06-.94-.94-2.06-.94 2.06-2.06.94z\"/><path d=\"M17.41 7.96l-1.37-1.37c-.4-.4-.92-.59-1.43-.59-.52 0-1.04.2-1.43.59L10.3 9.45l-7.72 7.72c-.78.78-.78 2.05 0 2.83L4 21.41c.39.39.9.59 1.41.59.51 0 1.02-.2 1.41-.59l7.78-7.78 2.81-2.81c.8-.78.8-2.07 0-2.86zM5.41 20L4 18.59l7.72-7.72 1.47 1.35L5.41 20z\"/>\n",
              "  </svg>\n",
              "      </button>\n",
              "      \n",
              "  <style>\n",
              "    .colab-df-container {\n",
              "      display:flex;\n",
              "      flex-wrap:wrap;\n",
              "      gap: 12px;\n",
              "    }\n",
              "\n",
              "    .colab-df-convert {\n",
              "      background-color: #E8F0FE;\n",
              "      border: none;\n",
              "      border-radius: 50%;\n",
              "      cursor: pointer;\n",
              "      display: none;\n",
              "      fill: #1967D2;\n",
              "      height: 32px;\n",
              "      padding: 0 0 0 0;\n",
              "      width: 32px;\n",
              "    }\n",
              "\n",
              "    .colab-df-convert:hover {\n",
              "      background-color: #E2EBFA;\n",
              "      box-shadow: 0px 1px 2px rgba(60, 64, 67, 0.3), 0px 1px 3px 1px rgba(60, 64, 67, 0.15);\n",
              "      fill: #174EA6;\n",
              "    }\n",
              "\n",
              "    [theme=dark] .colab-df-convert {\n",
              "      background-color: #3B4455;\n",
              "      fill: #D2E3FC;\n",
              "    }\n",
              "\n",
              "    [theme=dark] .colab-df-convert:hover {\n",
              "      background-color: #434B5C;\n",
              "      box-shadow: 0px 1px 3px 1px rgba(0, 0, 0, 0.15);\n",
              "      filter: drop-shadow(0px 1px 2px rgba(0, 0, 0, 0.3));\n",
              "      fill: #FFFFFF;\n",
              "    }\n",
              "  </style>\n",
              "\n",
              "      <script>\n",
              "        const buttonEl =\n",
              "          document.querySelector('#df-9bd820c9-bf79-469c-8889-30ac2bea9544 button.colab-df-convert');\n",
              "        buttonEl.style.display =\n",
              "          google.colab.kernel.accessAllowed ? 'block' : 'none';\n",
              "\n",
              "        async function convertToInteractive(key) {\n",
              "          const element = document.querySelector('#df-9bd820c9-bf79-469c-8889-30ac2bea9544');\n",
              "          const dataTable =\n",
              "            await google.colab.kernel.invokeFunction('convertToInteractive',\n",
              "                                                     [key], {});\n",
              "          if (!dataTable) return;\n",
              "\n",
              "          const docLinkHtml = 'Like what you see? Visit the ' +\n",
              "            '<a target=\"_blank\" href=https://colab.research.google.com/notebooks/data_table.ipynb>data table notebook</a>'\n",
              "            + ' to learn more about interactive tables.';\n",
              "          element.innerHTML = '';\n",
              "          dataTable['output_type'] = 'display_data';\n",
              "          await google.colab.output.renderOutput(dataTable, element);\n",
              "          const docLink = document.createElement('div');\n",
              "          docLink.innerHTML = docLinkHtml;\n",
              "          element.appendChild(docLink);\n",
              "        }\n",
              "      </script>\n",
              "    </div>\n",
              "  </div>\n",
              "  "
            ]
          },
          "metadata": {},
          "execution_count": 30
        }
      ],
      "source": [
        " data"
      ]
    },
    {
      "cell_type": "code",
      "execution_count": 31,
      "metadata": {
        "id": "VT4tFLcviMdy"
      },
      "outputs": [],
      "source": [
        "import pandas as pd\n",
        "import numpy as np\n",
        "import matplotlib.pyplot as plt\n",
        "import seaborn as sns\n",
        "import statsmodels.api as sm\n",
        "from statsmodels.tsa.seasonal import seasonal_decompose\n",
        "from statsmodels.tsa.holtwinters import SimpleExpSmoothing # SES\n",
        "from statsmodels.tsa.holtwinters import Holt # Holts Exponential Smoothing\n",
        "from statsmodels.tsa.holtwinters import ExponentialSmoothing # \n",
        "import statsmodels.graphics.tsaplots as tsa_plots\n",
        "import statsmodels.tsa.statespace as tm_models\n",
        "from datetime import datetime,time"
      ]
    },
    {
      "cell_type": "code",
      "execution_count": 32,
      "metadata": {
        "id": "B55n0WetiMdy"
      },
      "outputs": [],
      "source": [
        "Train = data.head(180)\n",
        "Test =data.tail(35)"
      ]
    },
    {
      "cell_type": "code",
      "execution_count": 33,
      "metadata": {
        "id": "8t3DUzhNiMdy"
      },
      "outputs": [],
      "source": [
        "# Creating a function to calculate the MAPE value for test data \n",
        "def MAPE(pred,org):\n",
        "    temp = np.abs((pred-org))*100/org\n",
        "    return np.mean(temp)"
      ]
    },
    {
      "cell_type": "code",
      "execution_count": 33,
      "metadata": {
        "id": "6KSYUjpK7T7B"
      },
      "outputs": [],
      "source": []
    },
    {
      "cell_type": "markdown",
      "metadata": {
        "id": "dQDpSc2giMdz"
      },
      "source": [
        "  <h2 style=\"color:Orange;\">  Simple Exponential Method</h2>\n"
      ]
    },
    {
      "cell_type": "code",
      "execution_count": 34,
      "metadata": {
        "colab": {
          "base_uri": "https://localhost:8080/",
          "height": 413
        },
        "id": "U4e4wyj3iMdz",
        "outputId": "4868139b-2474-4822-ffe2-e8503541c1bc"
      },
      "outputs": [
        {
          "output_type": "stream",
          "name": "stdout",
          "text": [
            "Train MAE: 0.6108156764737803\n",
            "Test MAE: 0.7594402120707794 \n",
            "\n",
            "Train RMSE : 0.9963994338145259 \n",
            "Test RMSE : 0.9711142323936686 \n",
            "\n",
            "Train MAPE : 19.981685225960227 \n",
            "Test MAPE : 4.810371631853253\n"
          ]
        },
        {
          "output_type": "display_data",
          "data": {
            "text/plain": [
              "<Figure size 432x288 with 1 Axes>"
            ],
            "image/png": "[encoded data removed]"
          },
          "metadata": {
            "needs_background": "light"
          }
        }
      ],
      "source": [
        "\n",
        "ses_model = SimpleExpSmoothing(Train['CO2']).fit(smoothing_level=0.2)\n",
        "#ses_model = SimpleExpSmoothing(Train.CO2).fit(smoothing_level=0.3, optimized=False)\n",
        "pred_ses_train = ses_model.predict(start = Train.index[0],end = Train.index[-1])\n",
        "\n",
        "pred_ses_test = ses_model.predict(start = Test.index[0],end = Test.index[-1])\n",
        "\n",
        "plt.plot(Train.CO2)\n",
        "plt.plot(Test.CO2)\n",
        "\n",
        "plt.plot(pred_ses_train)\n",
        "plt.plot(pred_ses_train)\n",
        "\n",
        "rmse = sqrt(mean_squared_error(Train.CO2, pred_ses_train))\n",
        "print('Train MAE:', mean_absolute_error(Train.CO2,pred_ses_train)) \n",
        "rmse1 = sqrt(mean_squared_error(Test.CO2, pred_ses_test))\n",
        "print('Test MAE:', mean_absolute_error(Test.CO2,pred_ses_test),'\\n') \n",
        "\n",
        "print('Train RMSE :',rmse ,'\\n' 'Test RMSE :',rmse1,'\\n')\n",
        "print('Train MAPE :',MAPE(pred_ses_train,Train.CO2) ,'\\n''Test MAPE :',MAPE(pred_ses_test,Test.CO2))\n",
        "\n"
      ]
    },
    {
      "cell_type": "markdown",
      "metadata": {
        "id": "Y9MT2WXQiMdz"
      },
      "source": [
        "  <h2 style=\"color:Orange;\"> Holt method</h2>\n"
      ]
    },
    {
      "cell_type": "code",
      "execution_count": 35,
      "metadata": {
        "colab": {
          "base_uri": "https://localhost:8080/",
          "height": 377
        },
        "id": "85S6GbZciMdz",
        "outputId": "baaac281-d938-4f13-d75e-126cbea62961"
      },
      "outputs": [
        {
          "output_type": "stream",
          "name": "stdout",
          "text": [
            "Train MAE: 1.4160751613499574\n",
            "Test MAE: 1.4697652088725872 \n",
            "\n",
            "Train RMSE : 1.8621339923699782 \n",
            "Test RMSE : 1.9823784453655764 \n",
            "\n"
          ]
        },
        {
          "output_type": "display_data",
          "data": {
            "text/plain": [
              "<Figure size 432x288 with 1 Axes>"
            ],
            "image/png": "[encoded data removed]"
          },
          "metadata": {
            "needs_background": "light"
          }
        }
      ],
      "source": [
        "# Holt method \n",
        "hw_model = Holt(Train[\"CO2\"]).fit(smoothing_level=0.02, smoothing_slope=0.2)\n",
        "\n",
        "pred_hw_train = hw_model.predict(start = Train.index[0],end = Train.index[-1])\n",
        "\n",
        "pred_hw_test = hw_model.predict(start = Test.index[0],end = Test.index[-1])\n",
        "\n",
        "plt.plot(Train.CO2)\n",
        "plt.plot(Test.CO2)\n",
        "\n",
        "plt.plot(pred_hw_train)\n",
        "plt.plot(pred_hw_test)\n",
        "\n",
        "rmse_train = sqrt(mean_squared_error(Train.CO2, pred_hw_train))\n",
        "rmse_test = sqrt(mean_squared_error(Test.CO2, pred_hw_test))\n",
        "\n",
        "print('Train MAE:', mean_absolute_error(Train.CO2,pred_hw_train)) \n",
        "print('Test MAE:', mean_absolute_error(Test.CO2,pred_hw_test),'\\n') \n",
        "\n",
        "print('Train RMSE :',rmse_train ,'\\n' 'Test RMSE :',rmse_test,'\\n')\n",
        "#print('Train MAPE :',MAPE(pred_hw_train,Train.CO2) ,'\\n''Test MAPE :',MAPE(pred_hw_test,Test.CO2))"
      ]
    },
    {
      "cell_type": "markdown",
      "metadata": {
        "id": "F6MKf4MRiMd0"
      },
      "source": [
        "  <h2 style=\"color:Orange;\"> Holts winter exponential smoothing with additive seasonality and additive trend\n",
        "</h2>\n",
        "\n"
      ]
    },
    {
      "cell_type": "code",
      "execution_count": 36,
      "metadata": {
        "colab": {
          "base_uri": "https://localhost:8080/",
          "height": 413
        },
        "id": "v0mn90QWiMd0",
        "outputId": "4b771dc3-b96d-490a-91f6-dfadda64c099"
      },
      "outputs": [
        {
          "output_type": "stream",
          "name": "stdout",
          "text": [
            "Train RMSE : 0.5432615233231581 \n",
            "Test RMSE : 5.109619692304882 \n",
            "\n",
            "Train MAPE : 563.9535184847776 \n",
            "Test MAPE : 29.337181360060075 \n",
            "\n",
            "Train MAE: 0.33025691677331637\n",
            "Test MAE: 4.717558369938694\n"
          ]
        },
        {
          "output_type": "display_data",
          "data": {
            "text/plain": [
              "<Figure size 432x288 with 1 Axes>"
            ],
            "image/png": "[encoded data removed]"
          },
          "metadata": {
            "needs_background": "light"
          }
        }
      ],
      "source": [
        "# Holts winter exponential smoothing with additive seasonality and additive trend\n",
        "\n",
        "hwe_model_add_add = ExponentialSmoothing(Train[\"CO2\"],seasonal=\"add\",trend=\"add\",seasonal_periods=4,damped=True).fit()\n",
        "pred_hwe_add_add_train = hwe_model_add_add.predict(start = Train.index[0],end = Train.index[-1])\n",
        "pred_hwe_add_add_test = hwe_model_add_add.predict(start = Test.index[0],end = Test.index[-1])\n",
        "#MAPE(pred_hwe_add_add,Test.CO2)\n",
        "plt.plot(Train.CO2)\n",
        "plt.plot(Test.CO2)\n",
        "plt.plot(pred_hwe_add_add_train)\n",
        "plt.plot(pred_hwe_add_add_test)\n",
        "rmseTrain = sqrt(mean_squared_error(Train.CO2, pred_hwe_add_add_train))\n",
        "rmseTest = sqrt(mean_squared_error(Test.CO2, pred_hwe_add_add_test))\n",
        "\n",
        "print('Train RMSE :',rmseTrain ,'\\n''Test RMSE :',rmseTest,'\\n')\n",
        "print( 'Train MAPE :',MAPE(pred_hwe_add_add_train,Train.CO2),'\\n''Test MAPE :',MAPE(pred_hwe_add_add_test,Test.CO2),'\\n')\n",
        "print('Train MAE:', mean_absolute_error(Train.CO2,pred_hwe_add_add_train)) \n",
        "print('Test MAE:', mean_absolute_error(Test.CO2,pred_hwe_add_add_test)) "
      ]
    },
    {
      "cell_type": "code",
      "execution_count": 37,
      "metadata": {
        "colab": {
          "base_uri": "https://localhost:8080/",
          "height": 283
        },
        "id": "B-TpGcKZiMd0",
        "outputId": "372904fd-d3f1-423e-d09a-19aa321f4dc0"
      },
      "outputs": [
        {
          "output_type": "execute_result",
          "data": {
            "text/plain": [
              "<matplotlib.legend.Legend at 0x7f422bdc6ed0>"
            ]
          },
          "metadata": {},
          "execution_count": 37
        },
        {
          "output_type": "display_data",
          "data": {
            "text/plain": [
              "<Figure size 432x288 with 1 Axes>"
            ],
            "image/png": "[encoded data removed]"
          },
          "metadata": {
            "needs_background": "light"
          }
        }
      ],
      "source": [
        "# Visualization of Forecasted values for Test data set using different methods \n",
        "plt.plot(Train.index, Train[\"CO2\"], label='Train',color=\"black\")\n",
        "plt.plot(Test.index, Test[\"CO2\"], label='Test',color=\"blue\")\n",
        "plt.plot(pred_ses_test.index, pred_ses_test, label='SimpleExponential',color=\"green\")\n",
        "plt.plot(pred_hw_test.index, pred_hw_test, label='Halt method',color=\"red\")\n",
        "plt.plot(pred_hwe_add_add_test.index,pred_hwe_add_add_test,label=\"hwe_add_add\",color=\"brown\")\n",
        "plt.legend(loc='best')"
      ]
    },
    {
      "cell_type": "code",
      "execution_count": 38,
      "metadata": {
        "colab": {
          "base_uri": "https://localhost:8080/"
        },
        "id": "ABebJI6giMd0",
        "outputId": "d084d6ab-9613-4891-d01c-dd3d73520209"
      },
      "outputs": [
        {
          "output_type": "stream",
          "name": "stdout",
          "text": [
            "Dataset 205, Validation 10\n"
          ]
        }
      ],
      "source": [
        "##### separate out a validation dataset\n",
        "split_point = len(data) - 10\n",
        "dataset, validation = data[0:split_point], data[split_point:]\n",
        "print('Dataset %d, Validation %d' % (len(dataset), len(validation)))\n",
        "dataset.to_csv('dataset.csv', header=False)\n",
        "validation.to_csv('validation.csv', header=False)"
      ]
    },
    {
      "cell_type": "code",
      "execution_count": 39,
      "metadata": {
        "id": "y2KVofp7iMd1"
      },
      "outputs": [],
      "source": [
        "# evaluate a persistence model\n",
        "from pandas import read_csv\n",
        "from sklearn.metrics import mean_squared_error\n",
        "from math import sqrt\n",
        "import pandas as pd\n",
        "#train1 = pd.read_excel('CO2 dataset.xlsx', header=None, index_col=0, parse_dates=True, squeeze=True)\n",
        "X = data['CO2'].values\n",
        "train, test = X[1:180], X[180:]\n"
      ]
    },
    {
      "cell_type": "code",
      "execution_count": 40,
      "metadata": {
        "colab": {
          "base_uri": "https://localhost:8080/"
        },
        "id": "hafLEY4iiMd1",
        "outputId": "d8162f9a-03ab-4273-aef8-7650946747f4"
      },
      "outputs": [
        {
          "output_type": "stream",
          "name": "stdout",
          "text": [
            ">Predicted=18.200, Expected=18.100\n",
            ">Predicted=18.100, Expected=17.300\n",
            ">Predicted=17.300, Expected=16.600\n",
            ">Predicted=16.600, Expected=16.200\n",
            ">Predicted=16.200, Expected=16.600\n",
            ">Predicted=16.600, Expected=16.300\n",
            ">Predicted=16.300, Expected=15.500\n",
            ">Predicted=15.500, Expected=16.200\n",
            ">Predicted=16.200, Expected=16.900\n",
            ">Predicted=16.900, Expected=17.000\n",
            ">Predicted=17.000, Expected=15.700\n",
            ">Predicted=15.700, Expected=15.200\n",
            ">Predicted=15.200, Expected=15.500\n",
            ">Predicted=15.500, Expected=15.500\n",
            ">Predicted=15.500, Expected=15.700\n",
            ">Predicted=15.700, Expected=15.900\n",
            ">Predicted=15.900, Expected=16.200\n",
            ">Predicted=16.200, Expected=16.600\n",
            ">Predicted=16.600, Expected=16.800\n",
            ">Predicted=16.800, Expected=16.900\n",
            ">Predicted=16.900, Expected=17.400\n",
            ">Predicted=17.400, Expected=17.000\n",
            ">Predicted=17.000, Expected=16.600\n",
            ">Predicted=16.600, Expected=17.500\n",
            ">Predicted=17.500, Expected=17.300\n",
            ">Predicted=17.300, Expected=17.300\n",
            ">Predicted=17.300, Expected=16.700\n",
            ">Predicted=16.700, Expected=16.800\n",
            ">Predicted=16.800, Expected=16.800\n",
            ">Predicted=16.800, Expected=15.900\n",
            ">Predicted=15.900, Expected=15.600\n",
            ">Predicted=15.600, Expected=15.600\n",
            ">Predicted=15.600, Expected=14.800\n",
            ">Predicted=14.800, Expected=14.700\n",
            ">Predicted=14.700, Expected=15.100\n",
            "\n",
            "RMSE : 0.5096217084409629\n",
            "MAE: 0.40285714285714297\n"
          ]
        }
      ],
      "source": [
        "# walk-forward validation\n",
        "history = [x for x in train]\n",
        "predictions = list()\n",
        "for i in range(len(test)):\n",
        "    yhat = history[-1]\n",
        "    predictions.append(yhat)\n",
        "# observation\n",
        "    obs = test[i]\n",
        "    history.append(obs)\n",
        "    print('>Predicted=%.3f, Expected=%.3f' % (yhat, obs))\n",
        "# report performance\n",
        "rmse = sqrt(mean_squared_error(test, predictions))\n",
        "print('\\nRMSE :',rmse)\n",
        "print('MAE:', mean_absolute_error(test,predictions)) \n"
      ]
    },
    {
      "cell_type": "markdown",
      "metadata": {
        "id": "rhUSGbxQiMd1"
      },
      "source": [
        "\n",
        "  <h2 style=\"color:Orange;\">   ARIMA Hyperparameters</h2>\n"
      ]
    },
    {
      "cell_type": "code",
      "execution_count": 41,
      "metadata": {
        "colab": {
          "base_uri": "https://localhost:8080/"
        },
        "id": "HNIap0RsiMd1",
        "outputId": "6af0c7fe-8f4d-4803-b5a5-178610ef2936"
      },
      "outputs": [
        {
          "output_type": "stream",
          "name": "stdout",
          "text": [
            "0.5096217084409629\n"
          ]
        }
      ],
      "source": [
        "# grid search ARIMA parameters for a time series\n",
        "\n",
        "import warnings\n",
        "from pandas import read_csv\n",
        "from statsmodels.tsa.arima_model import ARIMA\n",
        "from sklearn.metrics import mean_squared_error\n",
        "from math import sqrt\n",
        "\n",
        "\n",
        "# evaluate an ARIMA model for a given order (p,d,q) and return RMSE\n",
        "def evaluate_arima_model(X, arima_order):\n",
        "# prepare training dataset\n",
        "    history = [x for x in train]\n",
        "# make predictions\n",
        "    predictions = list()\n",
        "    for t in range(len(test)):\n",
        "        model = ARIMA(history, order=arima_order)\n",
        "# model_fit = model.fit(disp=0)\n",
        "        model_fit = model.fit(disp=0)\n",
        "        yhat = model_fit.forecast()[0]\n",
        "        predictions.append(yhat)\n",
        "        history.append(test[t])\n",
        "# calculate out of sample error\n",
        "    rmse = sqrt(mean_squared_error(test, predictions))\n",
        "    return rmse\n",
        "print(rmse)"
      ]
    },
    {
      "cell_type": "markdown",
      "metadata": {
        "id": "w1MJyz1tiMd2"
      },
      "source": [
        "\n",
        "<h2 style=\"color:Orange;\">  Grid search for p,d,q values</h2>\n"
      ]
    },
    {
      "cell_type": "code",
      "execution_count": 42,
      "metadata": {
        "id": "zRLN6YeiiMd2"
      },
      "outputs": [],
      "source": [
        "# evaluate combinations of p, d and q values for an ARIMA model\n",
        "def evaluate_models(dataset, p_values, d_values, q_values):\n",
        "    #dataset = dataset.astype('float32')\n",
        "    best_score, best_cfg = float('inf'), None\n",
        "    for p in p_values:\n",
        "        for d in d_values:\n",
        "            for q in q_values:\n",
        "                order = (p,d,q)\n",
        "                try:\n",
        "                    rmse = evaluate_arima_model(train, order)\n",
        "                    if rmse < best_score:\n",
        "                        best_score, best_cfg = rmse, order\n",
        "                    print('ARIMA%s RMSE=%.3f' % (order,rmse))\n",
        "                    \n",
        "                except:\n",
        "                    continue\n",
        "    print('Best ARIMA%s RMSE=%.3f' % (best_cfg, best_score))"
      ]
    },
    {
      "cell_type": "code",
      "execution_count": null,
      "metadata": {
        "colab": {
          "base_uri": "https://localhost:8080/"
        },
        "id": "juRYTYoCiMd2",
        "outputId": "ca081f4c-bf98-44b4-d412-f29dc0892072"
      },
      "outputs": [
        {
          "name": "stdout",
          "output_type": "stream",
          "text": [
            "ARIMA(0, 0, 0) RMSE=10.516\n",
            "ARIMA(0, 0, 1) RMSE=5.438\n",
            "ARIMA(0, 1, 0) RMSE=0.533\n",
            "ARIMA(0, 1, 1) RMSE=0.542\n",
            "ARIMA(0, 1, 2) RMSE=0.532\n",
            "ARIMA(0, 2, 0) RMSE=0.687\n",
            "ARIMA(0, 2, 1) RMSE=0.569\n",
            "ARIMA(0, 2, 2) RMSE=0.584\n",
            "ARIMA(1, 0, 0) RMSE=0.507\n",
            "ARIMA(1, 1, 0) RMSE=0.541\n",
            "ARIMA(1, 1, 2) RMSE=0.530\n",
            "ARIMA(1, 2, 0) RMSE=0.685\n",
            "ARIMA(1, 2, 1) RMSE=0.581\n",
            "ARIMA(2, 0, 0) RMSE=0.509\n",
            "ARIMA(2, 1, 0) RMSE=0.534\n",
            "ARIMA(2, 1, 1) RMSE=0.531\n",
            "ARIMA(2, 1, 2) RMSE=0.534\n",
            "ARIMA(2, 2, 0) RMSE=0.620\n",
            "ARIMA(2, 2, 1) RMSE=0.582\n",
            "ARIMA(2, 2, 2) RMSE=0.576\n",
            "Best ARIMA(1, 0, 0) RMSE=0.507\n"
          ]
        }
      ],
      "source": [
        "\n",
        "# evaluate parameters\n",
        "p_values = range(0, 3)\n",
        "d_values = range(0, 3)\n",
        "q_values = range(0, 3)\n",
        "warnings.filterwarnings(\"ignore\")\n",
        "evaluate_models(data.values, p_values, d_values, q_values)\n"
      ]
    },
    {
      "cell_type": "markdown",
      "metadata": {
        "id": "BpSGJHkPiMd2"
      },
      "source": [
        "<h2 style=\"color:Orange;\">  Build Model based on the optimized values</h2>\n"
      ]
    },
    {
      "cell_type": "code",
      "execution_count": 44,
      "metadata": {
        "id": "A5JGZGI4iMd3"
      },
      "outputs": [],
      "source": [
        "##### save finalized model to file\n",
        "from pandas import read_csv\n",
        "from statsmodels.tsa.arima_model import ARIMA\n",
        "import numpy"
      ]
    },
    {
      "cell_type": "code",
      "execution_count": 45,
      "metadata": {
        "id": "QeYEsqfqiMd3"
      },
      "outputs": [],
      "source": [
        "train_data = data.loc[:'2000-01-01','CO2']\n",
        "test_data = data.loc['2000-01-01':]"
      ]
    },
    {
      "cell_type": "code",
      "execution_count": 46,
      "metadata": {
        "colab": {
          "base_uri": "https://localhost:8080/",
          "height": 513
        },
        "id": "wfHdh9wONYZo",
        "outputId": "f331c8e7-9356-4f02-8ba0-a23aaafbe7d8"
      },
      "outputs": [
        {
          "output_type": "execute_result",
          "data": {
            "text/plain": [
              "<Figure size 432x288 with 1 Axes>"
            ],
            "image/png": "[encoded data removed]"
          },
          "metadata": {},
          "execution_count": 46
        },
        {
          "output_type": "display_data",
          "data": {
            "text/plain": [
              "<Figure size 432x288 with 1 Axes>"
            ],
            "image/png": "[encoded data removed]"
          },
          "metadata": {
            "needs_background": "light"
          }
        }
      ],
      "source": [
        "\n",
        "# fit model\n",
        "model = ARIMA(train_data, order=(1,0,0))\n",
        "model_fit = model.fit()\n",
        "forecast=model_fit.forecast(steps=10)[0]\n",
        "model_fit.plot_predict(1, 215)\n",
        "\n"
      ]
    },
    {
      "cell_type": "code",
      "execution_count": 47,
      "metadata": {
        "id": "CLVYZ3y7iMd3"
      },
      "outputs": [],
      "source": [
        "\n",
        "from statsmodels.tsa.ar_model import AutoReg\n",
        "\n",
        "\n",
        "# Instantiate and fit the AR model with training data\n",
        "ar_model = AutoReg(train_data, lags=15).fit()\n",
        "\n",
        "# Print Summary\n",
        "#print(ar_model.summary())"
      ]
    },
    {
      "cell_type": "code",
      "execution_count": 48,
      "metadata": {
        "colab": {
          "base_uri": "https://localhost:8080/",
          "height": 313
        },
        "id": "PvevTGoBiMd3",
        "outputId": "becee179-92ce-45cc-b291-9c346013e0a0"
      },
      "outputs": [
        {
          "output_type": "stream",
          "name": "stdout",
          "text": [
            "RMSE: 2.8993895391271165\n",
            "MAE: 2.4944883862327614\n"
          ]
        },
        {
          "output_type": "display_data",
          "data": {
            "text/plain": [
              "<Figure size 432x288 with 1 Axes>"
            ],
            "image/png": "[encoded data removed]"
          },
          "metadata": {
            "needs_background": "light"
          }
        }
      ],
      "source": [
        "ar_forecast = ar_model.predict('2000-01-01', '2014-01-01')\n",
        "\n",
        "plt.title('AR Model Results', size=7)\n",
        "plt.plot(data.loc['2000-01-01':,'CO2'],label='Actual')\n",
        "plt.plot(ar_forecast,label='Predicted')\n",
        "plt.legend();\n",
        "\n",
        "print('RMSE:', np.sqrt(mean_squared_error(data.loc['2000-01-01':,'CO2'],ar_forecast)))\n",
        "print('MAE:', mean_absolute_error(data.loc['2000-01-01':,'CO2'],ar_forecast))"
      ]
    },
    {
      "cell_type": "code",
      "execution_count": 49,
      "metadata": {
        "id": "Yi5W-MB9T7jS"
      },
      "outputs": [],
      "source": [
        "train_datafd = data.loc['1801-01-01':'2000-01-01','First Difference']\n",
        "\n",
        "# Instantiate and fit the AR model with training data\n",
        "ar_modelfd = AutoReg(train_datafd, lags=15).fit()\n",
        "\n",
        "# Print Summary\n",
        "#print(ar_modelfd.summary())"
      ]
    },
    {
      "cell_type": "code",
      "execution_count": 50,
      "metadata": {
        "colab": {
          "base_uri": "https://localhost:8080/",
          "height": 312
        },
        "id": "mzJgOSBHiMd4",
        "outputId": "3588991c-5257-4842-9016-e6614d8224a3"
      },
      "outputs": [
        {
          "output_type": "stream",
          "name": "stdout",
          "text": [
            "RMSE: 0.5778821815728581\n",
            "MAE: 0.4887965066595153\n"
          ]
        },
        {
          "output_type": "display_data",
          "data": {
            "text/plain": [
              "<Figure size 432x288 with 1 Axes>"
            ],
            "image/png": "[encoded data removed]"
          },
          "metadata": {
            "needs_background": "light"
          }
        }
      ],
      "source": [
        "\n",
        "\n",
        "ar_forecastfd = ar_modelfd.predict('2000-01-01', '2014-01-01')\n",
        "plt.title('AR Model Results', size=6)\n",
        "plt.plot(data.loc['2000-01-01':,'First Difference'],label='Actual')\n",
        "plt.plot(ar_forecastfd,label='Predicted')\n",
        "plt.legend();\n",
        "\n",
        "print('RMSE:',np.sqrt(mean_squared_error(data.loc['2000-01-01':,'First Difference'],ar_forecastfd)))\n",
        "print('MAE:',mean_absolute_error(data.loc['2000-01-01':,'First Difference'],ar_forecastfd))"
      ]
    },
    {
      "cell_type": "code",
      "execution_count": 51,
      "metadata": {
        "colab": {
          "base_uri": "https://localhost:8080/",
          "height": 809
        },
        "id": "2bhLC3qESCVR",
        "outputId": "bc9fdfeb-1b34-4b8e-8db8-4d7894f9252d"
      },
      "outputs": [
        {
          "output_type": "execute_result",
          "data": {
            "text/plain": [
              "<Figure size 432x288 with 1 Axes>"
            ],
            "image/png": "[encoded data removed]"
          },
          "metadata": {},
          "execution_count": 51
        },
        {
          "output_type": "display_data",
          "data": {
            "text/plain": [
              "<Figure size 432x288 with 1 Axes>"
            ],
            "image/png": "[encoded data removed]"
          },
          "metadata": {
            "needs_background": "light"
          }
        },
        {
          "output_type": "display_data",
          "data": {
            "text/plain": [
              "<Figure size 432x288 with 1 Axes>"
            ],
            "image/png": "[encoded data removed]"
          },
          "metadata": {
            "needs_background": "light"
          }
        }
      ],
      "source": [
        "plot_acf(data.CO2.diff().dropna())\n",
        "\n",
        "plot_pacf(data.CO2.diff().dropna())"
      ]
    },
    {
      "cell_type": "code",
      "execution_count": 52,
      "metadata": {
        "colab": {
          "base_uri": "https://localhost:8080/",
          "height": 292
        },
        "id": "U9mb_BjkiMd4",
        "outputId": "54c87697-d326-4735-ae01-61c6adc84f0d"
      },
      "outputs": [
        {
          "output_type": "stream",
          "name": "stdout",
          "text": [
            "RMSE: 0.4937785044180157\n",
            "MAE 0.42215544587373893\n"
          ]
        },
        {
          "output_type": "display_data",
          "data": {
            "text/plain": [
              "<Figure size 432x288 with 1 Axes>"
            ],
            "image/png": "[encoded data removed]"
          },
          "metadata": {
            "needs_background": "light"
          }
        }
      ],
      "source": [
        "from statsmodels.tsa.arima.model import ARIMA\n",
        "from sklearn.metrics import mean_absolute_percentage_error\n",
        "\n",
        "arima2 = ARIMA(data.loc[:,'CO2'], order=(7, 1, 2))\n",
        "results2 = arima2.fit()\n",
        "predictions2 = results2.predict('2000-01-01', '2014-01-01')\n",
        "\n",
        "plt.plot(data.loc['2000-01-01':,'CO2'],label='Actual')\n",
        "predictions2.plot()\n",
        "plt.legend();\n",
        "\n",
        "print('RMSE:',np.sqrt(mean_squared_error(data.loc['2000-01-01':,'CO2'],predictions2)))\n",
        "print('MAE',mean_absolute_error(data.loc['2000-01-01':,'CO2'],predictions2))\n",
        "#print('MAPE',mean_absolute_percentage_error(data.loc['2000-01-01':,'First Difference'],predictions2)*100) "
      ]
    },
    {
      "cell_type": "code",
      "execution_count": 53,
      "metadata": {
        "colab": {
          "base_uri": "https://localhost:8080/",
          "height": 974
        },
        "id": "XQWT5apRiMd4",
        "outputId": "8621f1ca-6df1-481a-9be5-6cc0508c0305"
      },
      "outputs": [
        {
          "output_type": "stream",
          "name": "stdout",
          "text": [
            "                               SARIMAX Results                                \n",
            "==============================================================================\n",
            "Dep. Variable:                    CO2   No. Observations:                  215\n",
            "Model:                 ARIMA(7, 1, 2)   Log Likelihood                -167.416\n",
            "Date:                Wed, 07 Sep 2022   AIC                            354.832\n",
            "Time:                        15:41:59   BIC                            388.492\n",
            "Sample:                    01-01-1800   HQIC                           368.434\n",
            "                         - 01-01-2014                                         \n",
            "Covariance Type:                  opg                                         \n",
            "==============================================================================\n",
            "                 coef    std err          z      P>|z|      [0.025      0.975]\n",
            "------------------------------------------------------------------------------\n",
            "ar.L1         -0.5400      0.113     -4.785      0.000      -0.761      -0.319\n",
            "ar.L2         -0.8673      0.098     -8.857      0.000      -1.059      -0.675\n",
            "ar.L3          0.0399      0.067      0.596      0.551      -0.091       0.171\n",
            "ar.L4         -0.0226      0.072     -0.314      0.753      -0.164       0.118\n",
            "ar.L5          0.2304      0.071      3.229      0.001       0.091       0.370\n",
            "ar.L6          0.1311      0.056      2.353      0.019       0.022       0.240\n",
            "ar.L7          0.2396      0.052      4.607      0.000       0.138       0.342\n",
            "ma.L1          0.5282      0.102      5.162      0.000       0.328       0.729\n",
            "ma.L2          0.7805      0.092      8.459      0.000       0.600       0.961\n",
            "sigma2         0.2791      0.022     12.522      0.000       0.235       0.323\n",
            "===================================================================================\n",
            "Ljung-Box (L1) (Q):                   0.06   Jarque-Bera (JB):                36.87\n",
            "Prob(Q):                              0.80   Prob(JB):                         0.00\n",
            "Heteroskedasticity (H):             267.67   Skew:                            -0.22\n",
            "Prob(H) (two-sided):                  0.00   Kurtosis:                         4.99\n",
            "===================================================================================\n",
            "\n",
            "Warnings:\n",
            "[1] Covariance matrix calculated using the outer product of gradients (complex-step).\n"
          ]
        },
        {
          "output_type": "display_data",
          "data": {
            "text/plain": [
              "<Figure size 864x504 with 1 Axes>"
            ],
            "image/png": "[encoded data removed]"
          },
          "metadata": {
            "needs_background": "light"
          }
        }
      ],
      "source": [
        "from statsmodels.tsa.arima.model import ARIMA\n",
        "\n",
        "arima = ARIMA(data.loc[:,'CO2'], order=(7,1,2))\n",
        "resultf = arima.fit()\n",
        "predictionf = resultf.predict('2014-01-01', '2050-01-01')\n",
        "plt.figure(figsize=(12,7))\n",
        "plt.plot(data.loc[:,'CO2'],label='Actual')\n",
        "predictionf.plot()\n",
        "plt.legend();\n",
        "print(resultf.summary())"
      ]
    },
    {
      "cell_type": "code",
      "execution_count": 54,
      "metadata": {
        "colab": {
          "base_uri": "https://localhost:8080/"
        },
        "id": "_SLgVQJ2iMd5",
        "outputId": "ad6245d3-4b2e-41be-aafc-7c13f36c4ac5"
      },
      "outputs": [
        {
          "output_type": "stream",
          "name": "stdout",
          "text": [
            "\u001b[K     |████████████████████████████████| 9.1 MB 5.5 MB/s \n",
            "\u001b[K     |████████████████████████████████| 235 kB 48.7 MB/s \n",
            "\u001b[K     |████████████████████████████████| 164 kB 40.2 MB/s \n",
            "\u001b[K     |████████████████████████████████| 181 kB 49.3 MB/s \n",
            "\u001b[K     |████████████████████████████████| 4.7 MB 35.8 MB/s \n",
            "\u001b[K     |████████████████████████████████| 78 kB 7.5 MB/s \n",
            "\u001b[K     |████████████████████████████████| 63 kB 1.7 MB/s \n",
            "\u001b[K     |████████████████████████████████| 51 kB 6.4 MB/s \n",
            "\u001b[?25h  Building wheel for validators (setup.py) ... \u001b[?25l\u001b[?25hdone\n",
            "\u001b[K\u001b[?25h/tools/node/bin/lt -> /tools/node/lib/node_modules/localtunnel/bin/lt.js\n",
            "\u001b[K\u001b[?25h+ localtunnel@2.0.2\n",
            "added 22 packages from 22 contributors in 2.443s\n"
          ]
        }
      ],
      "source": [
        "#Install streamlit \n",
        "# NB : If any error occurs during installation process , run it again\n",
        "!pip install -q streamlit\n",
        "!npm install -g localtunnel -U"
      ]
    },
    {
      "cell_type": "code",
      "execution_count": 64,
      "metadata": {
        "colab": {
          "base_uri": "https://localhost:8080/"
        },
        "id": "mQTkjy4LiMd5",
        "outputId": "610e1bac-060a-4bd4-b765-169e1109bbd3"
      },
      "outputs": [
        {
          "output_type": "stream",
          "name": "stdout",
          "text": [
            "Overwriting main.py\n"
          ]
        }
      ],
      "source": [
        "%%writefile main.py \n",
        "\n",
        "\n",
        "import streamlit as st\n",
        "import pandas as pd \n",
        "from statsmodels.tsa.arima.model import ARIMA\n",
        "import numpy as np \n",
        "from matplotlib import pyplot as plt\n",
        "import warnings\n",
        "warnings.filterwarnings(\"ignore\")\n",
        "import matplotlib.pyplot as plt\n",
        "from matplotlib import pyplot\n",
        "\n",
        "\n",
        "\n",
        "data = pd.read_csv(\"CO2 dataset.csv\")\n",
        "data2 = pd.read_csv(\"CO2 dataset.csv\",header=0, index_col=0,parse_dates=True )\n",
        "\n",
        "\n",
        "final_arima = ARIMA(data2['CO2'],order = (7,1,2))\n",
        "final_arima = final_arima.fit()\n",
        "\n",
        "\n",
        "\n",
        "st.title(\"Forecasting CO2 Emission\")\n",
        "nav = st.sidebar.radio(\"Navigation\",[\"About data\",\"Prediction\",\"Forecast\"])\n",
        "if nav == \"About data\":\n",
        "    st.subheader(\"Data\")\n",
        "    data\n",
        "    st.subheader(\"Scatter plot of the data\")\n",
        "    st.set_option('deprecation.showPyplotGlobalUse', False)\n",
        "    plt.figure(figsize = (10,5))\n",
        "    plt.scatter(data[\"Year\"],data[\"CO2\"])\n",
        "    plt.ylim(0)\n",
        "    plt.xlabel(\"Years\")\n",
        "    plt.ylabel(\"CO2 Emission\")\n",
        "    plt.tight_layout()\n",
        "    st.pyplot()\n",
        "\n",
        "\n",
        "    st.subheader(\"Line plot of the data\") \n",
        "    st.line_chart(data=data.CO2, width=150, height=300, use_container_width=True)\n",
        "   \n",
        "\n",
        "    st.subheader(\"Histogram of the data\") \n",
        "    fig= plt.figure(figsize=(10,4))\n",
        "    plt.hist(data.CO2)\n",
        "    st.pyplot(fig)\n",
        " \n",
        "\n",
        "  \n",
        "  \n",
        "if nav == \"Prediction\":\n",
        "   predict = final_arima.fittedvalues\n",
        "   data2[\"Predicted_CO2\"] = predict\n",
        "   data2\n",
        "   plt.plot(data2.CO2, label='original',color='black')\n",
        "   plt.plot(predict, label='Predicted',color='red')\n",
        "   plt.title('Prediction')\n",
        "   plt.legend(loc='upper left', fontsize=8)\n",
        "   st.pyplot()\n",
        "  \n",
        "\n",
        "\n",
        "if nav == \"Forecast\":\n",
        "    \n",
        "    year = st.slider(\"Select number of Year from 2015\",1,21,step = 1)\n",
        "\n",
        "    st.subheader(\"Forecasting the data for next few years\")\n",
        "    \n",
        "    \n",
        "    pred = final_arima.forecast(year)\n",
        "   \n",
        "    if st.button(\"Predict\"):\n",
        "       st.subheader(f\"Your predicted CO2 emission from year 2015\" )\n",
        "       pred\n",
        "\n",
        "       st.subheader(\"Line plot of the Forecasted data\")\n",
        "       plt.plot(data2.CO2, label='original')\n",
        "       plt.plot(pred, label='Predicted')\n",
        "       plt.title('Forecast')\n",
        "       plt.legend(loc='upper left', fontsize=8)\n",
        "       st.pyplot()\n",
        "  \n",
        "\n",
        "       st.subheader(\"Histogram of the Forecasted data\") \n",
        "       fig1= plt.figure(figsize=(10,4))\n",
        "       plt.hist(pred)\n",
        "       st.pyplot(fig1)"
      ]
    },
    {
      "cell_type": "markdown",
      "metadata": {
        "id": "aCQQ-zFOiMd6"
      },
      "source": []
    },
    {
      "cell_type": "code",
      "execution_count": null,
      "metadata": {
        "colab": {
          "base_uri": "https://localhost:8080/"
        },
        "id": "1nAGvzw0iMd6",
        "outputId": "2962c7a4-4bfa-4a5e-ee79-b747d5edbac0"
      },
      "outputs": [
        {
          "output_type": "stream",
          "name": "stdout",
          "text": [
            "2022-09-07 15:53:39.349 INFO    numexpr.utils: NumExpr defaulting to 2 threads.\n",
            "\u001b[K\u001b[?25hnpx: installed 22 in 3.087s\n",
            "\u001b[0m\n",
            "\u001b[34m\u001b[1m  You can now view your Streamlit app in your browser.\u001b[0m\n",
            "\u001b[0m\n",
            "\u001b[34m  Network URL: \u001b[0m\u001b[1mhttp://172.28.0.2:8501\u001b[0m\n",
            "\u001b[34m  External URL: \u001b[0m\u001b[1mhttp://35.238.65.190:8501\u001b[0m\n",
            "\u001b[0m\n",
            "your url is: https://young-tips-peel-35-238-65-190.loca.lt\n"
          ]
        }
      ],
      "source": [
        "\n",
        "!streamlit run main.py & npx localtunnel --port 8501 \n"
      ]
    },
    {
      "cell_type": "code",
      "execution_count": null,
      "metadata": {
        "id": "sNPYzD2kiMd6"
      },
      "outputs": [],
      "source": []
    },
    {
      "cell_type": "markdown",
      "metadata": {
        "id": "v2jz58mBiMd7"
      },
      "source": []
    }
  ],
  "metadata": {
    "colab": {
      "provenance": []
    },
    "kernelspec": {
      "display_name": "Python 3",
      "language": "python",
      "name": "python3"
    },
    "language_info": {
      "codemirror_mode": {
        "name": "ipython",
        "version": 3
      },
      "file_extension": ".py",
      "mimetype": "text/x-python",
      "name": "python",
      "nbconvert_exporter": "python",
      "pygments_lexer": "ipython3",
      "version": "3.7.12"
    }
  },
  "nbformat": 4,
  "nbformat_minor": 0
}